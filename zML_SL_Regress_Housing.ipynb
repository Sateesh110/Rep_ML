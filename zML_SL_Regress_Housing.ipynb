{
  "nbformat": 4,
  "nbformat_minor": 0,
  "metadata": {
    "colab": {
      "name": "z_ML_Template.ipynb",
      "provenance": [],
      "authorship_tag": "ABX9TyMOGv2HC5pv9WqNnHveJQ/o",
      "include_colab_link": true
    },
    "kernelspec": {
      "name": "python3",
      "display_name": "Python 3"
    }
  },
  "cells": [
    {
      "cell_type": "markdown",
      "metadata": {
        "id": "view-in-github",
        "colab_type": "text"
      },
      "source": [
        "<a href=\"https://colab.research.google.com/github/Sateesh110/Rep_ML/blob/master/zML_SL_Regress_Housing.ipynb\" target=\"_parent\"><img src=\"https://colab.research.google.com/assets/colab-badge.svg\" alt=\"Open In Colab\"/></a>"
      ]
    },
    {
      "cell_type": "markdown",
      "metadata": {
        "id": "br7ibH74lie7"
      },
      "source": [
        "#Before we Begin:"
      ]
    },
    {
      "cell_type": "markdown",
      "metadata": {
        "id": "4gJaFAHQlnCk"
      },
      "source": [
        "#Problem Statement :"
      ]
    },
    {
      "cell_type": "markdown",
      "metadata": {
        "id": "pKYSVCpdlo8F"
      },
      "source": [
        "#Solution Approach:"
      ]
    },
    {
      "cell_type": "markdown",
      "metadata": {
        "id": "nRXiYvnDlpTY"
      },
      "source": [
        "##Assumptions:"
      ]
    },
    {
      "cell_type": "markdown",
      "metadata": {
        "id": "oTd1GEe8l7CO"
      },
      "source": [
        "#Objective of this Kernel:"
      ]
    },
    {
      "cell_type": "markdown",
      "metadata": {
        "id": "kxO63uCImLGt"
      },
      "source": [
        "#Credits"
      ]
    },
    {
      "cell_type": "markdown",
      "metadata": {
        "id": "5irl03yzmLTf"
      },
      "source": [
        "#Import Packages"
      ]
    },
    {
      "cell_type": "code",
      "metadata": {
        "colab": {
          "base_uri": "https://localhost:8080/"
        },
        "id": "z4orGURXmsC3",
        "outputId": "adda44be-ce2a-474c-d205-b2c58cb989bd"
      },
      "source": [
        "!pip install catboost"
      ],
      "execution_count": 1,
      "outputs": [
        {
          "output_type": "stream",
          "text": [
            "Collecting catboost\n",
            "\u001b[?25l  Downloading https://files.pythonhosted.org/packages/20/37/bc4e0ddc30c07a96482abf1de7ed1ca54e59bba2026a33bca6d2ef286e5b/catboost-0.24.4-cp36-none-manylinux1_x86_64.whl (65.7MB)\n",
            "\u001b[K     |████████████████████████████████| 65.8MB 86kB/s \n",
            "\u001b[?25hRequirement already satisfied: plotly in /usr/local/lib/python3.6/dist-packages (from catboost) (4.4.1)\n",
            "Requirement already satisfied: pandas>=0.24.0 in /usr/local/lib/python3.6/dist-packages (from catboost) (1.1.5)\n",
            "Requirement already satisfied: scipy in /usr/local/lib/python3.6/dist-packages (from catboost) (1.4.1)\n",
            "Requirement already satisfied: graphviz in /usr/local/lib/python3.6/dist-packages (from catboost) (0.10.1)\n",
            "Requirement already satisfied: six in /usr/local/lib/python3.6/dist-packages (from catboost) (1.15.0)\n",
            "Requirement already satisfied: numpy>=1.16.0 in /usr/local/lib/python3.6/dist-packages (from catboost) (1.19.4)\n",
            "Requirement already satisfied: matplotlib in /usr/local/lib/python3.6/dist-packages (from catboost) (3.2.2)\n",
            "Requirement already satisfied: retrying>=1.3.3 in /usr/local/lib/python3.6/dist-packages (from plotly->catboost) (1.3.3)\n",
            "Requirement already satisfied: pytz>=2017.2 in /usr/local/lib/python3.6/dist-packages (from pandas>=0.24.0->catboost) (2018.9)\n",
            "Requirement already satisfied: python-dateutil>=2.7.3 in /usr/local/lib/python3.6/dist-packages (from pandas>=0.24.0->catboost) (2.8.1)\n",
            "Requirement already satisfied: kiwisolver>=1.0.1 in /usr/local/lib/python3.6/dist-packages (from matplotlib->catboost) (1.3.1)\n",
            "Requirement already satisfied: pyparsing!=2.0.4,!=2.1.2,!=2.1.6,>=2.0.1 in /usr/local/lib/python3.6/dist-packages (from matplotlib->catboost) (2.4.7)\n",
            "Requirement already satisfied: cycler>=0.10 in /usr/local/lib/python3.6/dist-packages (from matplotlib->catboost) (0.10.0)\n",
            "Installing collected packages: catboost\n",
            "Successfully installed catboost-0.24.4\n"
          ],
          "name": "stdout"
        }
      ]
    },
    {
      "cell_type": "code",
      "metadata": {
        "id": "8Yjy62LJmyqe"
      },
      "source": [
        "# Data Processing\r\n",
        "import numpy as np # linear algebra\r\n",
        "import pandas as pd # data processing\r\n",
        "from numpy import sort\r\n",
        "\r\n",
        "# Visulaization\r\n",
        "import matplotlib.pyplot as plt\r\n",
        "import seaborn as sns\r\n",
        "import matplotlib.patches as mpatches\r\n",
        "from pandas.plotting import scatter_matrix"
      ],
      "execution_count": 2,
      "outputs": []
    },
    {
      "cell_type": "code",
      "metadata": {
        "id": "lYMZAdn5nAUa"
      },
      "source": [
        "# XGBoost\r\n",
        "import xgboost as xgb\r\n",
        "\r\n",
        "# lightGBM\r\n",
        "from lightgbm import LGBMRegressor\r\n",
        "from lightgbm import LGBMClassifier\r\n",
        "\r\n",
        "# Scikit learn Classfiers\r\n",
        "from sklearn.linear_model import LogisticRegression\r\n",
        "from sklearn.ensemble import RandomForestClassifier, GradientBoostingRegressor ,RandomForestRegressor,GradientBoostingClassifier\r\n",
        "from xgboost.sklearn import XGBClassifier\r\n",
        "#from sklearn.tree import DecisionTreeClassifier\r\n",
        "\r\n",
        "#Catboost\r\n",
        "from catboost import CatBoostRegressor\r\n",
        "from catboost import CatBoostClassifier"
      ],
      "execution_count": 3,
      "outputs": []
    },
    {
      "cell_type": "code",
      "metadata": {
        "id": "QNj1qMM4nO6r"
      },
      "source": [
        "# Other Scikit Learn\r\n",
        "from sklearn.decomposition import PCA, TruncatedSVD\r\n",
        "from sklearn.model_selection import KFold, StratifiedKFold\r\n",
        "from scipy.stats import reciprocal, uniform\r\n",
        "from scipy.stats import expon\r\n",
        "from sklearn.metrics import precision_score, recall_score, f1_score, accuracy_score, classification_report\r\n",
        "from scipy.stats import randint, uniform\r\n",
        "from sklearn.preprocessing import LabelEncoder\r\n",
        "from sklearn.model_selection import train_test_split\r\n",
        "from sklearn.metrics import roc_auc_score, roc_curve\r\n",
        "from sklearn.metrics import mean_squared_error\r\n",
        "from sklearn.model_selection import StratifiedShuffleSplit"
      ],
      "execution_count": 63,
      "outputs": []
    },
    {
      "cell_type": "code",
      "metadata": {
        "id": "Bb9NVPbenQvD"
      },
      "source": [
        "# Others\r\n",
        "import time\r\n",
        "import collections\r\n",
        "from collections import Counter\r\n",
        "import warnings\r\n",
        "warnings.filterwarnings(\"ignore\")\r\n",
        "import gc\r\n",
        "import shutil\r\n",
        "\r\n",
        "# Reproducibility\r\n",
        "seed = 342\r\n",
        "np.random.seed(seed)\r\n",
        "\r\n",
        "#import image\r\n",
        "from IPython.display import Image\r\n",
        "\r\n",
        "import os\r\n",
        "import tarfile\r\n",
        "from six.moves import urllib"
      ],
      "execution_count": 15,
      "outputs": []
    },
    {
      "cell_type": "code",
      "metadata": {
        "id": "Ju37lE3HntFY"
      },
      "source": [
        ""
      ],
      "execution_count": 5,
      "outputs": []
    },
    {
      "cell_type": "markdown",
      "metadata": {
        "id": "uQXt7r_UooDd"
      },
      "source": [
        "##Custom Functions"
      ]
    },
    {
      "cell_type": "code",
      "metadata": {
        "id": "phG4pJ7poZFm"
      },
      "source": [
        "def df_stats(df,columns):\r\n",
        "  \"\"\"\r\n",
        "  df info\r\n",
        "  \"\"\"\r\n",
        "  stats = []\r\n",
        "  for col in columns:\r\n",
        "    stats.append((col, df[col].count(), df[col].nunique(), df[col].isnull().sum(), df[col].isnull().sum() * 100 / df.shape[0], df[col].dtype))\r\n",
        "    stats_cols = ['attribute', 'record_count', 'unique_values','missing_records', 'percent_missing_records', 'data_type']\r\n",
        "    df_stats1 = df.describe().T\r\n",
        "    df_stats1.index.names = ['attribute']\r\n",
        "    df_stats2 = pd.DataFrame(stats, columns=stats_cols)\r\n",
        "    df_stats2.set_index('attribute', inplace=True)\r\n",
        "    df_stats = pd.concat(([df_stats2,df_stats1]),axis=1)\r\n",
        "  return(df_stats)"
      ],
      "execution_count": 47,
      "outputs": []
    },
    {
      "cell_type": "code",
      "metadata": {
        "id": "JrHyoh6ppfKo"
      },
      "source": [
        "def drop_cols(df,cols):\r\n",
        "  \"\"\"\r\n",
        "  drop columns which have missing records > 90%\r\n",
        "  \"\"\"\r\n",
        "  drop_cols = []\r\n",
        "  n = 90\r\n",
        "  for col in cols:\r\n",
        "    rate = (df[col].isnull().sum() * 100 / df.shape[0])\r\n",
        "    if rate > n:\r\n",
        "      df = df.drop(col, axis=1)\r\n",
        "      drop_cols.append(col)\r\n",
        "  return(df,drop_cols)"
      ],
      "execution_count": 7,
      "outputs": []
    },
    {
      "cell_type": "code",
      "metadata": {
        "id": "dFCGipnPpzE6"
      },
      "source": [
        "def CalcOutliers(df_num):\r\n",
        "  # calculating mean and std of the array\r\n",
        "  data_mean, data_std = np.mean(df_num), np.std(df_num)\r\n",
        "  # seting the cut line to both higher and lower values\r\n",
        "  # You can change this value\r\n",
        "  cut = data_std * 3\r\n",
        "  #Calculating the higher and lower cut values\r\n",
        "  lower, upper = data_mean - cut, data_mean + cut\r\n",
        "  # creating an array of lower, higher and total outlier values\r\n",
        "  outliers_lower = [x for x in df_num if x < lower]\r\n",
        "  outliers_higher = [x for x in df_num if x > upper]\r\n",
        "  outliers_total = [x for x in df_num if x < lower or x > upper]\r\n",
        "  # array without outlier values\r\n",
        "  outliers_removed = [x for x in df_num if x > lower and x < upper]\r\n",
        "  print('Identified lowest outliers: %d' % len(outliers_lower)) # printing total number of values in lower cut of outliers\r\n",
        "  print('Identified upper outliers: %d' % len(outliers_higher)) # printing total number of values in higher cut of outliers\r\n",
        "  print('Total outlier observations: %d' % len(outliers_total)) # printing total number of values outliers of both sides\r\n",
        "  print('Non-outlier observations: %d' % len(outliers_removed)) # printing total number of non outlier values\r\n",
        "  print(\"Total percentual of Outliers: \", round((len(outliers_total) / len(outliers_removed) )*100, 4)) # Percentual of outliers in points\r\n",
        "  return"
      ],
      "execution_count": 8,
      "outputs": []
    },
    {
      "cell_type": "code",
      "metadata": {
        "id": "f17A3pCtqj79"
      },
      "source": [
        "def auc_score(y_true, y_pred):\r\n",
        "  \"\"\"\r\n",
        "  Calculates the Area Under ROC Curve (AUC)\r\n",
        "  \"\"\"\r\n",
        "  return roc_auc_score(y_true, y_pred)"
      ],
      "execution_count": 9,
      "outputs": []
    },
    {
      "cell_type": "code",
      "metadata": {
        "id": "7i1Ot7vBqvbs"
      },
      "source": [
        "def plot_curve(y_true_train, y_pred_train, y_true_val, y_pred_val, model_name):\r\n",
        "  \"\"\"\r\n",
        "  Plots the ROC Curve given predictions and labels\r\n",
        "  \"\"\"\r\n",
        "  fpr_train, tpr_train, _ = roc_curve(y_true_train, y_pred_train, pos_label=1)\r\n",
        "  fpr_val, tpr_val, _ = roc_curve(y_true_val, y_pred_val, pos_label=1)\r\n",
        "  plt.figure(figsize=(8, 8))\r\n",
        "  plt.plot(fpr_train, tpr_train, color='black',\r\n",
        "  lw=2, label=f\"ROC train curve (AUC = {round(roc_auc_score(y_true_train, y_pred_train), 4)})\")\r\n",
        "  plt.plot(fpr_val, tpr_val, color='darkorange',lw=2, label=f\"ROC validation curve (AUC = {round(roc_auc_score(y_true_val, y_pred_val), 4)})\")\r\n",
        "  plt.plot([0, 1], [0, 1], color='navy', lw=2, linestyle='--')\r\n",
        "  plt.xlim([-0.05, 1.05])\r\n",
        "  plt.ylim([-0.05, 1.05])\r\n",
        "  plt.xlabel('False Positive Rate', fontsize=16)\r\n",
        "  plt.ylabel('True Positive Rate', fontsize=16)\r\n",
        "  plt.xticks(fontsize=14)\r\n",
        "  plt.yticks(fontsize=14)\r\n",
        "  plt.title(f'ROC Plot for {model_name}', weight=\"bold\", fontsize=20)\r\n",
        "  plt.legend(loc=\"lower right\", fontsize=16)"
      ],
      "execution_count": 10,
      "outputs": []
    },
    {
      "cell_type": "code",
      "metadata": {
        "id": "bGPCj220rzDF"
      },
      "source": [
        "def reduce_mem_usage(df):\r\n",
        "  \"\"\"\r\n",
        "  Reduces memory usage for all columns in a Pandas DataFrame\r\n",
        "  \"\"\"\r\n",
        "  start_mem_usg = df.memory_usage().sum() / 1024**2\r\n",
        "  print(\"Memory usage of properties dataframe is :\",start_mem_usg,\" MB\")\r\n",
        "  NAlist = [] # Keeps track of columns that have missing values filled in.\r\n",
        "  for col in df.columns:\r\n",
        "    if df[col].dtype != object: # Exclude strings # make variables for Int, max and min\r\n",
        "      IsInt = False\r\n",
        "      mx = df[col].max()\r\n",
        "      mn = df[col].min()\r\n",
        "    # Integer does not support NA, therefore, NA needs to be filled\r\n",
        "    if not np.isfinite(df[col]).all():\r\n",
        "      NAlist.append(col)\r\n",
        "      df[col].fillna(mn-1,inplace=True)\r\n",
        "  # test if column can be converted to an integer\r\n",
        "  asint = df[col].fillna(0).astype(np.int32)\r\n",
        "  result = (df[col] - asint)\r\n",
        "  result = result.sum()\r\n",
        "  if result > -0.01 and result < 0.01:\r\n",
        "    IsInt = True\r\n",
        "  # Make Integer/unsigned Integer datatypes\r\n",
        "  if IsInt:\r\n",
        "    if mn >= 0:\r\n",
        "      if mx < 255:\r\n",
        "        df[col] = df[col].astype(np.uint8)\r\n",
        "      elif mx < 65535:\r\n",
        "        df[col] = df[col].astype(np.uint16)\r\n",
        "      else:\r\n",
        "        df[col] = df[col].astype(np.uint32)\r\n",
        "    else:\r\n",
        "      if mn > np.iinfo(np.int8).min and mx < np.iinfo(np.int8).max:\r\n",
        "        df[col] = df[col].astype(np.int8)\r\n",
        "      elif mn > np.iinfo(np.int16).min and mx < np.iinfo(np.int16).max:\r\n",
        "        df[col] = df[col].astype(np.int16)\r\n",
        "      else:\r\n",
        "        df[col] = df[col].astype(np.int32)\r\n",
        "  # Make float datatypes 32 bit\r\n",
        "  else:\r\n",
        "    df[col] = df[col].astype(np.float32)\r\n",
        "    \r\n",
        "  # Print final result\r\n",
        "  mem_usg = df.memory_usage().sum() / 1024**2\r\n",
        "  print(\"Memory usage of properties dataframe is after reduction is:\",mem_usg,\" MB\")\r\n",
        "  return df, NAlist"
      ],
      "execution_count": 11,
      "outputs": []
    },
    {
      "cell_type": "code",
      "metadata": {
        "id": "1RMncXf_u8i3"
      },
      "source": [
        "def plot_predictions(regressors, X, y, axes, label=None, style=\"r-\", data_style=\"b.\", data_label=None):\r\n",
        "  x1 = np.linspace(axes[0], axes[1], 500)\r\n",
        "  y_pred = sum(regressor.predict(x1.reshape(-1, 1)) for regressor in regressors)\r\n",
        "  plt.plot(X[:, 0], y, data_style, label=data_label)\r\n",
        "  plt.plot(x1, y_pred, style, linewidth=2, label=label)\r\n",
        "  if label or data_label:\r\n",
        "    plt.legend(loc=\"upper center\", fontsize=16)\r\n",
        "    plt.axis(axes)"
      ],
      "execution_count": 12,
      "outputs": []
    },
    {
      "cell_type": "code",
      "metadata": {
        "id": "YPDCdyfUF_q9"
      },
      "source": [
        "# Where to save the figures\r\n",
        "PROJECT_ROOT_DIR = \"/content/datasets\"\r\n",
        "CHAPTER_ID = \"Housing\"\r\n",
        "IMAGES_PATH = os.path.join(PROJECT_ROOT_DIR, CHAPTER_ID)\r\n",
        "\r\n",
        "def save_fig(fig_id, tight_layout=True, fig_extension=\"png\", resolution=300):\r\n",
        "    path = os.path.join(IMAGES_PATH, fig_id + \".\" + fig_extension)\r\n",
        "    print(\"Saving figure\", fig_id)\r\n",
        "    if tight_layout:\r\n",
        "        plt.tight_layout()\r\n",
        "    plt.savefig(path, format=fig_extension, dpi=resolution)"
      ],
      "execution_count": 56,
      "outputs": []
    },
    {
      "cell_type": "markdown",
      "metadata": {
        "id": "CyyLPrewoBO9"
      },
      "source": [
        "#Data Ingestion"
      ]
    },
    {
      "cell_type": "markdown",
      "metadata": {
        "id": "7bsUFxqI7n4-"
      },
      "source": [
        "##GitHub Source"
      ]
    },
    {
      "cell_type": "code",
      "metadata": {
        "id": "YsJkaq4lnzCZ"
      },
      "source": [
        "#Initialize variables\r\n",
        "\r\n",
        "DOWNLOAD_ROOT = \"https://raw.githubusercontent.com/ageron/handson-ml/master/\"\r\n",
        "HOUSING_PATH = os.path.join(\"datasets\", \"housing\")\r\n",
        "HOUSING_URL = DOWNLOAD_ROOT + \"datasets/housing/housing.tgz\"\r\n",
        "\r\n",
        "#Get the data from Github to local drive\r\n",
        "#Unzip the csv file\r\n",
        "\r\n",
        "def fetch_housing_data(housing_url=HOUSING_URL, housing_path=HOUSING_PATH):\r\n",
        "    if not os.path.isdir(housing_path):\r\n",
        "        os.makedirs(housing_path)\r\n",
        "    tgz_path = os.path.join(housing_path, \"housing.tgz\")\r\n",
        "    urllib.request.urlretrieve(housing_url, tgz_path)\r\n",
        "    housing_tgz = tarfile.open(tgz_path)\r\n",
        "    housing_tgz.extractall(path=housing_path)\r\n",
        "    housing_tgz.close()\r\n",
        "\r\n",
        "#Read using Pandas\r\n",
        "\r\n",
        "def load_housing_data(housing_path=HOUSING_PATH):\r\n",
        "    csv_path = os.path.join(housing_path, \"housing.csv\")\r\n",
        "    return pd.read_csv(csv_path)"
      ],
      "execution_count": 22,
      "outputs": []
    },
    {
      "cell_type": "code",
      "metadata": {
        "id": "T3_WKkBln6Ui",
        "colab": {
          "base_uri": "https://localhost:8080/",
          "height": 156
        },
        "outputId": "a1c19868-6fe6-46b5-93ed-ba2a433e7820"
      },
      "source": [
        "# Get the data\r\n",
        "fetch_housing_data()\r\n",
        "housing = load_housing_data()\r\n",
        "housing.head(3)"
      ],
      "execution_count": 23,
      "outputs": [
        {
          "output_type": "execute_result",
          "data": {
            "text/html": [
              "<div>\n",
              "<style scoped>\n",
              "    .dataframe tbody tr th:only-of-type {\n",
              "        vertical-align: middle;\n",
              "    }\n",
              "\n",
              "    .dataframe tbody tr th {\n",
              "        vertical-align: top;\n",
              "    }\n",
              "\n",
              "    .dataframe thead th {\n",
              "        text-align: right;\n",
              "    }\n",
              "</style>\n",
              "<table border=\"1\" class=\"dataframe\">\n",
              "  <thead>\n",
              "    <tr style=\"text-align: right;\">\n",
              "      <th></th>\n",
              "      <th>longitude</th>\n",
              "      <th>latitude</th>\n",
              "      <th>housing_median_age</th>\n",
              "      <th>total_rooms</th>\n",
              "      <th>total_bedrooms</th>\n",
              "      <th>population</th>\n",
              "      <th>households</th>\n",
              "      <th>median_income</th>\n",
              "      <th>median_house_value</th>\n",
              "      <th>ocean_proximity</th>\n",
              "    </tr>\n",
              "  </thead>\n",
              "  <tbody>\n",
              "    <tr>\n",
              "      <th>0</th>\n",
              "      <td>-122.23</td>\n",
              "      <td>37.88</td>\n",
              "      <td>41.0</td>\n",
              "      <td>880.0</td>\n",
              "      <td>129.0</td>\n",
              "      <td>322.0</td>\n",
              "      <td>126.0</td>\n",
              "      <td>8.3252</td>\n",
              "      <td>452600.0</td>\n",
              "      <td>NEAR BAY</td>\n",
              "    </tr>\n",
              "    <tr>\n",
              "      <th>1</th>\n",
              "      <td>-122.22</td>\n",
              "      <td>37.86</td>\n",
              "      <td>21.0</td>\n",
              "      <td>7099.0</td>\n",
              "      <td>1106.0</td>\n",
              "      <td>2401.0</td>\n",
              "      <td>1138.0</td>\n",
              "      <td>8.3014</td>\n",
              "      <td>358500.0</td>\n",
              "      <td>NEAR BAY</td>\n",
              "    </tr>\n",
              "    <tr>\n",
              "      <th>2</th>\n",
              "      <td>-122.24</td>\n",
              "      <td>37.85</td>\n",
              "      <td>52.0</td>\n",
              "      <td>1467.0</td>\n",
              "      <td>190.0</td>\n",
              "      <td>496.0</td>\n",
              "      <td>177.0</td>\n",
              "      <td>7.2574</td>\n",
              "      <td>352100.0</td>\n",
              "      <td>NEAR BAY</td>\n",
              "    </tr>\n",
              "  </tbody>\n",
              "</table>\n",
              "</div>"
            ],
            "text/plain": [
              "   longitude  latitude  ...  median_house_value  ocean_proximity\n",
              "0    -122.23     37.88  ...            452600.0         NEAR BAY\n",
              "1    -122.22     37.86  ...            358500.0         NEAR BAY\n",
              "2    -122.24     37.85  ...            352100.0         NEAR BAY\n",
              "\n",
              "[3 rows x 10 columns]"
            ]
          },
          "metadata": {
            "tags": []
          },
          "execution_count": 23
        }
      ]
    },
    {
      "cell_type": "code",
      "metadata": {
        "colab": {
          "base_uri": "https://localhost:8080/",
          "height": 363
        },
        "id": "BuPglGP1-YXx",
        "outputId": "34b75454-d65e-49bc-8312-9b199001be9f"
      },
      "source": [
        "cols = housing.columns\r\n",
        "df_stats(housing,cols)"
      ],
      "execution_count": 49,
      "outputs": [
        {
          "output_type": "execute_result",
          "data": {
            "text/html": [
              "<div>\n",
              "<style scoped>\n",
              "    .dataframe tbody tr th:only-of-type {\n",
              "        vertical-align: middle;\n",
              "    }\n",
              "\n",
              "    .dataframe tbody tr th {\n",
              "        vertical-align: top;\n",
              "    }\n",
              "\n",
              "    .dataframe thead th {\n",
              "        text-align: right;\n",
              "    }\n",
              "</style>\n",
              "<table border=\"1\" class=\"dataframe\">\n",
              "  <thead>\n",
              "    <tr style=\"text-align: right;\">\n",
              "      <th></th>\n",
              "      <th>record_count</th>\n",
              "      <th>unique_values</th>\n",
              "      <th>missing_records</th>\n",
              "      <th>percent_missing_records</th>\n",
              "      <th>data_type</th>\n",
              "      <th>count</th>\n",
              "      <th>mean</th>\n",
              "      <th>std</th>\n",
              "      <th>min</th>\n",
              "      <th>25%</th>\n",
              "      <th>50%</th>\n",
              "      <th>75%</th>\n",
              "      <th>max</th>\n",
              "    </tr>\n",
              "  </thead>\n",
              "  <tbody>\n",
              "    <tr>\n",
              "      <th>longitude</th>\n",
              "      <td>20640</td>\n",
              "      <td>844</td>\n",
              "      <td>0</td>\n",
              "      <td>0.000000</td>\n",
              "      <td>float64</td>\n",
              "      <td>20640.0</td>\n",
              "      <td>-119.569704</td>\n",
              "      <td>2.003532</td>\n",
              "      <td>-124.3500</td>\n",
              "      <td>-121.8000</td>\n",
              "      <td>-118.4900</td>\n",
              "      <td>-118.01000</td>\n",
              "      <td>-114.3100</td>\n",
              "    </tr>\n",
              "    <tr>\n",
              "      <th>latitude</th>\n",
              "      <td>20640</td>\n",
              "      <td>862</td>\n",
              "      <td>0</td>\n",
              "      <td>0.000000</td>\n",
              "      <td>float64</td>\n",
              "      <td>20640.0</td>\n",
              "      <td>35.631861</td>\n",
              "      <td>2.135952</td>\n",
              "      <td>32.5400</td>\n",
              "      <td>33.9300</td>\n",
              "      <td>34.2600</td>\n",
              "      <td>37.71000</td>\n",
              "      <td>41.9500</td>\n",
              "    </tr>\n",
              "    <tr>\n",
              "      <th>housing_median_age</th>\n",
              "      <td>20640</td>\n",
              "      <td>52</td>\n",
              "      <td>0</td>\n",
              "      <td>0.000000</td>\n",
              "      <td>float64</td>\n",
              "      <td>20640.0</td>\n",
              "      <td>28.639486</td>\n",
              "      <td>12.585558</td>\n",
              "      <td>1.0000</td>\n",
              "      <td>18.0000</td>\n",
              "      <td>29.0000</td>\n",
              "      <td>37.00000</td>\n",
              "      <td>52.0000</td>\n",
              "    </tr>\n",
              "    <tr>\n",
              "      <th>total_rooms</th>\n",
              "      <td>20640</td>\n",
              "      <td>5926</td>\n",
              "      <td>0</td>\n",
              "      <td>0.000000</td>\n",
              "      <td>float64</td>\n",
              "      <td>20640.0</td>\n",
              "      <td>2635.763081</td>\n",
              "      <td>2181.615252</td>\n",
              "      <td>2.0000</td>\n",
              "      <td>1447.7500</td>\n",
              "      <td>2127.0000</td>\n",
              "      <td>3148.00000</td>\n",
              "      <td>39320.0000</td>\n",
              "    </tr>\n",
              "    <tr>\n",
              "      <th>total_bedrooms</th>\n",
              "      <td>20433</td>\n",
              "      <td>1923</td>\n",
              "      <td>207</td>\n",
              "      <td>1.002907</td>\n",
              "      <td>float64</td>\n",
              "      <td>20433.0</td>\n",
              "      <td>537.870553</td>\n",
              "      <td>421.385070</td>\n",
              "      <td>1.0000</td>\n",
              "      <td>296.0000</td>\n",
              "      <td>435.0000</td>\n",
              "      <td>647.00000</td>\n",
              "      <td>6445.0000</td>\n",
              "    </tr>\n",
              "    <tr>\n",
              "      <th>population</th>\n",
              "      <td>20640</td>\n",
              "      <td>3888</td>\n",
              "      <td>0</td>\n",
              "      <td>0.000000</td>\n",
              "      <td>float64</td>\n",
              "      <td>20640.0</td>\n",
              "      <td>1425.476744</td>\n",
              "      <td>1132.462122</td>\n",
              "      <td>3.0000</td>\n",
              "      <td>787.0000</td>\n",
              "      <td>1166.0000</td>\n",
              "      <td>1725.00000</td>\n",
              "      <td>35682.0000</td>\n",
              "    </tr>\n",
              "    <tr>\n",
              "      <th>households</th>\n",
              "      <td>20640</td>\n",
              "      <td>1815</td>\n",
              "      <td>0</td>\n",
              "      <td>0.000000</td>\n",
              "      <td>float64</td>\n",
              "      <td>20640.0</td>\n",
              "      <td>499.539680</td>\n",
              "      <td>382.329753</td>\n",
              "      <td>1.0000</td>\n",
              "      <td>280.0000</td>\n",
              "      <td>409.0000</td>\n",
              "      <td>605.00000</td>\n",
              "      <td>6082.0000</td>\n",
              "    </tr>\n",
              "    <tr>\n",
              "      <th>median_income</th>\n",
              "      <td>20640</td>\n",
              "      <td>12928</td>\n",
              "      <td>0</td>\n",
              "      <td>0.000000</td>\n",
              "      <td>float64</td>\n",
              "      <td>20640.0</td>\n",
              "      <td>3.870671</td>\n",
              "      <td>1.899822</td>\n",
              "      <td>0.4999</td>\n",
              "      <td>2.5634</td>\n",
              "      <td>3.5348</td>\n",
              "      <td>4.74325</td>\n",
              "      <td>15.0001</td>\n",
              "    </tr>\n",
              "    <tr>\n",
              "      <th>median_house_value</th>\n",
              "      <td>20640</td>\n",
              "      <td>3842</td>\n",
              "      <td>0</td>\n",
              "      <td>0.000000</td>\n",
              "      <td>float64</td>\n",
              "      <td>20640.0</td>\n",
              "      <td>206855.816909</td>\n",
              "      <td>115395.615874</td>\n",
              "      <td>14999.0000</td>\n",
              "      <td>119600.0000</td>\n",
              "      <td>179700.0000</td>\n",
              "      <td>264725.00000</td>\n",
              "      <td>500001.0000</td>\n",
              "    </tr>\n",
              "    <tr>\n",
              "      <th>ocean_proximity</th>\n",
              "      <td>20640</td>\n",
              "      <td>5</td>\n",
              "      <td>0</td>\n",
              "      <td>0.000000</td>\n",
              "      <td>object</td>\n",
              "      <td>NaN</td>\n",
              "      <td>NaN</td>\n",
              "      <td>NaN</td>\n",
              "      <td>NaN</td>\n",
              "      <td>NaN</td>\n",
              "      <td>NaN</td>\n",
              "      <td>NaN</td>\n",
              "      <td>NaN</td>\n",
              "    </tr>\n",
              "  </tbody>\n",
              "</table>\n",
              "</div>"
            ],
            "text/plain": [
              "                    record_count  unique_values  ...           75%          max\n",
              "longitude                  20640            844  ...    -118.01000    -114.3100\n",
              "latitude                   20640            862  ...      37.71000      41.9500\n",
              "housing_median_age         20640             52  ...      37.00000      52.0000\n",
              "total_rooms                20640           5926  ...    3148.00000   39320.0000\n",
              "total_bedrooms             20433           1923  ...     647.00000    6445.0000\n",
              "population                 20640           3888  ...    1725.00000   35682.0000\n",
              "households                 20640           1815  ...     605.00000    6082.0000\n",
              "median_income              20640          12928  ...       4.74325      15.0001\n",
              "median_house_value         20640           3842  ...  264725.00000  500001.0000\n",
              "ocean_proximity            20640              5  ...           NaN          NaN\n",
              "\n",
              "[10 rows x 13 columns]"
            ]
          },
          "metadata": {
            "tags": []
          },
          "execution_count": 49
        }
      ]
    },
    {
      "cell_type": "markdown",
      "metadata": {
        "id": "sp3Lxft4oE9Q"
      },
      "source": [
        "#Data Preparation"
      ]
    },
    {
      "cell_type": "markdown",
      "metadata": {
        "id": "I3wrDt7noN2D"
      },
      "source": [
        "#Exploratory Analysis"
      ]
    },
    {
      "cell_type": "code",
      "metadata": {
        "id": "C9Ez3sGxoSz9"
      },
      "source": [
        "%matplotlib inline\r\n",
        "housing.hist(bins=50, figsize=(20,15))\r\n",
        "#save_fig(\"attribute_histogram_plots\")\r\n",
        "plt.show()"
      ],
      "execution_count": 13,
      "outputs": []
    },
    {
      "cell_type": "markdown",
      "metadata": {
        "id": "0pAJr5W_xOSO"
      },
      "source": [
        "# Feature Engineering"
      ]
    },
    {
      "cell_type": "code",
      "metadata": {
        "id": "dNsEOslrxRZC"
      },
      "source": [
        ""
      ],
      "execution_count": 13,
      "outputs": []
    },
    {
      "cell_type": "markdown",
      "metadata": {
        "id": "xmInWZBdxSD2"
      },
      "source": [
        "# Data Split: Train Vs Test"
      ]
    },
    {
      "cell_type": "code",
      "metadata": {
        "id": "AF_0G7qmxXO5",
        "colab": {
          "base_uri": "https://localhost:8080/"
        },
        "outputId": "ccfa1cb6-95c7-4c20-f8d8-af6d2935bdcb"
      },
      "source": [
        "# Random Split 80:20\r\n",
        "train_set, test_set = train_test_split(housing, test_size=0.2, random_state=42)\r\n",
        "print(\"Test records\",len(test_set))\r\n",
        "print(\"Train records\",len(train_set))"
      ],
      "execution_count": 64,
      "outputs": [
        {
          "output_type": "stream",
          "text": [
            "Test records 4128\n",
            "Train records 16512\n"
          ],
          "name": "stdout"
        }
      ]
    },
    {
      "cell_type": "code",
      "metadata": {
        "id": "Qwk_vKI1JSNf"
      },
      "source": [
        "#Random. But, Stratified Split 80:20\r\n",
        "\r\n",
        "split = StratifiedShuffleSplit(n_splits=1, test_size=0.2, random_state=42)\r\n",
        "for train_index, test_index in split.split(housing, housing[\"ocean_proximity\"]):\r\n",
        "    strat_train_set = housing.loc[train_index]\r\n",
        "    strat_test_set = housing.loc[test_index]"
      ],
      "execution_count": 66,
      "outputs": []
    },
    {
      "cell_type": "code",
      "metadata": {
        "colab": {
          "base_uri": "https://localhost:8080/"
        },
        "id": "JxZ_nCM6KX14",
        "outputId": "3c333882-9250-4354-d719-fc1e58af2d3e"
      },
      "source": [
        "strat_test_set[\"ocean_proximity\"].value_counts() / len(strat_test_set)"
      ],
      "execution_count": 68,
      "outputs": [
        {
          "output_type": "execute_result",
          "data": {
            "text/plain": [
              "<1H OCEAN     0.442587\n",
              "INLAND        0.317345\n",
              "NEAR OCEAN    0.128876\n",
              "NEAR BAY      0.110950\n",
              "ISLAND        0.000242\n",
              "Name: ocean_proximity, dtype: float64"
            ]
          },
          "metadata": {
            "tags": []
          },
          "execution_count": 68
        }
      ]
    },
    {
      "cell_type": "code",
      "metadata": {
        "colab": {
          "base_uri": "https://localhost:8080/"
        },
        "id": "dYmANGLkKnA9",
        "outputId": "e6bda8ee-b15e-41e3-fbe1-5bd1015b09b1"
      },
      "source": [
        "strat_train_set[\"ocean_proximity\"].value_counts() / len(strat_test_set)"
      ],
      "execution_count": 69,
      "outputs": [
        {
          "output_type": "execute_result",
          "data": {
            "text/plain": [
              "<1H OCEAN     1.770591\n",
              "INLAND        1.269622\n",
              "NEAR OCEAN    0.515019\n",
              "NEAR BAY      0.443798\n",
              "ISLAND        0.000969\n",
              "Name: ocean_proximity, dtype: float64"
            ]
          },
          "metadata": {
            "tags": []
          },
          "execution_count": 69
        }
      ]
    },
    {
      "cell_type": "markdown",
      "metadata": {
        "id": "dR9-W_RBxZ66"
      },
      "source": [
        "#Model Selection & Validation"
      ]
    },
    {
      "cell_type": "code",
      "metadata": {
        "id": "HEm6uQnVxejR"
      },
      "source": [
        ""
      ],
      "execution_count": 13,
      "outputs": []
    },
    {
      "cell_type": "markdown",
      "metadata": {
        "id": "OHLVmf8kxsEC"
      },
      "source": [
        "#Model Comparison & Metrics"
      ]
    },
    {
      "cell_type": "code",
      "metadata": {
        "id": "8lSgg7mwxvtN"
      },
      "source": [
        ""
      ],
      "execution_count": 13,
      "outputs": []
    },
    {
      "cell_type": "markdown",
      "metadata": {
        "id": "oAJJ5gw_yA2_"
      },
      "source": [
        "#Model Testing"
      ]
    },
    {
      "cell_type": "code",
      "metadata": {
        "id": "FLStqMshyERG"
      },
      "source": [
        ""
      ],
      "execution_count": 13,
      "outputs": []
    },
    {
      "cell_type": "markdown",
      "metadata": {
        "id": "oAK1NSBvyI29"
      },
      "source": [
        "#Summary"
      ]
    },
    {
      "cell_type": "code",
      "metadata": {
        "id": "uBPBIrasyMFV"
      },
      "source": [
        ""
      ],
      "execution_count": 13,
      "outputs": []
    }
  ]
}
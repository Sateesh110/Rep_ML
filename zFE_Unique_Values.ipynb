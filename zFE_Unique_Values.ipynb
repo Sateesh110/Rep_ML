{
  "nbformat": 4,
  "nbformat_minor": 0,
  "metadata": {
    "colab": {
      "name": "Untitled3.ipynb",
      "provenance": [],
      "authorship_tag": "ABX9TyMNqDOf8cTcwQhdu4Fp5oX9",
      "include_colab_link": true
    },
    "kernelspec": {
      "name": "python3",
      "display_name": "Python 3"
    }
  },
  "cells": [
    {
      "cell_type": "markdown",
      "metadata": {
        "id": "view-in-github",
        "colab_type": "text"
      },
      "source": [
        "<a href=\"https://colab.research.google.com/github/Sateesh110/Rep_ML/blob/master/zFE_Unique_Values.ipynb\" target=\"_parent\"><img src=\"https://colab.research.google.com/assets/colab-badge.svg\" alt=\"Open In Colab\"/></a>"
      ]
    },
    {
      "cell_type": "markdown",
      "metadata": {
        "id": "YScE40tXfpNs"
      },
      "source": [
        "# FE "
      ]
    },
    {
      "cell_type": "markdown",
      "metadata": {
        "id": "NKxbG1WqgXXB"
      },
      "source": [
        "## Import Packages"
      ]
    },
    {
      "cell_type": "code",
      "metadata": {
        "id": "CoDamPoDgWaN"
      },
      "source": [
        "import numpy as np\r\n",
        "import pandas as pd"
      ],
      "execution_count": 1,
      "outputs": []
    },
    {
      "cell_type": "markdown",
      "metadata": {
        "id": "fBn31KZof95w"
      },
      "source": [
        "##Source Data"
      ]
    },
    {
      "cell_type": "code",
      "metadata": {
        "id": "28D0VGmtgCBY"
      },
      "source": [
        "data = pd.read_csv('https://www.openml.org/data/get_csv/16826755/phpMYEkMl')\r\n",
        "data = data.replace('?', np.nan)\r\n",
        "data['cabin'] = data['cabin'].apply(get_first_cabin)\r\n",
        "data.to_csv('titanic.csv', index=False)"
      ],
      "execution_count": null,
      "outputs": []
    },
    {
      "cell_type": "code",
      "metadata": {
        "id": "Pzqs8ZkkgMh6"
      },
      "source": [
        ""
      ],
      "execution_count": null,
      "outputs": []
    },
    {
      "cell_type": "markdown",
      "metadata": {
        "id": "VWsFLpZsgNbz"
      },
      "source": [
        "## Fea"
      ]
    }
  ]
}
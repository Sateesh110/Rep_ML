{
  "nbformat": 4,
  "nbformat_minor": 0,
  "metadata": {
    "colab": {
      "name": "Untitled5.ipynb",
      "provenance": [],
      "authorship_tag": "ABX9TyO9AKi/WYBAu1lNZLl7QAtu",
      "include_colab_link": true
    },
    "kernelspec": {
      "name": "python3",
      "display_name": "Python 3"
    }
  },
  "cells": [
    {
      "cell_type": "markdown",
      "metadata": {
        "id": "view-in-github",
        "colab_type": "text"
      },
      "source": [
        "<a href=\"https://colab.research.google.com/github/Sateesh110/Rep_ML/blob/master/Untitled5.ipynb\" target=\"_parent\"><img src=\"https://colab.research.google.com/assets/colab-badge.svg\" alt=\"Open In Colab\"/></a>"
      ]
    },
    {
      "cell_type": "code",
      "metadata": {
        "id": "DJWOdTPIy2xv"
      },
      "source": [
        "t = ('a','b')\r\n",
        "t1 = 1,2\r\n",
        "t2 = 3,"
      ],
      "execution_count": 1,
      "outputs": []
    },
    {
      "cell_type": "code",
      "metadata": {
        "id": "6pVOeDmDzTbP",
        "outputId": "0faf9245-4590-485e-f3ce-fc0fe1649727",
        "colab": {
          "base_uri": "https://localhost:8080/"
        }
      },
      "source": [
        "t"
      ],
      "execution_count": 2,
      "outputs": [
        {
          "output_type": "execute_result",
          "data": {
            "text/plain": [
              "('a', 'b')"
            ]
          },
          "metadata": {
            "tags": []
          },
          "execution_count": 2
        }
      ]
    },
    {
      "cell_type": "code",
      "metadata": {
        "id": "jKGrrcS3zdSi",
        "outputId": "1be6a86c-6261-4e28-d12c-607d5bf28319",
        "colab": {
          "base_uri": "https://localhost:8080/"
        }
      },
      "source": [
        "t = tuple('starts')\r\n",
        "t.count('s')"
      ],
      "execution_count": 6,
      "outputs": [
        {
          "output_type": "execute_result",
          "data": {
            "text/plain": [
              "2"
            ]
          },
          "metadata": {
            "tags": []
          },
          "execution_count": 6
        }
      ]
    },
    {
      "cell_type": "code",
      "metadata": {
        "id": "5hvoNTSu0lVe",
        "outputId": "72e9a1f3-983a-4538-fc0f-298c70d29d94",
        "colab": {
          "base_uri": "https://localhost:8080/"
        }
      },
      "source": [
        "list(t)"
      ],
      "execution_count": 4,
      "outputs": [
        {
          "output_type": "execute_result",
          "data": {
            "text/plain": [
              "['a', 'b']"
            ]
          },
          "metadata": {
            "tags": []
          },
          "execution_count": 4
        }
      ]
    },
    {
      "cell_type": "code",
      "metadata": {
        "id": "Te7bF5301Rjr"
      },
      "source": [
        ""
      ],
      "execution_count": null,
      "outputs": []
    }
  ]
}
{
  "nbformat": 4,
  "nbformat_minor": 0,
  "metadata": {
    "colab": {
      "name": "Untitled5.ipynb",
      "provenance": [],
      "authorship_tag": "ABX9TyNGlUftRsysBCNF2kedwfk4",
      "include_colab_link": true
    },
    "kernelspec": {
      "name": "python3",
      "display_name": "Python 3"
    }
  },
  "cells": [
    {
      "cell_type": "markdown",
      "metadata": {
        "id": "view-in-github",
        "colab_type": "text"
      },
      "source": [
        "<a href=\"https://colab.research.google.com/github/Sateesh110/Rep_ML/blob/master/Untitled5.ipynb\" target=\"_parent\"><img src=\"https://colab.research.google.com/assets/colab-badge.svg\" alt=\"Open In Colab\"/></a>"
      ]
    },
    {
      "cell_type": "code",
      "metadata": {
        "colab": {
          "base_uri": "https://localhost:8080/"
        },
        "id": "cN32a4ZAmJti",
        "outputId": "e3184e92-ef79-4aa3-c341-268dd03a3ed9"
      },
      "source": [
        "tup =('a', 'b')\r\n",
        "tup1= (1,2)\r\n",
        "tup2 = 1,2\r\n",
        "print(tup,tup1,tup2)"
      ],
      "execution_count": 1,
      "outputs": [
        {
          "output_type": "stream",
          "text": [
            "('a', 'b') (1, 2) (1, 2)\n"
          ],
          "name": "stdout"
        }
      ]
    },
    {
      "cell_type": "code",
      "metadata": {
        "colab": {
          "base_uri": "https://localhost:8080/"
        },
        "id": "ZCOViGz9s3Yf",
        "outputId": "9b7c1fe8-7256-46d8-a17a-64af5ce332fb"
      },
      "source": [
        "o = tuple(\"oak\")\r\n",
        "o"
      ],
      "execution_count": 15,
      "outputs": [
        {
          "output_type": "execute_result",
          "data": {
            "text/plain": [
              "('o', 'a', 'k')"
            ]
          },
          "metadata": {
            "tags": []
          },
          "execution_count": 15
        }
      ]
    },
    {
      "cell_type": "code",
      "metadata": {
        "colab": {
          "base_uri": "https://localhost:8080/"
        },
        "id": "7NCPrPios7ac",
        "outputId": "a0c8927c-2729-4c33-9f17-fc143dd81c24"
      },
      "source": [
        "q = list(o)\r\n",
        "q"
      ],
      "execution_count": 18,
      "outputs": [
        {
          "output_type": "execute_result",
          "data": {
            "text/plain": [
              "['o', 'a', 'k']"
            ]
          },
          "metadata": {
            "tags": []
          },
          "execution_count": 18
        }
      ]
    },
    {
      "cell_type": "code",
      "metadata": {
        "colab": {
          "base_uri": "https://localhost:8080/"
        },
        "id": "VDEB24aRtC5s",
        "outputId": "6c4d244e-d5c4-489c-97c0-091faa2999fa"
      },
      "source": [
        "list(q)"
      ],
      "execution_count": 19,
      "outputs": [
        {
          "output_type": "execute_result",
          "data": {
            "text/plain": [
              "['o', 'a', 'k']"
            ]
          },
          "metadata": {
            "tags": []
          },
          "execution_count": 19
        }
      ]
    },
    {
      "cell_type": "code",
      "metadata": {
        "colab": {
          "base_uri": "https://localhost:8080/"
        },
        "id": "tqGO6D39t_i2",
        "outputId": "f544cdcf-3cc0-4e60-953c-11ab7f2ecd90"
      },
      "source": [
        "tuple1, tuple2 = (123, 'xyz'), (456, 'abc')\r\n",
        "print(tuple1,tuple2)"
      ],
      "execution_count": 26,
      "outputs": [
        {
          "output_type": "stream",
          "text": [
            "(123, 'xyz') (456, 'abc')\n"
          ],
          "name": "stdout"
        }
      ]
    },
    {
      "cell_type": "code",
      "metadata": {
        "colab": {
          "base_uri": "https://localhost:8080/"
        },
        "id": "MEUIzIPc_6aM",
        "outputId": "8211505b-1271-480e-9fe0-dd4c5ec8ab1c"
      },
      "source": [
        "tuple3 = tuple2 + (0000,)\r\n",
        "tuple3"
      ],
      "execution_count": 27,
      "outputs": [
        {
          "output_type": "execute_result",
          "data": {
            "text/plain": [
              "(456, 'abc', 0)"
            ]
          },
          "metadata": {
            "tags": []
          },
          "execution_count": 27
        }
      ]
    },
    {
      "cell_type": "code",
      "metadata": {
        "colab": {
          "base_uri": "https://localhost:8080/"
        },
        "id": "cvMs70cnLFPw",
        "outputId": "bba7eeb6-ac0e-46dd-a88a-0cddac788fe5"
      },
      "source": [
        "a = (100, 0,1)\r\n",
        "b = (50, 50,4)\r\n",
        "[(a > b) for a, b in zip(a,b)]\r\n",
        "[True, False]"
      ],
      "execution_count": 32,
      "outputs": [
        {
          "output_type": "execute_result",
          "data": {
            "text/plain": [
              "[True, False]"
            ]
          },
          "metadata": {
            "tags": []
          },
          "execution_count": 32
        }
      ]
    },
    {
      "cell_type": "code",
      "metadata": {
        "colab": {
          "base_uri": "https://localhost:8080/"
        },
        "id": "eYGBTsQkNPSR",
        "outputId": "66abecfc-90df-48ee-dd89-a66dcbcc908f"
      },
      "source": [
        "import collections\r\n",
        "dir(collections)"
      ],
      "execution_count": 33,
      "outputs": [
        {
          "output_type": "execute_result",
          "data": {
            "text/plain": [
              "['AsyncGenerator',\n",
              " 'AsyncIterable',\n",
              " 'AsyncIterator',\n",
              " 'Awaitable',\n",
              " 'ByteString',\n",
              " 'Callable',\n",
              " 'ChainMap',\n",
              " 'Collection',\n",
              " 'Container',\n",
              " 'Coroutine',\n",
              " 'Counter',\n",
              " 'Generator',\n",
              " 'Hashable',\n",
              " 'ItemsView',\n",
              " 'Iterable',\n",
              " 'Iterator',\n",
              " 'KeysView',\n",
              " 'Mapping',\n",
              " 'MappingView',\n",
              " 'MutableMapping',\n",
              " 'MutableSequence',\n",
              " 'MutableSet',\n",
              " 'OrderedDict',\n",
              " 'Reversible',\n",
              " 'Sequence',\n",
              " 'Set',\n",
              " 'Sized',\n",
              " 'UserDict',\n",
              " 'UserList',\n",
              " 'UserString',\n",
              " 'ValuesView',\n",
              " '_Link',\n",
              " '_OrderedDictItemsView',\n",
              " '_OrderedDictKeysView',\n",
              " '_OrderedDictValuesView',\n",
              " '__all__',\n",
              " '__builtins__',\n",
              " '__cached__',\n",
              " '__doc__',\n",
              " '__file__',\n",
              " '__loader__',\n",
              " '__name__',\n",
              " '__package__',\n",
              " '__path__',\n",
              " '__spec__',\n",
              " '_chain',\n",
              " '_class_template',\n",
              " '_collections_abc',\n",
              " '_count_elements',\n",
              " '_eq',\n",
              " '_field_template',\n",
              " '_heapq',\n",
              " '_iskeyword',\n",
              " '_itemgetter',\n",
              " '_proxy',\n",
              " '_recursive_repr',\n",
              " '_repeat',\n",
              " '_repr_template',\n",
              " '_starmap',\n",
              " '_sys',\n",
              " 'abc',\n",
              " 'defaultdict',\n",
              " 'deque',\n",
              " 'namedtuple']"
            ]
          },
          "metadata": {
            "tags": []
          },
          "execution_count": 33
        }
      ]
    },
    {
      "cell_type": "code",
      "metadata": {
        "id": "ObJfLBtSToKB"
      },
      "source": [
        ""
      ],
      "execution_count": null,
      "outputs": []
    }
  ]
}
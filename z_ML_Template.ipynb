{
  "nbformat": 4,
  "nbformat_minor": 0,
  "metadata": {
    "colab": {
      "name": "z_ML_Template.ipynb",
      "provenance": [],
      "authorship_tag": "ABX9TyPCN5+/LjCFXDLFe2bR4B9Q",
      "include_colab_link": true
    },
    "kernelspec": {
      "name": "python3",
      "display_name": "Python 3"
    }
  },
  "cells": [
    {
      "cell_type": "markdown",
      "metadata": {
        "id": "view-in-github",
        "colab_type": "text"
      },
      "source": [
        "<a href=\"https://colab.research.google.com/github/Sateesh110/Rep_CovidCanada/blob/master/z_ML_Template.ipynb\" target=\"_parent\"><img src=\"https://colab.research.google.com/assets/colab-badge.svg\" alt=\"Open In Colab\"/></a>"
      ]
    },
    {
      "cell_type": "markdown",
      "metadata": {
        "id": "br7ibH74lie7"
      },
      "source": [
        "#Before we Begin:"
      ]
    },
    {
      "cell_type": "markdown",
      "metadata": {
        "id": "4gJaFAHQlnCk"
      },
      "source": [
        "#Problem Statement :"
      ]
    },
    {
      "cell_type": "markdown",
      "metadata": {
        "id": "pKYSVCpdlo8F"
      },
      "source": [
        "#Solution Approach:"
      ]
    },
    {
      "cell_type": "markdown",
      "metadata": {
        "id": "nRXiYvnDlpTY"
      },
      "source": [
        "##Assumptions:"
      ]
    },
    {
      "cell_type": "markdown",
      "metadata": {
        "id": "oTd1GEe8l7CO"
      },
      "source": [
        "#Objective of this Kernel:"
      ]
    },
    {
      "cell_type": "markdown",
      "metadata": {
        "id": "kxO63uCImLGt"
      },
      "source": [
        "#Credits"
      ]
    },
    {
      "cell_type": "markdown",
      "metadata": {
        "id": "5irl03yzmLTf"
      },
      "source": [
        "#Import Packages"
      ]
    },
    {
      "cell_type": "code",
      "metadata": {
        "colab": {
          "base_uri": "https://localhost:8080/"
        },
        "id": "z4orGURXmsC3",
        "outputId": "5e6e397a-d70c-40c8-e8e9-2d239fdb7e26"
      },
      "source": [
        "!pip install catboost"
      ],
      "execution_count": 1,
      "outputs": [
        {
          "output_type": "stream",
          "text": [
            "Collecting catboost\n",
            "\u001b[?25l  Downloading https://files.pythonhosted.org/packages/20/37/bc4e0ddc30c07a96482abf1de7ed1ca54e59bba2026a33bca6d2ef286e5b/catboost-0.24.4-cp36-none-manylinux1_x86_64.whl (65.7MB)\n",
            "\u001b[K     |████████████████████████████████| 65.8MB 70kB/s \n",
            "\u001b[?25hRequirement already satisfied: matplotlib in /usr/local/lib/python3.6/dist-packages (from catboost) (3.2.2)\n",
            "Requirement already satisfied: six in /usr/local/lib/python3.6/dist-packages (from catboost) (1.15.0)\n",
            "Requirement already satisfied: plotly in /usr/local/lib/python3.6/dist-packages (from catboost) (4.4.1)\n",
            "Requirement already satisfied: graphviz in /usr/local/lib/python3.6/dist-packages (from catboost) (0.10.1)\n",
            "Requirement already satisfied: numpy>=1.16.0 in /usr/local/lib/python3.6/dist-packages (from catboost) (1.19.4)\n",
            "Requirement already satisfied: scipy in /usr/local/lib/python3.6/dist-packages (from catboost) (1.4.1)\n",
            "Requirement already satisfied: pandas>=0.24.0 in /usr/local/lib/python3.6/dist-packages (from catboost) (1.1.5)\n",
            "Requirement already satisfied: pyparsing!=2.0.4,!=2.1.2,!=2.1.6,>=2.0.1 in /usr/local/lib/python3.6/dist-packages (from matplotlib->catboost) (2.4.7)\n",
            "Requirement already satisfied: cycler>=0.10 in /usr/local/lib/python3.6/dist-packages (from matplotlib->catboost) (0.10.0)\n",
            "Requirement already satisfied: python-dateutil>=2.1 in /usr/local/lib/python3.6/dist-packages (from matplotlib->catboost) (2.8.1)\n",
            "Requirement already satisfied: kiwisolver>=1.0.1 in /usr/local/lib/python3.6/dist-packages (from matplotlib->catboost) (1.3.1)\n",
            "Requirement already satisfied: retrying>=1.3.3 in /usr/local/lib/python3.6/dist-packages (from plotly->catboost) (1.3.3)\n",
            "Requirement already satisfied: pytz>=2017.2 in /usr/local/lib/python3.6/dist-packages (from pandas>=0.24.0->catboost) (2018.9)\n",
            "Installing collected packages: catboost\n",
            "Successfully installed catboost-0.24.4\n"
          ],
          "name": "stdout"
        }
      ]
    },
    {
      "cell_type": "code",
      "metadata": {
        "id": "8Yjy62LJmyqe"
      },
      "source": [
        "# Data Processing\r\n",
        "import numpy as np # linear algebra\r\n",
        "import pandas as pd # data processing\r\n",
        "from numpy import sort\r\n",
        "\r\n",
        "# Visulaization\r\n",
        "import matplotlib.pyplot as plt\r\n",
        "import seaborn as sns\r\n",
        "import matplotlib.patches as mpatches\r\n",
        "from pandas.plotting import scatter_matrix"
      ],
      "execution_count": 6,
      "outputs": []
    },
    {
      "cell_type": "code",
      "metadata": {
        "id": "lYMZAdn5nAUa"
      },
      "source": [
        "# XGBoost\r\n",
        "import xgboost as xgb\r\n",
        "\r\n",
        "# lightGBM\r\n",
        "from lightgbm import LGBMRegressor\r\n",
        "from lightgbm import LGBMClassifier\r\n",
        "\r\n",
        "# Scikit learn Classfiers\r\n",
        "from sklearn.linear_model import LogisticRegression\r\n",
        "from sklearn.ensemble import RandomForestClassifier, GradientBoostingRegressor ,RandomForestRegressor,GradientBoostingClassifier\r\n",
        "from xgboost.sklearn import XGBClassifier\r\n",
        "#from sklearn.tree import DecisionTreeClassifier\r\n",
        "\r\n",
        "#Catboost\r\n",
        "from catboost import CatBoostRegressor\r\n",
        "from catboost import CatBoostClassifier"
      ],
      "execution_count": 5,
      "outputs": []
    },
    {
      "cell_type": "code",
      "metadata": {
        "id": "QNj1qMM4nO6r"
      },
      "source": [
        "# Other Scikit Learn\r\n",
        "from sklearn.decomposition import PCA, TruncatedSVD\r\n",
        "from sklearn.model_selection import KFold, StratifiedKFold\r\n",
        "from scipy.stats import reciprocal, uniform\r\n",
        "from scipy.stats import expon\r\n",
        "from sklearn.metrics import precision_score, recall_score, f1_score, accuracy_score, classification_report\r\n",
        "from scipy.stats import randint, uniform\r\n",
        "from sklearn.preprocessing import LabelEncoder\r\n",
        "from sklearn.model_selection import train_test_split\r\n",
        "from sklearn.metrics import roc_auc_score, roc_curve\r\n",
        "from sklearn.metrics import mean_squared_error"
      ],
      "execution_count": 8,
      "outputs": []
    },
    {
      "cell_type": "code",
      "metadata": {
        "id": "Bb9NVPbenQvD"
      },
      "source": [
        "# Others\r\n",
        "import time\r\n",
        "import collections\r\n",
        "from collections import Counter\r\n",
        "import warnings\r\n",
        "warnings.filterwarnings(\"ignore\")\r\n",
        "import gc\r\n",
        "import shutil\r\n",
        "\r\n",
        "# Reproducibility\r\n",
        "seed = 342\r\n",
        "np.random.seed(seed)\r\n",
        "\r\n",
        "#import image\r\n",
        "from IPython.display import Image"
      ],
      "execution_count": 7,
      "outputs": []
    },
    {
      "cell_type": "code",
      "metadata": {
        "id": "Ju37lE3HntFY"
      },
      "source": [
        ""
      ],
      "execution_count": null,
      "outputs": []
    },
    {
      "cell_type": "markdown",
      "metadata": {
        "id": "uQXt7r_UooDd"
      },
      "source": [
        "##Custom Functions"
      ]
    },
    {
      "cell_type": "code",
      "metadata": {
        "id": "phG4pJ7poZFm"
      },
      "source": [
        "def df_stats(df,columns):\r\n",
        "  \"\"\"\r\n",
        "  df info\r\n",
        "  \"\"\"\r\n",
        "  stats = []\r\n",
        "  for col in columns:\r\n",
        "    stats.append((col, df[col].count(), df[col].nunique(), df[col].isnull().sum(), df[col].isnull().sum() * 100 / df.shape[0], df[col].dtype))\r\n",
        "    stats_cols = ['attribute', 'record_count', 'unique_values','missing_records', 'percent_missing_records', 'data_type']\r\n",
        "    df_stats = pd.DataFrame(stats, columns=stats_cols)\r\n",
        "  return(df_stats)"
      ],
      "execution_count": 13,
      "outputs": []
    },
    {
      "cell_type": "code",
      "metadata": {
        "id": "JrHyoh6ppfKo"
      },
      "source": [
        "def drop_cols(df,cols):\r\n",
        "  \"\"\"\r\n",
        "  drop columns which have missing records > 90%\r\n",
        "  \"\"\"\r\n",
        "  drop_cols = []\r\n",
        "  n = 90\r\n",
        "  for col in cols:\r\n",
        "    rate = (df[col].isnull().sum() * 100 / df.shape[0])\r\n",
        "    if rate > n:\r\n",
        "      df = df.drop(col, axis=1)\r\n",
        "      drop_cols.append(col)\r\n",
        "  return(df,drop_cols)"
      ],
      "execution_count": 14,
      "outputs": []
    },
    {
      "cell_type": "code",
      "metadata": {
        "id": "dFCGipnPpzE6"
      },
      "source": [
        "def CalcOutliers(df_num):\r\n",
        "  # calculating mean and std of the array\r\n",
        "  data_mean, data_std = np.mean(df_num), np.std(df_num)\r\n",
        "  # seting the cut line to both higher and lower values\r\n",
        "  # You can change this value\r\n",
        "  cut = data_std * 3\r\n",
        "  #Calculating the higher and lower cut values\r\n",
        "  lower, upper = data_mean - cut, data_mean + cut\r\n",
        "  # creating an array of lower, higher and total outlier values\r\n",
        "  outliers_lower = [x for x in df_num if x < lower]\r\n",
        "  outliers_higher = [x for x in df_num if x > upper]\r\n",
        "  outliers_total = [x for x in df_num if x < lower or x > upper]\r\n",
        "  # array without outlier values\r\n",
        "  outliers_removed = [x for x in df_num if x > lower and x < upper]\r\n",
        "  print('Identified lowest outliers: %d' % len(outliers_lower)) # printing total number of values in lower cut of outliers\r\n",
        "  print('Identified upper outliers: %d' % len(outliers_higher)) # printing total number of values in higher cut of outliers\r\n",
        "  print('Total outlier observations: %d' % len(outliers_total)) # printing total number of values outliers of both sides\r\n",
        "  print('Non-outlier observations: %d' % len(outliers_removed)) # printing total number of non outlier values\r\n",
        "  print(\"Total percentual of Outliers: \", round((len(outliers_total) / len(outliers_removed) )*100, 4)) # Percentual of outliers in points\r\n",
        "  return"
      ],
      "execution_count": 15,
      "outputs": []
    },
    {
      "cell_type": "code",
      "metadata": {
        "id": "f17A3pCtqj79"
      },
      "source": [
        "def auc_score(y_true, y_pred):\r\n",
        "  \"\"\"\r\n",
        "  Calculates the Area Under ROC Curve (AUC)\r\n",
        "  \"\"\"\r\n",
        "  return roc_auc_score(y_true, y_pred)"
      ],
      "execution_count": 16,
      "outputs": []
    },
    {
      "cell_type": "code",
      "metadata": {
        "id": "7i1Ot7vBqvbs"
      },
      "source": [
        "def plot_curve(y_true_train, y_pred_train, y_true_val, y_pred_val, model_name):\r\n",
        "  \"\"\"\r\n",
        "  Plots the ROC Curve given predictions and labels\r\n",
        "  \"\"\"\r\n",
        "  fpr_train, tpr_train, _ = roc_curve(y_true_train, y_pred_train, pos_label=1)\r\n",
        "  fpr_val, tpr_val, _ = roc_curve(y_true_val, y_pred_val, pos_label=1)\r\n",
        "  plt.figure(figsize=(8, 8))\r\n",
        "  plt.plot(fpr_train, tpr_train, color='black',\r\n",
        "  lw=2, label=f\"ROC train curve (AUC = {round(roc_auc_score(y_true_train, y_pred_train), 4)})\")\r\n",
        "  plt.plot(fpr_val, tpr_val, color='darkorange',lw=2, label=f\"ROC validation curve (AUC = {round(roc_auc_score(y_true_val, y_pred_val), 4)})\")\r\n",
        "  plt.plot([0, 1], [0, 1], color='navy', lw=2, linestyle='--')\r\n",
        "  plt.xlim([-0.05, 1.05])\r\n",
        "  plt.ylim([-0.05, 1.05])\r\n",
        "  plt.xlabel('False Positive Rate', fontsize=16)\r\n",
        "  plt.ylabel('True Positive Rate', fontsize=16)\r\n",
        "  plt.xticks(fontsize=14)\r\n",
        "  plt.yticks(fontsize=14)\r\n",
        "  plt.title(f'ROC Plot for {model_name}', weight=\"bold\", fontsize=20)\r\n",
        "  plt.legend(loc=\"lower right\", fontsize=16)"
      ],
      "execution_count": 17,
      "outputs": []
    },
    {
      "cell_type": "code",
      "metadata": {
        "id": "bGPCj220rzDF"
      },
      "source": [
        "def reduce_mem_usage(df):\r\n",
        "  \"\"\"\r\n",
        "  Reduces memory usage for all columns in a Pandas DataFrame\r\n",
        "  \"\"\"\r\n",
        "  start_mem_usg = df.memory_usage().sum() / 1024**2\r\n",
        "  print(\"Memory usage of properties dataframe is :\",start_mem_usg,\" MB\")\r\n",
        "  NAlist = [] # Keeps track of columns that have missing values filled in.\r\n",
        "  for col in df.columns:\r\n",
        "    if df[col].dtype != object: # Exclude strings # make variables for Int, max and min\r\n",
        "      IsInt = False\r\n",
        "      mx = df[col].max()\r\n",
        "      mn = df[col].min()\r\n",
        "    # Integer does not support NA, therefore, NA needs to be filled\r\n",
        "    if not np.isfinite(df[col]).all():\r\n",
        "      NAlist.append(col)\r\n",
        "      df[col].fillna(mn-1,inplace=True)\r\n",
        "  # test if column can be converted to an integer\r\n",
        "  asint = df[col].fillna(0).astype(np.int32)\r\n",
        "  result = (df[col] - asint)\r\n",
        "  result = result.sum()\r\n",
        "  if result > -0.01 and result < 0.01:\r\n",
        "    IsInt = True\r\n",
        "  # Make Integer/unsigned Integer datatypes\r\n",
        "  if IsInt:\r\n",
        "    if mn >= 0:\r\n",
        "      if mx < 255:\r\n",
        "        df[col] = df[col].astype(np.uint8)\r\n",
        "      elif mx < 65535:\r\n",
        "        df[col] = df[col].astype(np.uint16)\r\n",
        "      else:\r\n",
        "        df[col] = df[col].astype(np.uint32)\r\n",
        "    else:\r\n",
        "      if mn > np.iinfo(np.int8).min and mx < np.iinfo(np.int8).max:\r\n",
        "        df[col] = df[col].astype(np.int8)\r\n",
        "      elif mn > np.iinfo(np.int16).min and mx < np.iinfo(np.int16).max:\r\n",
        "        df[col] = df[col].astype(np.int16)\r\n",
        "      else:\r\n",
        "        df[col] = df[col].astype(np.int32)\r\n",
        "  # Make float datatypes 32 bit\r\n",
        "  else:\r\n",
        "    df[col] = df[col].astype(np.float32)\r\n",
        "    \r\n",
        "  # Print final result\r\n",
        "  mem_usg = df.memory_usage().sum() / 1024**2\r\n",
        "  print(\"Memory usage of properties dataframe is after reduction is:\",mem_usg,\" MB\")\r\n",
        "  return df, NAlist"
      ],
      "execution_count": 25,
      "outputs": []
    },
    {
      "cell_type": "code",
      "metadata": {
        "id": "1RMncXf_u8i3"
      },
      "source": [
        "def plot_predictions(regressors, X, y, axes, label=None, style=\"r-\", data_style=\"b.\", data_label=None):\r\n",
        "  x1 = np.linspace(axes[0], axes[1], 500)\r\n",
        "  y_pred = sum(regressor.predict(x1.reshape(-1, 1)) for regressor in regressors)\r\n",
        "  plt.plot(X[:, 0], y, data_style, label=data_label)\r\n",
        "  plt.plot(x1, y_pred, style, linewidth=2, label=label)\r\n",
        "  if label or data_label:\r\n",
        "    plt.legend(loc=\"upper center\", fontsize=16)\r\n",
        "    plt.axis(axes)"
      ],
      "execution_count": 27,
      "outputs": []
    },
    {
      "cell_type": "markdown",
      "metadata": {
        "id": "CyyLPrewoBO9"
      },
      "source": [
        "#Data Ingestion"
      ]
    },
    {
      "cell_type": "code",
      "metadata": {
        "id": "YsJkaq4lnzCZ"
      },
      "source": [
        "#Data Ingestion"
      ],
      "execution_count": 9,
      "outputs": []
    },
    {
      "cell_type": "code",
      "metadata": {
        "id": "T3_WKkBln6Ui"
      },
      "source": [
        ""
      ],
      "execution_count": null,
      "outputs": []
    },
    {
      "cell_type": "markdown",
      "metadata": {
        "id": "sp3Lxft4oE9Q"
      },
      "source": [
        "#Data Preparation"
      ]
    },
    {
      "cell_type": "code",
      "metadata": {
        "id": "27ypPmv1oM1-"
      },
      "source": [
        ""
      ],
      "execution_count": null,
      "outputs": []
    },
    {
      "cell_type": "markdown",
      "metadata": {
        "id": "I3wrDt7noN2D"
      },
      "source": [
        "#Exploratory Analysis"
      ]
    },
    {
      "cell_type": "code",
      "metadata": {
        "id": "C9Ez3sGxoSz9"
      },
      "source": [
        ""
      ],
      "execution_count": null,
      "outputs": []
    },
    {
      "cell_type": "markdown",
      "metadata": {
        "id": "0pAJr5W_xOSO"
      },
      "source": [
        "# Feature Engineering"
      ]
    },
    {
      "cell_type": "code",
      "metadata": {
        "id": "dNsEOslrxRZC"
      },
      "source": [
        ""
      ],
      "execution_count": null,
      "outputs": []
    },
    {
      "cell_type": "markdown",
      "metadata": {
        "id": "xmInWZBdxSD2"
      },
      "source": [
        "# Data Split: Train Vs Test"
      ]
    },
    {
      "cell_type": "code",
      "metadata": {
        "id": "AF_0G7qmxXO5"
      },
      "source": [
        ""
      ],
      "execution_count": null,
      "outputs": []
    },
    {
      "cell_type": "markdown",
      "metadata": {
        "id": "dR9-W_RBxZ66"
      },
      "source": [
        "#Model Selection & Validation"
      ]
    },
    {
      "cell_type": "code",
      "metadata": {
        "id": "HEm6uQnVxejR"
      },
      "source": [
        ""
      ],
      "execution_count": null,
      "outputs": []
    },
    {
      "cell_type": "markdown",
      "metadata": {
        "id": "OHLVmf8kxsEC"
      },
      "source": [
        "#Model Comparison & Metrics"
      ]
    },
    {
      "cell_type": "code",
      "metadata": {
        "id": "8lSgg7mwxvtN"
      },
      "source": [
        ""
      ],
      "execution_count": null,
      "outputs": []
    },
    {
      "cell_type": "markdown",
      "metadata": {
        "id": "oAJJ5gw_yA2_"
      },
      "source": [
        "#Model Testing"
      ]
    },
    {
      "cell_type": "code",
      "metadata": {
        "id": "FLStqMshyERG"
      },
      "source": [
        ""
      ],
      "execution_count": null,
      "outputs": []
    },
    {
      "cell_type": "markdown",
      "metadata": {
        "id": "oAK1NSBvyI29"
      },
      "source": [
        "#Summary"
      ]
    },
    {
      "cell_type": "code",
      "metadata": {
        "id": "uBPBIrasyMFV"
      },
      "source": [
        ""
      ],
      "execution_count": null,
      "outputs": []
    }
  ]
}
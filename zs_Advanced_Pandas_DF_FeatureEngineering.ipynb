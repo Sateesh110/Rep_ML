{
  "nbformat": 4,
  "nbformat_minor": 0,
  "metadata": {
    "kernelspec": {
      "display_name": "Python 3",
      "language": "python",
      "name": "python3"
    },
    "language_info": {
      "codemirror_mode": {
        "name": "ipython",
        "version": 3
      },
      "file_extension": ".py",
      "mimetype": "text/x-python",
      "name": "python",
      "nbconvert_exporter": "python",
      "pygments_lexer": "ipython3",
      "version": "3.6.5"
    },
    "latex_envs": {
      "LaTeX_envs_menu_present": true,
      "autoclose": false,
      "autocomplete": true,
      "bibliofile": "biblio.bib",
      "cite_by": "apalike",
      "current_citInitial": 1,
      "eqLabelWithNumbers": true,
      "eqNumInitial": 1,
      "hotkeys": {
        "equation": "Ctrl-E",
        "itemize": "Ctrl-I"
      },
      "labels_anchors": false,
      "latex_user_defs": false,
      "report_style_numbering": false,
      "user_envs_cfg": false
    },
    "toc": {
      "base_numbering": 1,
      "nav_menu": {},
      "number_sections": true,
      "sideBar": true,
      "skip_h1_title": false,
      "title_cell": "Table of Contents",
      "title_sidebar": "Contents",
      "toc_cell": true,
      "toc_position": {},
      "toc_section_display": true,
      "toc_window_display": true
    },
    "varInspector": {
      "cols": {
        "lenName": 16,
        "lenType": 16,
        "lenVar": 40
      },
      "kernels_config": {
        "python": {
          "delete_cmd_postfix": "",
          "delete_cmd_prefix": "del ",
          "library": "var_list.py",
          "varRefreshCmd": "print(var_dic_list())"
        },
        "r": {
          "delete_cmd_postfix": ") ",
          "delete_cmd_prefix": "rm(",
          "library": "var_list.r",
          "varRefreshCmd": "cat(var_dic_list()) "
        }
      },
      "types_to_exclude": [
        "module",
        "function",
        "builtin_function_or_method",
        "instance",
        "_Feature"
      ],
      "window_display": false
    },
    "colab": {
      "name": "zs_Advanced_Pandas_DF_FeatureEngineering.ipynb",
      "provenance": [],
      "include_colab_link": true
    }
  },
  "cells": [
    {
      "cell_type": "markdown",
      "metadata": {
        "id": "view-in-github",
        "colab_type": "text"
      },
      "source": [
        "<a href=\"https://colab.research.google.com/github/Sateesh110/Rep_ML/blob/master/zs_Advanced_Pandas_DF_FeatureEngineering.ipynb\" target=\"_parent\"><img src=\"https://colab.research.google.com/assets/colab-badge.svg\" alt=\"Open In Colab\"/></a>"
      ]
    },
    {
      "cell_type": "markdown",
      "metadata": {
        "toc": true,
        "id": "FPGIQnFEwg_U"
      },
      "source": [
        "<h1>Table of Contents<span class=\"tocSkip\"></span></h1>\n",
        "<div class=\"toc\"><ul class=\"toc-item\"><li><span><a href=\"#Import\" data-toc-modified-id=\"Import-1\"><span class=\"toc-item-num\">1&nbsp;&nbsp;</span>Import</a></span></li><li><span><a href=\"#Get-Data\" data-toc-modified-id=\"Get-Data-2\"><span class=\"toc-item-num\">2&nbsp;&nbsp;</span>Get Data</a></span></li><li><span><a href=\"#Quick-Check\" data-toc-modified-id=\"Quick-Check-3\"><span class=\"toc-item-num\">3&nbsp;&nbsp;</span>Quick Check</a></span></li><li><span><a href=\"#Feature-Engineering\" data-toc-modified-id=\"Feature-Engineering-4\"><span class=\"toc-item-num\">4&nbsp;&nbsp;</span>Feature Engineering</a></span><ul class=\"toc-item\"><li><span><a href=\"#Renaming-Columns\" data-toc-modified-id=\"Renaming-Columns-4.1\"><span class=\"toc-item-num\">4.1&nbsp;&nbsp;</span>Renaming Columns</a></span></li><li><span><a href=\"#Imputation\" data-toc-modified-id=\"Imputation-4.2\"><span class=\"toc-item-num\">4.2&nbsp;&nbsp;</span>Imputation</a></span></li><li><span><a href=\"#Outliers\" data-toc-modified-id=\"Outliers-4.3\"><span class=\"toc-item-num\">4.3&nbsp;&nbsp;</span>Outliers</a></span></li><li><span><a href=\"#Bining\" data-toc-modified-id=\"Bining-4.4\"><span class=\"toc-item-num\">4.4&nbsp;&nbsp;</span>Bining</a></span></li><li><span><a href=\"#Extract-Dates\" data-toc-modified-id=\"Extract-Dates-4.5\"><span class=\"toc-item-num\">4.5&nbsp;&nbsp;</span>Extract Dates</a></span></li><li><span><a href=\"#Duplicates\" data-toc-modified-id=\"Duplicates-4.6\"><span class=\"toc-item-num\">4.6&nbsp;&nbsp;</span>Duplicates</a></span></li><li><span><a href=\"#One-Hot-Encoding\" data-toc-modified-id=\"One-Hot-Encoding-4.7\"><span class=\"toc-item-num\">4.7&nbsp;&nbsp;</span>One Hot Encoding</a></span></li><li><span><a href=\"#Group-Operations\" data-toc-modified-id=\"Group-Operations-4.8\"><span class=\"toc-item-num\">4.8&nbsp;&nbsp;</span>Group Operations</a></span></li><li><span><a href=\"#Concatenating-Data\" data-toc-modified-id=\"Concatenating-Data-4.9\"><span class=\"toc-item-num\">4.9&nbsp;&nbsp;</span>Concatenating Data</a></span></li><li><span><a href=\"#Feature-Split\" data-toc-modified-id=\"Feature-Split-4.10\"><span class=\"toc-item-num\">4.10&nbsp;&nbsp;</span>Feature Split</a></span></li><li><span><a href=\"#Scaling\" data-toc-modified-id=\"Scaling-4.11\"><span class=\"toc-item-num\">4.11&nbsp;&nbsp;</span>Scaling</a></span></li><li><span><a href=\"#Transform\" data-toc-modified-id=\"Transform-4.12\"><span class=\"toc-item-num\">4.12&nbsp;&nbsp;</span>Transform</a></span></li></ul></li></ul></div>"
      ]
    },
    {
      "cell_type": "markdown",
      "metadata": {
        "id": "2XzLQK9JwhA3"
      },
      "source": [
        "## Import"
      ]
    },
    {
      "cell_type": "code",
      "metadata": {
        "id": "B1wXvrdzwhA-"
      },
      "source": [
        ""
      ],
      "execution_count": null,
      "outputs": []
    },
    {
      "cell_type": "markdown",
      "metadata": {
        "id": "gWgkpJqlwhBE"
      },
      "source": [
        "## Get Data"
      ]
    },
    {
      "cell_type": "code",
      "metadata": {
        "id": "G_C-5hkEwhBH"
      },
      "source": [
        ""
      ],
      "execution_count": null,
      "outputs": []
    },
    {
      "cell_type": "markdown",
      "metadata": {
        "id": "ke8WLb-BwhBL"
      },
      "source": [
        "## Quick Check"
      ]
    },
    {
      "cell_type": "code",
      "metadata": {
        "id": "HuwHjovawhBP"
      },
      "source": [
        ""
      ],
      "execution_count": null,
      "outputs": []
    },
    {
      "cell_type": "markdown",
      "metadata": {
        "id": "-03uoApUwhBS"
      },
      "source": [
        "## Feature Engineering"
      ]
    },
    {
      "cell_type": "code",
      "metadata": {
        "id": "Dm4Ou1IqwhBU"
      },
      "source": [
        ""
      ],
      "execution_count": null,
      "outputs": []
    },
    {
      "cell_type": "markdown",
      "metadata": {
        "id": "7s4d5shSwhBW"
      },
      "source": [
        "### Renaming Columns"
      ]
    },
    {
      "cell_type": "code",
      "metadata": {
        "id": "dkFeiQCDwhBa"
      },
      "source": [
        ""
      ],
      "execution_count": null,
      "outputs": []
    },
    {
      "cell_type": "markdown",
      "metadata": {
        "id": "9ZLuPNAuwhBc"
      },
      "source": [
        "### Imputation"
      ]
    },
    {
      "cell_type": "code",
      "metadata": {
        "id": "Nu-3GG1qwhBe"
      },
      "source": [
        ""
      ],
      "execution_count": null,
      "outputs": []
    },
    {
      "cell_type": "code",
      "metadata": {
        "id": "k6FhLbuWwhBg"
      },
      "source": [
        ""
      ],
      "execution_count": null,
      "outputs": []
    },
    {
      "cell_type": "markdown",
      "metadata": {
        "id": "rqnhRMltwhBh"
      },
      "source": [
        "### Outliers"
      ]
    },
    {
      "cell_type": "code",
      "metadata": {
        "id": "ZYzn-L0_whBj"
      },
      "source": [
        ""
      ],
      "execution_count": null,
      "outputs": []
    },
    {
      "cell_type": "markdown",
      "metadata": {
        "id": "WOzjsXLdwhBk"
      },
      "source": [
        "### Bining"
      ]
    },
    {
      "cell_type": "code",
      "metadata": {
        "id": "ptl5kXiCwhBm"
      },
      "source": [
        ""
      ],
      "execution_count": null,
      "outputs": []
    },
    {
      "cell_type": "markdown",
      "metadata": {
        "id": "I_6lBdtwwhBn"
      },
      "source": [
        "### Extract Dates"
      ]
    },
    {
      "cell_type": "code",
      "metadata": {
        "id": "7c6oYWiKwhBo"
      },
      "source": [
        ""
      ],
      "execution_count": null,
      "outputs": []
    },
    {
      "cell_type": "markdown",
      "metadata": {
        "id": "EBYViYbPwhBq"
      },
      "source": [
        "### Duplicates"
      ]
    },
    {
      "cell_type": "code",
      "metadata": {
        "id": "WSUjIkjmwhBs"
      },
      "source": [
        ""
      ],
      "execution_count": null,
      "outputs": []
    },
    {
      "cell_type": "markdown",
      "metadata": {
        "id": "6syH89v7whBu"
      },
      "source": [
        "### One Hot Encoding"
      ]
    },
    {
      "cell_type": "code",
      "metadata": {
        "id": "1kxsFxf-whBw"
      },
      "source": [
        ""
      ],
      "execution_count": null,
      "outputs": []
    },
    {
      "cell_type": "markdown",
      "metadata": {
        "id": "SF_DbLmHwhBy"
      },
      "source": [
        "### Group Operations"
      ]
    },
    {
      "cell_type": "code",
      "metadata": {
        "id": "Nfmi8C--whBz"
      },
      "source": [
        ""
      ],
      "execution_count": null,
      "outputs": []
    },
    {
      "cell_type": "markdown",
      "metadata": {
        "id": "Ana3_DxMwhB1"
      },
      "source": [
        "### Concatenating Data"
      ]
    },
    {
      "cell_type": "code",
      "metadata": {
        "id": "SF3SljG5whB2"
      },
      "source": [
        ""
      ],
      "execution_count": null,
      "outputs": []
    },
    {
      "cell_type": "markdown",
      "metadata": {
        "id": "aSnBej4BwhB3"
      },
      "source": [
        "### Feature Split"
      ]
    },
    {
      "cell_type": "code",
      "metadata": {
        "id": "1EGKZfIZwhB4"
      },
      "source": [
        ""
      ],
      "execution_count": null,
      "outputs": []
    },
    {
      "cell_type": "markdown",
      "metadata": {
        "id": "jDFumlaUwhB5"
      },
      "source": [
        "### Scaling"
      ]
    },
    {
      "cell_type": "code",
      "metadata": {
        "id": "A9OcayRpwhB6"
      },
      "source": [
        ""
      ],
      "execution_count": null,
      "outputs": []
    },
    {
      "cell_type": "markdown",
      "metadata": {
        "id": "2KrMnEa2whB7"
      },
      "source": [
        "### Transform"
      ]
    },
    {
      "cell_type": "code",
      "metadata": {
        "id": "VlnbFl_twhB8"
      },
      "source": [
        ""
      ],
      "execution_count": null,
      "outputs": []
    }
  ]
}
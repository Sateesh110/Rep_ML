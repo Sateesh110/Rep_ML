{
  "nbformat": 4,
  "nbformat_minor": 0,
  "metadata": {
    "colab": {
      "name": "zFE_Date_Transformations.ipynb",
      "provenance": [],
      "toc_visible": true,
      "authorship_tag": "ABX9TyPV9/dh+sWrT5qEoqvH8hZV",
      "include_colab_link": true
    },
    "kernelspec": {
      "name": "python3",
      "display_name": "Python 3"
    }
  },
  "cells": [
    {
      "cell_type": "markdown",
      "metadata": {
        "id": "view-in-github",
        "colab_type": "text"
      },
      "source": [
        "<a href=\"https://colab.research.google.com/github/Sateesh110/Rep_ML/blob/master/zFE_Date_Transformations.ipynb\" target=\"_parent\"><img src=\"https://colab.research.google.com/assets/colab-badge.svg\" alt=\"Open In Colab\"/></a>"
      ]
    },
    {
      "cell_type": "markdown",
      "metadata": {
        "id": "tNdRZT0ml4zz"
      },
      "source": [
        "#Import Packages"
      ]
    },
    {
      "cell_type": "code",
      "metadata": {
        "id": "76NhELA4l9BK"
      },
      "source": [
        "import pandas as pd\r\n",
        "import numpy as np"
      ],
      "execution_count": 66,
      "outputs": []
    },
    {
      "cell_type": "markdown",
      "metadata": {
        "id": "KLj8QceFl_94"
      },
      "source": [
        "#Get Data"
      ]
    },
    {
      "cell_type": "code",
      "metadata": {
        "colab": {
          "base_uri": "https://localhost:8080/"
        },
        "id": "kggjLLy2l--L",
        "outputId": "f904f981-e3bb-44bd-b219-513a82243f2b"
      },
      "source": [
        "# create a series with the ranges\r\n",
        "#T-Time frequency, D-Day, M-Month, Y-Year\r\n",
        "y = pd.date_range('01.01.2021', periods=12, freq='Y')\r\n",
        "print(y)\r\n",
        "\r\n",
        "m = pd.date_range('01.01.2021', periods=12, freq='M')\r\n",
        "t = pd.date_range('01.01.2021', periods=12, freq='T')\r\n",
        "d = pd.date_range('01.01.2021', periods=12, freq='D')\r\n",
        "q = pd.date_range('01.01.2021', periods=12, freq='Q')\r\n"
      ],
      "execution_count": 35,
      "outputs": [
        {
          "output_type": "stream",
          "text": [
            "DatetimeIndex(['2021-12-31', '2022-12-31', '2023-12-31', '2024-12-31',\n",
            "               '2025-12-31', '2026-12-31', '2027-12-31', '2028-12-31',\n",
            "               '2029-12-31', '2030-12-31', '2031-12-31', '2032-12-31'],\n",
            "              dtype='datetime64[ns]', freq='A-DEC')\n"
          ],
          "name": "stdout"
        }
      ]
    },
    {
      "cell_type": "code",
      "metadata": {
        "colab": {
          "base_uri": "https://localhost:8080/"
        },
        "id": "vtJB9BX_mN1t",
        "outputId": "53a68bfb-0121-4853-cb13-90d4476b87e9"
      },
      "source": [
        "df1 = pd.DataFrame({\"zDate\":y})\r\n",
        "df2 = pd.DataFrame({\"zDate\":m})\r\n",
        "df3 = pd.DataFrame({\"zDate\":t})\r\n",
        "df4 = pd.DataFrame({\"zDate\":d})\r\n",
        "df5 = pd.DataFrame({\"zDate\":q})\r\n",
        "lst = [df1,df2,df3,df4,df5]\r\n",
        "df = pd.concat(lst)\r\n",
        "print(f'# of records :{len(df)}')\r\n",
        "print(df.head(3))\r\n"
      ],
      "execution_count": 44,
      "outputs": [
        {
          "output_type": "stream",
          "text": [
            "# of records :60\n",
            "       zDate\n",
            "0 2021-12-31\n",
            "1 2022-12-31\n",
            "2 2023-12-31\n"
          ],
          "name": "stdout"
        }
      ]
    },
    {
      "cell_type": "code",
      "metadata": {
        "colab": {
          "base_uri": "https://localhost:8080/"
        },
        "id": "_Tbq-LzXotdT",
        "outputId": "fcf3eb21-2749-42f6-d090-54b9baf44b42"
      },
      "source": [
        "# attributes & data types\r\n",
        "df.dtypes"
      ],
      "execution_count": 47,
      "outputs": [
        {
          "output_type": "execute_result",
          "data": {
            "text/plain": [
              "zDate    datetime64[ns]\n",
              "dtype: object"
            ]
          },
          "metadata": {
            "tags": []
          },
          "execution_count": 47
        }
      ]
    },
    {
      "cell_type": "markdown",
      "metadata": {
        "id": "olv9aV2qwlST"
      },
      "source": [
        "#Date Transformations"
      ]
    },
    {
      "cell_type": "markdown",
      "metadata": {
        "id": "HfxBsTsNwqQk"
      },
      "source": [
        "##Get Date"
      ]
    },
    {
      "cell_type": "code",
      "metadata": {
        "colab": {
          "base_uri": "https://localhost:8080/",
          "height": 106
        },
        "id": "nrSeIg6Culp4",
        "outputId": "4f545ad9-b554-4fda-ccd1-857e30586027"
      },
      "source": [
        "df['date_part'] = df['zDate'].dt.date\r\n",
        "df.head(2)"
      ],
      "execution_count": 50,
      "outputs": [
        {
          "output_type": "execute_result",
          "data": {
            "text/html": [
              "<div>\n",
              "<style scoped>\n",
              "    .dataframe tbody tr th:only-of-type {\n",
              "        vertical-align: middle;\n",
              "    }\n",
              "\n",
              "    .dataframe tbody tr th {\n",
              "        vertical-align: top;\n",
              "    }\n",
              "\n",
              "    .dataframe thead th {\n",
              "        text-align: right;\n",
              "    }\n",
              "</style>\n",
              "<table border=\"1\" class=\"dataframe\">\n",
              "  <thead>\n",
              "    <tr style=\"text-align: right;\">\n",
              "      <th></th>\n",
              "      <th>zDate</th>\n",
              "      <th>date_part</th>\n",
              "    </tr>\n",
              "  </thead>\n",
              "  <tbody>\n",
              "    <tr>\n",
              "      <th>0</th>\n",
              "      <td>2021-12-31</td>\n",
              "      <td>2021-12-31</td>\n",
              "    </tr>\n",
              "    <tr>\n",
              "      <th>1</th>\n",
              "      <td>2022-12-31</td>\n",
              "      <td>2022-12-31</td>\n",
              "    </tr>\n",
              "  </tbody>\n",
              "</table>\n",
              "</div>"
            ],
            "text/plain": [
              "       zDate   date_part\n",
              "0 2021-12-31  2021-12-31\n",
              "1 2022-12-31  2022-12-31"
            ]
          },
          "metadata": {
            "tags": []
          },
          "execution_count": 50
        }
      ]
    },
    {
      "cell_type": "markdown",
      "metadata": {
        "id": "gS05GX6YxbH_"
      },
      "source": [
        "##Get Day|Month|Year|Quarter|Week|Semister"
      ]
    },
    {
      "cell_type": "code",
      "metadata": {
        "colab": {
          "base_uri": "https://localhost:8080/",
          "height": 191
        },
        "id": "442PWbs9w-xH",
        "outputId": "6e7755b5-3955-47ba-b70a-4cd4520dc3b9"
      },
      "source": [
        "df[\"day\"]=df['zDate'].dt.day\r\n",
        "df[\"week\"]=df['zDate'].dt.week\r\n",
        "df[\"month\"]=df['zDate'].dt.month\r\n",
        "df[\"quarter\"]=df['zDate'].dt.quarter\r\n",
        "df[\"year\"]=df['zDate'].dt.year\r\n",
        "df[\"time\"]=df['zDate'].dt.time\r\n",
        "df.head(3)"
      ],
      "execution_count": 59,
      "outputs": [
        {
          "output_type": "stream",
          "text": [
            "/usr/local/lib/python3.6/dist-packages/ipykernel_launcher.py:2: FutureWarning: Series.dt.weekofyear and Series.dt.week have been deprecated.  Please use Series.dt.isocalendar().week instead.\n",
            "  \n"
          ],
          "name": "stderr"
        },
        {
          "output_type": "execute_result",
          "data": {
            "text/html": [
              "<div>\n",
              "<style scoped>\n",
              "    .dataframe tbody tr th:only-of-type {\n",
              "        vertical-align: middle;\n",
              "    }\n",
              "\n",
              "    .dataframe tbody tr th {\n",
              "        vertical-align: top;\n",
              "    }\n",
              "\n",
              "    .dataframe thead th {\n",
              "        text-align: right;\n",
              "    }\n",
              "</style>\n",
              "<table border=\"1\" class=\"dataframe\">\n",
              "  <thead>\n",
              "    <tr style=\"text-align: right;\">\n",
              "      <th></th>\n",
              "      <th>zDate</th>\n",
              "      <th>date_part</th>\n",
              "      <th>day</th>\n",
              "      <th>week</th>\n",
              "      <th>month</th>\n",
              "      <th>quarter</th>\n",
              "      <th>year</th>\n",
              "      <th>time</th>\n",
              "    </tr>\n",
              "  </thead>\n",
              "  <tbody>\n",
              "    <tr>\n",
              "      <th>0</th>\n",
              "      <td>2021-12-31</td>\n",
              "      <td>2021-12-31</td>\n",
              "      <td>31</td>\n",
              "      <td>52</td>\n",
              "      <td>12</td>\n",
              "      <td>4</td>\n",
              "      <td>2021</td>\n",
              "      <td>00:00:00</td>\n",
              "    </tr>\n",
              "    <tr>\n",
              "      <th>1</th>\n",
              "      <td>2022-12-31</td>\n",
              "      <td>2022-12-31</td>\n",
              "      <td>31</td>\n",
              "      <td>52</td>\n",
              "      <td>12</td>\n",
              "      <td>4</td>\n",
              "      <td>2022</td>\n",
              "      <td>00:00:00</td>\n",
              "    </tr>\n",
              "    <tr>\n",
              "      <th>2</th>\n",
              "      <td>2023-12-31</td>\n",
              "      <td>2023-12-31</td>\n",
              "      <td>31</td>\n",
              "      <td>52</td>\n",
              "      <td>12</td>\n",
              "      <td>4</td>\n",
              "      <td>2023</td>\n",
              "      <td>00:00:00</td>\n",
              "    </tr>\n",
              "  </tbody>\n",
              "</table>\n",
              "</div>"
            ],
            "text/plain": [
              "       zDate   date_part  day  week  month  quarter  year      time\n",
              "0 2021-12-31  2021-12-31   31    52     12        4  2021  00:00:00\n",
              "1 2022-12-31  2022-12-31   31    52     12        4  2022  00:00:00\n",
              "2 2023-12-31  2023-12-31   31    52     12        4  2023  00:00:00"
            ]
          },
          "metadata": {
            "tags": []
          },
          "execution_count": 59
        }
      ]
    },
    {
      "cell_type": "code",
      "metadata": {
        "colab": {
          "base_uri": "https://localhost:8080/",
          "height": 136
        },
        "id": "1Uc1FihI1n3Y",
        "outputId": "9d5443d3-c06c-4a8d-cf1a-ea1466739afe"
      },
      "source": [
        "# extract semester\r\n",
        "df['semester'] = np.where(df['quarter'].isin([1,2]), 1,2)\r\n",
        "\r\n",
        "df.head(3)"
      ],
      "execution_count": 69,
      "outputs": [
        {
          "output_type": "execute_result",
          "data": {
            "text/html": [
              "<div>\n",
              "<style scoped>\n",
              "    .dataframe tbody tr th:only-of-type {\n",
              "        vertical-align: middle;\n",
              "    }\n",
              "\n",
              "    .dataframe tbody tr th {\n",
              "        vertical-align: top;\n",
              "    }\n",
              "\n",
              "    .dataframe thead th {\n",
              "        text-align: right;\n",
              "    }\n",
              "</style>\n",
              "<table border=\"1\" class=\"dataframe\">\n",
              "  <thead>\n",
              "    <tr style=\"text-align: right;\">\n",
              "      <th></th>\n",
              "      <th>zDate</th>\n",
              "      <th>date_part</th>\n",
              "      <th>day</th>\n",
              "      <th>week</th>\n",
              "      <th>month</th>\n",
              "      <th>quarter</th>\n",
              "      <th>year</th>\n",
              "      <th>time</th>\n",
              "      <th>zDate_New</th>\n",
              "      <th>semester</th>\n",
              "    </tr>\n",
              "  </thead>\n",
              "  <tbody>\n",
              "    <tr>\n",
              "      <th>0</th>\n",
              "      <td>2021-12-31</td>\n",
              "      <td>2021-12-31</td>\n",
              "      <td>31</td>\n",
              "      <td>52</td>\n",
              "      <td>12</td>\n",
              "      <td>4</td>\n",
              "      <td>2021</td>\n",
              "      <td>00:00:00</td>\n",
              "      <td>2021-01-01</td>\n",
              "      <td>2</td>\n",
              "    </tr>\n",
              "    <tr>\n",
              "      <th>1</th>\n",
              "      <td>2022-12-31</td>\n",
              "      <td>2022-12-31</td>\n",
              "      <td>31</td>\n",
              "      <td>52</td>\n",
              "      <td>12</td>\n",
              "      <td>4</td>\n",
              "      <td>2022</td>\n",
              "      <td>00:00:00</td>\n",
              "      <td>2021-02-01</td>\n",
              "      <td>2</td>\n",
              "    </tr>\n",
              "    <tr>\n",
              "      <th>2</th>\n",
              "      <td>2023-12-31</td>\n",
              "      <td>2023-12-31</td>\n",
              "      <td>31</td>\n",
              "      <td>52</td>\n",
              "      <td>12</td>\n",
              "      <td>4</td>\n",
              "      <td>2023</td>\n",
              "      <td>00:00:00</td>\n",
              "      <td>2021-03-01</td>\n",
              "      <td>2</td>\n",
              "    </tr>\n",
              "  </tbody>\n",
              "</table>\n",
              "</div>"
            ],
            "text/plain": [
              "       zDate   date_part  day  week  ...  year      time  zDate_New semester\n",
              "0 2021-12-31  2021-12-31   31    52  ...  2021  00:00:00 2021-01-01        2\n",
              "1 2022-12-31  2022-12-31   31    52  ...  2022  00:00:00 2021-02-01        2\n",
              "2 2023-12-31  2023-12-31   31    52  ...  2023  00:00:00 2021-03-01        2\n",
              "\n",
              "[3 rows x 10 columns]"
            ]
          },
          "metadata": {
            "tags": []
          },
          "execution_count": 69
        }
      ]
    },
    {
      "cell_type": "markdown",
      "metadata": {
        "id": "toFB_XQDzwwm"
      },
      "source": [
        "##Convert to Datetime column"
      ]
    },
    {
      "cell_type": "code",
      "metadata": {
        "colab": {
          "base_uri": "https://localhost:8080/",
          "height": 136
        },
        "id": "lbaYw0_Cx-nj",
        "outputId": "fa6fd0c0-a116-4fff-b78e-e58e7b59abcc"
      },
      "source": [
        "df2 = pd.DataFrame({\"zDate2\":[\"Jan-2021\",\"Feb-2021\",\"Mar-2021\",\"Apr-2021\",\"May-2021\",\"Jun-2021\"]})\r\n",
        "\r\n",
        "# Convert colume to datetime column\r\n",
        "df[\"zDate_New\"] = pd.to_datetime(df2[\"zDate2\"])\r\n",
        "df.head(3)"
      ],
      "execution_count": 63,
      "outputs": [
        {
          "output_type": "execute_result",
          "data": {
            "text/html": [
              "<div>\n",
              "<style scoped>\n",
              "    .dataframe tbody tr th:only-of-type {\n",
              "        vertical-align: middle;\n",
              "    }\n",
              "\n",
              "    .dataframe tbody tr th {\n",
              "        vertical-align: top;\n",
              "    }\n",
              "\n",
              "    .dataframe thead th {\n",
              "        text-align: right;\n",
              "    }\n",
              "</style>\n",
              "<table border=\"1\" class=\"dataframe\">\n",
              "  <thead>\n",
              "    <tr style=\"text-align: right;\">\n",
              "      <th></th>\n",
              "      <th>zDate</th>\n",
              "      <th>date_part</th>\n",
              "      <th>day</th>\n",
              "      <th>week</th>\n",
              "      <th>month</th>\n",
              "      <th>quarter</th>\n",
              "      <th>year</th>\n",
              "      <th>time</th>\n",
              "      <th>zDate_New</th>\n",
              "    </tr>\n",
              "  </thead>\n",
              "  <tbody>\n",
              "    <tr>\n",
              "      <th>0</th>\n",
              "      <td>2021-12-31</td>\n",
              "      <td>2021-12-31</td>\n",
              "      <td>31</td>\n",
              "      <td>52</td>\n",
              "      <td>12</td>\n",
              "      <td>4</td>\n",
              "      <td>2021</td>\n",
              "      <td>00:00:00</td>\n",
              "      <td>2021-01-01</td>\n",
              "    </tr>\n",
              "    <tr>\n",
              "      <th>1</th>\n",
              "      <td>2022-12-31</td>\n",
              "      <td>2022-12-31</td>\n",
              "      <td>31</td>\n",
              "      <td>52</td>\n",
              "      <td>12</td>\n",
              "      <td>4</td>\n",
              "      <td>2022</td>\n",
              "      <td>00:00:00</td>\n",
              "      <td>2021-02-01</td>\n",
              "    </tr>\n",
              "    <tr>\n",
              "      <th>2</th>\n",
              "      <td>2023-12-31</td>\n",
              "      <td>2023-12-31</td>\n",
              "      <td>31</td>\n",
              "      <td>52</td>\n",
              "      <td>12</td>\n",
              "      <td>4</td>\n",
              "      <td>2023</td>\n",
              "      <td>00:00:00</td>\n",
              "      <td>2021-03-01</td>\n",
              "    </tr>\n",
              "  </tbody>\n",
              "</table>\n",
              "</div>"
            ],
            "text/plain": [
              "       zDate   date_part  day  week  month  quarter  year      time  zDate_New\n",
              "0 2021-12-31  2021-12-31   31    52     12        4  2021  00:00:00 2021-01-01\n",
              "1 2022-12-31  2022-12-31   31    52     12        4  2022  00:00:00 2021-02-01\n",
              "2 2023-12-31  2023-12-31   31    52     12        4  2023  00:00:00 2021-03-01"
            ]
          },
          "metadata": {
            "tags": []
          },
          "execution_count": 63
        }
      ]
    },
    {
      "cell_type": "code",
      "metadata": {
        "colab": {
          "base_uri": "https://localhost:8080/"
        },
        "id": "xN-U1PCe0WzC",
        "outputId": "d16fe923-64b5-4eac-b2c2-77c045f14ec2"
      },
      "source": [
        "df.dtypes"
      ],
      "execution_count": 64,
      "outputs": [
        {
          "output_type": "execute_result",
          "data": {
            "text/plain": [
              "zDate        datetime64[ns]\n",
              "date_part            object\n",
              "day                   int64\n",
              "week                  int64\n",
              "month                 int64\n",
              "quarter               int64\n",
              "year                  int64\n",
              "time                 object\n",
              "zDate_New    datetime64[ns]\n",
              "dtype: object"
            ]
          },
          "metadata": {
            "tags": []
          },
          "execution_count": 64
        }
      ]
    },
    {
      "cell_type": "code",
      "metadata": {
        "id": "8V9sHa8m1VNT"
      },
      "source": [
        ""
      ],
      "execution_count": null,
      "outputs": []
    }
  ]
}
{
  "nbformat": 4,
  "nbformat_minor": 0,
  "metadata": {
    "colab": {
      "name": "zFE_Date_Transformations.ipynb",
      "provenance": [],
      "toc_visible": true,
      "authorship_tag": "ABX9TyNCYgdfTM3jbYRFZLXqwzuZ",
      "include_colab_link": true
    },
    "kernelspec": {
      "name": "python3",
      "display_name": "Python 3"
    }
  },
  "cells": [
    {
      "cell_type": "markdown",
      "metadata": {
        "id": "view-in-github",
        "colab_type": "text"
      },
      "source": [
        "<a href=\"https://colab.research.google.com/github/Sateesh110/Rep_ML/blob/master/zFE_Date_Transformations.ipynb\" target=\"_parent\"><img src=\"https://colab.research.google.com/assets/colab-badge.svg\" alt=\"Open In Colab\"/></a>"
      ]
    },
    {
      "cell_type": "markdown",
      "metadata": {
        "id": "tNdRZT0ml4zz"
      },
      "source": [
        "#Import Packages"
      ]
    },
    {
      "cell_type": "code",
      "metadata": {
        "id": "76NhELA4l9BK"
      },
      "source": [
        "import pandas as pd\r\n",
        "import numpy as np\r\n",
        "import datetime\r\n",
        "import calendar as c\r\n",
        "import time\r\n",
        "from datetime import*"
      ],
      "execution_count": 1,
      "outputs": []
    },
    {
      "cell_type": "markdown",
      "metadata": {
        "id": "KLj8QceFl_94"
      },
      "source": [
        "#Get Data"
      ]
    },
    {
      "cell_type": "code",
      "metadata": {
        "colab": {
          "base_uri": "https://localhost:8080/"
        },
        "id": "kggjLLy2l--L",
        "outputId": "6588f03f-a6a6-44ad-d203-9c1deec58dc1"
      },
      "source": [
        "# create a series with the ranges\r\n",
        "#T-Time frequency, D-Day, M-Month, Y-Year\r\n",
        "y = pd.date_range('01.01.2021', periods=12, freq='Y')\r\n",
        "print(y)\r\n",
        "\r\n",
        "m = pd.date_range('01.01.2021', periods=12, freq='M')\r\n",
        "t = pd.date_range('01.01.2021', periods=12, freq='T')\r\n",
        "d = pd.date_range('01.01.2021', periods=12, freq='D')\r\n",
        "q = pd.date_range('01.01.2021', periods=12, freq='Q')\r\n"
      ],
      "execution_count": 2,
      "outputs": [
        {
          "output_type": "stream",
          "text": [
            "DatetimeIndex(['2021-12-31', '2022-12-31', '2023-12-31', '2024-12-31',\n",
            "               '2025-12-31', '2026-12-31', '2027-12-31', '2028-12-31',\n",
            "               '2029-12-31', '2030-12-31', '2031-12-31', '2032-12-31'],\n",
            "              dtype='datetime64[ns]', freq='A-DEC')\n"
          ],
          "name": "stdout"
        }
      ]
    },
    {
      "cell_type": "code",
      "metadata": {
        "colab": {
          "base_uri": "https://localhost:8080/"
        },
        "id": "vtJB9BX_mN1t",
        "outputId": "be6097f7-534e-4933-c163-8508267a48e0"
      },
      "source": [
        "df1 = pd.DataFrame({\"zDate\":y})\r\n",
        "df2 = pd.DataFrame({\"zDate\":m})\r\n",
        "df3 = pd.DataFrame({\"zDate\":t})\r\n",
        "df4 = pd.DataFrame({\"zDate\":d})\r\n",
        "df5 = pd.DataFrame({\"zDate\":q})\r\n",
        "lst = [df1,df2,df3,df4,df5]\r\n",
        "df = pd.concat(lst)\r\n",
        "print(f'# of records :{len(df)}')\r\n",
        "print(df.head(3))\r\n"
      ],
      "execution_count": 4,
      "outputs": [
        {
          "output_type": "stream",
          "text": [
            "# of records :60\n",
            "       zDate\n",
            "0 2021-12-31\n",
            "1 2022-12-31\n",
            "2 2023-12-31\n"
          ],
          "name": "stdout"
        }
      ]
    },
    {
      "cell_type": "code",
      "metadata": {
        "colab": {
          "base_uri": "https://localhost:8080/"
        },
        "id": "_Tbq-LzXotdT",
        "outputId": "03d87aac-d047-4b9e-f6c8-3cdae4c662c8"
      },
      "source": [
        "# attributes & data types\r\n",
        "df.dtypes"
      ],
      "execution_count": 5,
      "outputs": [
        {
          "output_type": "execute_result",
          "data": {
            "text/plain": [
              "zDate    datetime64[ns]\n",
              "dtype: object"
            ]
          },
          "metadata": {
            "tags": []
          },
          "execution_count": 5
        }
      ]
    },
    {
      "cell_type": "markdown",
      "metadata": {
        "id": "olv9aV2qwlST"
      },
      "source": [
        "#Date Transformations"
      ]
    },
    {
      "cell_type": "markdown",
      "metadata": {
        "id": "HfxBsTsNwqQk"
      },
      "source": [
        "##Get Date"
      ]
    },
    {
      "cell_type": "code",
      "metadata": {
        "colab": {
          "base_uri": "https://localhost:8080/",
          "height": 106
        },
        "id": "nrSeIg6Culp4",
        "outputId": "da017fd2-d8b3-4b20-e740-91a9b38cc087"
      },
      "source": [
        "df['date_part'] = df['zDate'].dt.date\r\n",
        "df.head(2)"
      ],
      "execution_count": 6,
      "outputs": [
        {
          "output_type": "execute_result",
          "data": {
            "text/html": [
              "<div>\n",
              "<style scoped>\n",
              "    .dataframe tbody tr th:only-of-type {\n",
              "        vertical-align: middle;\n",
              "    }\n",
              "\n",
              "    .dataframe tbody tr th {\n",
              "        vertical-align: top;\n",
              "    }\n",
              "\n",
              "    .dataframe thead th {\n",
              "        text-align: right;\n",
              "    }\n",
              "</style>\n",
              "<table border=\"1\" class=\"dataframe\">\n",
              "  <thead>\n",
              "    <tr style=\"text-align: right;\">\n",
              "      <th></th>\n",
              "      <th>zDate</th>\n",
              "      <th>date_part</th>\n",
              "    </tr>\n",
              "  </thead>\n",
              "  <tbody>\n",
              "    <tr>\n",
              "      <th>0</th>\n",
              "      <td>2021-12-31</td>\n",
              "      <td>2021-12-31</td>\n",
              "    </tr>\n",
              "    <tr>\n",
              "      <th>1</th>\n",
              "      <td>2022-12-31</td>\n",
              "      <td>2022-12-31</td>\n",
              "    </tr>\n",
              "  </tbody>\n",
              "</table>\n",
              "</div>"
            ],
            "text/plain": [
              "       zDate   date_part\n",
              "0 2021-12-31  2021-12-31\n",
              "1 2022-12-31  2022-12-31"
            ]
          },
          "metadata": {
            "tags": []
          },
          "execution_count": 6
        }
      ]
    },
    {
      "cell_type": "markdown",
      "metadata": {
        "id": "gS05GX6YxbH_"
      },
      "source": [
        "##Extract Day|Month|Year|Quarter|Week|Semister"
      ]
    },
    {
      "cell_type": "code",
      "metadata": {
        "colab": {
          "base_uri": "https://localhost:8080/",
          "height": 191
        },
        "id": "442PWbs9w-xH",
        "outputId": "80c19ea9-cfe7-43bf-8b15-55fc39628b1a"
      },
      "source": [
        "df[\"day\"]=df['zDate'].dt.day\r\n",
        "df[\"week\"]=df['zDate'].dt.weekofyear\r\n",
        "df[\"month\"]=df['zDate'].dt.month\r\n",
        "df[\"quarter\"]=df['zDate'].dt.quarter\r\n",
        "df[\"year\"]=df['zDate'].dt.year\r\n",
        "df[\"time\"]=df['zDate'].dt.time\r\n",
        "df['day_week'] = df['zDate'].dt.dayofweek\r\n",
        "#df['day_week_name'] = df['zDate'].dt.day_week_name\r\n",
        "df.head(3)"
      ],
      "execution_count": 8,
      "outputs": [
        {
          "output_type": "stream",
          "text": [
            "/usr/local/lib/python3.6/dist-packages/ipykernel_launcher.py:2: FutureWarning: Series.dt.weekofyear and Series.dt.week have been deprecated.  Please use Series.dt.isocalendar().week instead.\n",
            "  \n"
          ],
          "name": "stderr"
        },
        {
          "output_type": "execute_result",
          "data": {
            "text/html": [
              "<div>\n",
              "<style scoped>\n",
              "    .dataframe tbody tr th:only-of-type {\n",
              "        vertical-align: middle;\n",
              "    }\n",
              "\n",
              "    .dataframe tbody tr th {\n",
              "        vertical-align: top;\n",
              "    }\n",
              "\n",
              "    .dataframe thead th {\n",
              "        text-align: right;\n",
              "    }\n",
              "</style>\n",
              "<table border=\"1\" class=\"dataframe\">\n",
              "  <thead>\n",
              "    <tr style=\"text-align: right;\">\n",
              "      <th></th>\n",
              "      <th>zDate</th>\n",
              "      <th>date_part</th>\n",
              "      <th>day</th>\n",
              "      <th>week</th>\n",
              "      <th>month</th>\n",
              "      <th>quarter</th>\n",
              "      <th>year</th>\n",
              "      <th>time</th>\n",
              "      <th>day_week</th>\n",
              "    </tr>\n",
              "  </thead>\n",
              "  <tbody>\n",
              "    <tr>\n",
              "      <th>0</th>\n",
              "      <td>2021-12-31</td>\n",
              "      <td>2021-12-31</td>\n",
              "      <td>31</td>\n",
              "      <td>52</td>\n",
              "      <td>12</td>\n",
              "      <td>4</td>\n",
              "      <td>2021</td>\n",
              "      <td>00:00:00</td>\n",
              "      <td>4</td>\n",
              "    </tr>\n",
              "    <tr>\n",
              "      <th>1</th>\n",
              "      <td>2022-12-31</td>\n",
              "      <td>2022-12-31</td>\n",
              "      <td>31</td>\n",
              "      <td>52</td>\n",
              "      <td>12</td>\n",
              "      <td>4</td>\n",
              "      <td>2022</td>\n",
              "      <td>00:00:00</td>\n",
              "      <td>5</td>\n",
              "    </tr>\n",
              "    <tr>\n",
              "      <th>2</th>\n",
              "      <td>2023-12-31</td>\n",
              "      <td>2023-12-31</td>\n",
              "      <td>31</td>\n",
              "      <td>52</td>\n",
              "      <td>12</td>\n",
              "      <td>4</td>\n",
              "      <td>2023</td>\n",
              "      <td>00:00:00</td>\n",
              "      <td>6</td>\n",
              "    </tr>\n",
              "  </tbody>\n",
              "</table>\n",
              "</div>"
            ],
            "text/plain": [
              "       zDate   date_part  day  week  month  quarter  year      time  day_week\n",
              "0 2021-12-31  2021-12-31   31    52     12        4  2021  00:00:00         4\n",
              "1 2022-12-31  2022-12-31   31    52     12        4  2022  00:00:00         5\n",
              "2 2023-12-31  2023-12-31   31    52     12        4  2023  00:00:00         6"
            ]
          },
          "metadata": {
            "tags": []
          },
          "execution_count": 8
        }
      ]
    },
    {
      "cell_type": "code",
      "metadata": {
        "colab": {
          "base_uri": "https://localhost:8080/",
          "height": 135
        },
        "id": "1Uc1FihI1n3Y",
        "outputId": "87b7f210-fa2a-456c-8a07-f70215c38894"
      },
      "source": [
        "# extract semester\r\n",
        "df['semester'] = np.where(df['quarter'].isin([1,2]), 1,2)\r\n",
        "\r\n",
        "df.head(3)"
      ],
      "execution_count": 9,
      "outputs": [
        {
          "output_type": "execute_result",
          "data": {
            "text/html": [
              "<div>\n",
              "<style scoped>\n",
              "    .dataframe tbody tr th:only-of-type {\n",
              "        vertical-align: middle;\n",
              "    }\n",
              "\n",
              "    .dataframe tbody tr th {\n",
              "        vertical-align: top;\n",
              "    }\n",
              "\n",
              "    .dataframe thead th {\n",
              "        text-align: right;\n",
              "    }\n",
              "</style>\n",
              "<table border=\"1\" class=\"dataframe\">\n",
              "  <thead>\n",
              "    <tr style=\"text-align: right;\">\n",
              "      <th></th>\n",
              "      <th>zDate</th>\n",
              "      <th>date_part</th>\n",
              "      <th>day</th>\n",
              "      <th>week</th>\n",
              "      <th>month</th>\n",
              "      <th>quarter</th>\n",
              "      <th>year</th>\n",
              "      <th>time</th>\n",
              "      <th>day_week</th>\n",
              "      <th>semester</th>\n",
              "    </tr>\n",
              "  </thead>\n",
              "  <tbody>\n",
              "    <tr>\n",
              "      <th>0</th>\n",
              "      <td>2021-12-31</td>\n",
              "      <td>2021-12-31</td>\n",
              "      <td>31</td>\n",
              "      <td>52</td>\n",
              "      <td>12</td>\n",
              "      <td>4</td>\n",
              "      <td>2021</td>\n",
              "      <td>00:00:00</td>\n",
              "      <td>4</td>\n",
              "      <td>2</td>\n",
              "    </tr>\n",
              "    <tr>\n",
              "      <th>1</th>\n",
              "      <td>2022-12-31</td>\n",
              "      <td>2022-12-31</td>\n",
              "      <td>31</td>\n",
              "      <td>52</td>\n",
              "      <td>12</td>\n",
              "      <td>4</td>\n",
              "      <td>2022</td>\n",
              "      <td>00:00:00</td>\n",
              "      <td>5</td>\n",
              "      <td>2</td>\n",
              "    </tr>\n",
              "    <tr>\n",
              "      <th>2</th>\n",
              "      <td>2023-12-31</td>\n",
              "      <td>2023-12-31</td>\n",
              "      <td>31</td>\n",
              "      <td>52</td>\n",
              "      <td>12</td>\n",
              "      <td>4</td>\n",
              "      <td>2023</td>\n",
              "      <td>00:00:00</td>\n",
              "      <td>6</td>\n",
              "      <td>2</td>\n",
              "    </tr>\n",
              "  </tbody>\n",
              "</table>\n",
              "</div>"
            ],
            "text/plain": [
              "       zDate   date_part  day  week  ...  year      time  day_week semester\n",
              "0 2021-12-31  2021-12-31   31    52  ...  2021  00:00:00         4        2\n",
              "1 2022-12-31  2022-12-31   31    52  ...  2022  00:00:00         5        2\n",
              "2 2023-12-31  2023-12-31   31    52  ...  2023  00:00:00         6        2\n",
              "\n",
              "[3 rows x 10 columns]"
            ]
          },
          "metadata": {
            "tags": []
          },
          "execution_count": 9
        }
      ]
    },
    {
      "cell_type": "code",
      "metadata": {
        "colab": {
          "base_uri": "https://localhost:8080/",
          "height": 1000
        },
        "id": "ttmutXOBPWLJ",
        "outputId": "12135a3f-5819-4342-f41b-ba8ec48083a6"
      },
      "source": [
        "#Index as Year-Month\r\n",
        "df.index = df['year'].astype(str) +\"-\"+df[\"month\"].astype(str).map(lambda x: \"0\"+x if len(x)==1 else x)\r\n",
        "df"
      ],
      "execution_count": 13,
      "outputs": [
        {
          "output_type": "execute_result",
          "data": {
            "text/html": [
              "<div>\n",
              "<style scoped>\n",
              "    .dataframe tbody tr th:only-of-type {\n",
              "        vertical-align: middle;\n",
              "    }\n",
              "\n",
              "    .dataframe tbody tr th {\n",
              "        vertical-align: top;\n",
              "    }\n",
              "\n",
              "    .dataframe thead th {\n",
              "        text-align: right;\n",
              "    }\n",
              "</style>\n",
              "<table border=\"1\" class=\"dataframe\">\n",
              "  <thead>\n",
              "    <tr style=\"text-align: right;\">\n",
              "      <th></th>\n",
              "      <th>zDate</th>\n",
              "      <th>date_part</th>\n",
              "      <th>day</th>\n",
              "      <th>week</th>\n",
              "      <th>month</th>\n",
              "      <th>quarter</th>\n",
              "      <th>year</th>\n",
              "      <th>time</th>\n",
              "      <th>day_week</th>\n",
              "      <th>semester</th>\n",
              "    </tr>\n",
              "  </thead>\n",
              "  <tbody>\n",
              "    <tr>\n",
              "      <th>2021-12</th>\n",
              "      <td>2021-12-31 00:00:00</td>\n",
              "      <td>2021-12-31</td>\n",
              "      <td>31</td>\n",
              "      <td>52</td>\n",
              "      <td>12</td>\n",
              "      <td>4</td>\n",
              "      <td>2021</td>\n",
              "      <td>00:00:00</td>\n",
              "      <td>4</td>\n",
              "      <td>2</td>\n",
              "    </tr>\n",
              "    <tr>\n",
              "      <th>2022-12</th>\n",
              "      <td>2022-12-31 00:00:00</td>\n",
              "      <td>2022-12-31</td>\n",
              "      <td>31</td>\n",
              "      <td>52</td>\n",
              "      <td>12</td>\n",
              "      <td>4</td>\n",
              "      <td>2022</td>\n",
              "      <td>00:00:00</td>\n",
              "      <td>5</td>\n",
              "      <td>2</td>\n",
              "    </tr>\n",
              "    <tr>\n",
              "      <th>2023-12</th>\n",
              "      <td>2023-12-31 00:00:00</td>\n",
              "      <td>2023-12-31</td>\n",
              "      <td>31</td>\n",
              "      <td>52</td>\n",
              "      <td>12</td>\n",
              "      <td>4</td>\n",
              "      <td>2023</td>\n",
              "      <td>00:00:00</td>\n",
              "      <td>6</td>\n",
              "      <td>2</td>\n",
              "    </tr>\n",
              "    <tr>\n",
              "      <th>2024-12</th>\n",
              "      <td>2024-12-31 00:00:00</td>\n",
              "      <td>2024-12-31</td>\n",
              "      <td>31</td>\n",
              "      <td>1</td>\n",
              "      <td>12</td>\n",
              "      <td>4</td>\n",
              "      <td>2024</td>\n",
              "      <td>00:00:00</td>\n",
              "      <td>1</td>\n",
              "      <td>2</td>\n",
              "    </tr>\n",
              "    <tr>\n",
              "      <th>2025-12</th>\n",
              "      <td>2025-12-31 00:00:00</td>\n",
              "      <td>2025-12-31</td>\n",
              "      <td>31</td>\n",
              "      <td>1</td>\n",
              "      <td>12</td>\n",
              "      <td>4</td>\n",
              "      <td>2025</td>\n",
              "      <td>00:00:00</td>\n",
              "      <td>2</td>\n",
              "      <td>2</td>\n",
              "    </tr>\n",
              "    <tr>\n",
              "      <th>2026-12</th>\n",
              "      <td>2026-12-31 00:00:00</td>\n",
              "      <td>2026-12-31</td>\n",
              "      <td>31</td>\n",
              "      <td>53</td>\n",
              "      <td>12</td>\n",
              "      <td>4</td>\n",
              "      <td>2026</td>\n",
              "      <td>00:00:00</td>\n",
              "      <td>3</td>\n",
              "      <td>2</td>\n",
              "    </tr>\n",
              "    <tr>\n",
              "      <th>2027-12</th>\n",
              "      <td>2027-12-31 00:00:00</td>\n",
              "      <td>2027-12-31</td>\n",
              "      <td>31</td>\n",
              "      <td>52</td>\n",
              "      <td>12</td>\n",
              "      <td>4</td>\n",
              "      <td>2027</td>\n",
              "      <td>00:00:00</td>\n",
              "      <td>4</td>\n",
              "      <td>2</td>\n",
              "    </tr>\n",
              "    <tr>\n",
              "      <th>2028-12</th>\n",
              "      <td>2028-12-31 00:00:00</td>\n",
              "      <td>2028-12-31</td>\n",
              "      <td>31</td>\n",
              "      <td>52</td>\n",
              "      <td>12</td>\n",
              "      <td>4</td>\n",
              "      <td>2028</td>\n",
              "      <td>00:00:00</td>\n",
              "      <td>6</td>\n",
              "      <td>2</td>\n",
              "    </tr>\n",
              "    <tr>\n",
              "      <th>2029-12</th>\n",
              "      <td>2029-12-31 00:00:00</td>\n",
              "      <td>2029-12-31</td>\n",
              "      <td>31</td>\n",
              "      <td>1</td>\n",
              "      <td>12</td>\n",
              "      <td>4</td>\n",
              "      <td>2029</td>\n",
              "      <td>00:00:00</td>\n",
              "      <td>0</td>\n",
              "      <td>2</td>\n",
              "    </tr>\n",
              "    <tr>\n",
              "      <th>2030-12</th>\n",
              "      <td>2030-12-31 00:00:00</td>\n",
              "      <td>2030-12-31</td>\n",
              "      <td>31</td>\n",
              "      <td>1</td>\n",
              "      <td>12</td>\n",
              "      <td>4</td>\n",
              "      <td>2030</td>\n",
              "      <td>00:00:00</td>\n",
              "      <td>1</td>\n",
              "      <td>2</td>\n",
              "    </tr>\n",
              "    <tr>\n",
              "      <th>2031-12</th>\n",
              "      <td>2031-12-31 00:00:00</td>\n",
              "      <td>2031-12-31</td>\n",
              "      <td>31</td>\n",
              "      <td>1</td>\n",
              "      <td>12</td>\n",
              "      <td>4</td>\n",
              "      <td>2031</td>\n",
              "      <td>00:00:00</td>\n",
              "      <td>2</td>\n",
              "      <td>2</td>\n",
              "    </tr>\n",
              "    <tr>\n",
              "      <th>2032-12</th>\n",
              "      <td>2032-12-31 00:00:00</td>\n",
              "      <td>2032-12-31</td>\n",
              "      <td>31</td>\n",
              "      <td>53</td>\n",
              "      <td>12</td>\n",
              "      <td>4</td>\n",
              "      <td>2032</td>\n",
              "      <td>00:00:00</td>\n",
              "      <td>4</td>\n",
              "      <td>2</td>\n",
              "    </tr>\n",
              "    <tr>\n",
              "      <th>2021-01</th>\n",
              "      <td>2021-01-31 00:00:00</td>\n",
              "      <td>2021-01-31</td>\n",
              "      <td>31</td>\n",
              "      <td>4</td>\n",
              "      <td>1</td>\n",
              "      <td>1</td>\n",
              "      <td>2021</td>\n",
              "      <td>00:00:00</td>\n",
              "      <td>6</td>\n",
              "      <td>1</td>\n",
              "    </tr>\n",
              "    <tr>\n",
              "      <th>2021-02</th>\n",
              "      <td>2021-02-28 00:00:00</td>\n",
              "      <td>2021-02-28</td>\n",
              "      <td>28</td>\n",
              "      <td>8</td>\n",
              "      <td>2</td>\n",
              "      <td>1</td>\n",
              "      <td>2021</td>\n",
              "      <td>00:00:00</td>\n",
              "      <td>6</td>\n",
              "      <td>1</td>\n",
              "    </tr>\n",
              "    <tr>\n",
              "      <th>2021-03</th>\n",
              "      <td>2021-03-31 00:00:00</td>\n",
              "      <td>2021-03-31</td>\n",
              "      <td>31</td>\n",
              "      <td>13</td>\n",
              "      <td>3</td>\n",
              "      <td>1</td>\n",
              "      <td>2021</td>\n",
              "      <td>00:00:00</td>\n",
              "      <td>2</td>\n",
              "      <td>1</td>\n",
              "    </tr>\n",
              "    <tr>\n",
              "      <th>2021-04</th>\n",
              "      <td>2021-04-30 00:00:00</td>\n",
              "      <td>2021-04-30</td>\n",
              "      <td>30</td>\n",
              "      <td>17</td>\n",
              "      <td>4</td>\n",
              "      <td>2</td>\n",
              "      <td>2021</td>\n",
              "      <td>00:00:00</td>\n",
              "      <td>4</td>\n",
              "      <td>1</td>\n",
              "    </tr>\n",
              "    <tr>\n",
              "      <th>2021-05</th>\n",
              "      <td>2021-05-31 00:00:00</td>\n",
              "      <td>2021-05-31</td>\n",
              "      <td>31</td>\n",
              "      <td>22</td>\n",
              "      <td>5</td>\n",
              "      <td>2</td>\n",
              "      <td>2021</td>\n",
              "      <td>00:00:00</td>\n",
              "      <td>0</td>\n",
              "      <td>1</td>\n",
              "    </tr>\n",
              "    <tr>\n",
              "      <th>2021-06</th>\n",
              "      <td>2021-06-30 00:00:00</td>\n",
              "      <td>2021-06-30</td>\n",
              "      <td>30</td>\n",
              "      <td>26</td>\n",
              "      <td>6</td>\n",
              "      <td>2</td>\n",
              "      <td>2021</td>\n",
              "      <td>00:00:00</td>\n",
              "      <td>2</td>\n",
              "      <td>1</td>\n",
              "    </tr>\n",
              "    <tr>\n",
              "      <th>2021-07</th>\n",
              "      <td>2021-07-31 00:00:00</td>\n",
              "      <td>2021-07-31</td>\n",
              "      <td>31</td>\n",
              "      <td>30</td>\n",
              "      <td>7</td>\n",
              "      <td>3</td>\n",
              "      <td>2021</td>\n",
              "      <td>00:00:00</td>\n",
              "      <td>5</td>\n",
              "      <td>2</td>\n",
              "    </tr>\n",
              "    <tr>\n",
              "      <th>2021-08</th>\n",
              "      <td>2021-08-31 00:00:00</td>\n",
              "      <td>2021-08-31</td>\n",
              "      <td>31</td>\n",
              "      <td>35</td>\n",
              "      <td>8</td>\n",
              "      <td>3</td>\n",
              "      <td>2021</td>\n",
              "      <td>00:00:00</td>\n",
              "      <td>1</td>\n",
              "      <td>2</td>\n",
              "    </tr>\n",
              "    <tr>\n",
              "      <th>2021-09</th>\n",
              "      <td>2021-09-30 00:00:00</td>\n",
              "      <td>2021-09-30</td>\n",
              "      <td>30</td>\n",
              "      <td>39</td>\n",
              "      <td>9</td>\n",
              "      <td>3</td>\n",
              "      <td>2021</td>\n",
              "      <td>00:00:00</td>\n",
              "      <td>3</td>\n",
              "      <td>2</td>\n",
              "    </tr>\n",
              "    <tr>\n",
              "      <th>2021-10</th>\n",
              "      <td>2021-10-31 00:00:00</td>\n",
              "      <td>2021-10-31</td>\n",
              "      <td>31</td>\n",
              "      <td>43</td>\n",
              "      <td>10</td>\n",
              "      <td>4</td>\n",
              "      <td>2021</td>\n",
              "      <td>00:00:00</td>\n",
              "      <td>6</td>\n",
              "      <td>2</td>\n",
              "    </tr>\n",
              "    <tr>\n",
              "      <th>2021-11</th>\n",
              "      <td>2021-11-30 00:00:00</td>\n",
              "      <td>2021-11-30</td>\n",
              "      <td>30</td>\n",
              "      <td>48</td>\n",
              "      <td>11</td>\n",
              "      <td>4</td>\n",
              "      <td>2021</td>\n",
              "      <td>00:00:00</td>\n",
              "      <td>1</td>\n",
              "      <td>2</td>\n",
              "    </tr>\n",
              "    <tr>\n",
              "      <th>2021-12</th>\n",
              "      <td>2021-12-31 00:00:00</td>\n",
              "      <td>2021-12-31</td>\n",
              "      <td>31</td>\n",
              "      <td>52</td>\n",
              "      <td>12</td>\n",
              "      <td>4</td>\n",
              "      <td>2021</td>\n",
              "      <td>00:00:00</td>\n",
              "      <td>4</td>\n",
              "      <td>2</td>\n",
              "    </tr>\n",
              "    <tr>\n",
              "      <th>2021-01</th>\n",
              "      <td>2021-01-01 00:00:00</td>\n",
              "      <td>2021-01-01</td>\n",
              "      <td>1</td>\n",
              "      <td>53</td>\n",
              "      <td>1</td>\n",
              "      <td>1</td>\n",
              "      <td>2021</td>\n",
              "      <td>00:00:00</td>\n",
              "      <td>4</td>\n",
              "      <td>1</td>\n",
              "    </tr>\n",
              "    <tr>\n",
              "      <th>2021-01</th>\n",
              "      <td>2021-01-01 00:01:00</td>\n",
              "      <td>2021-01-01</td>\n",
              "      <td>1</td>\n",
              "      <td>53</td>\n",
              "      <td>1</td>\n",
              "      <td>1</td>\n",
              "      <td>2021</td>\n",
              "      <td>00:01:00</td>\n",
              "      <td>4</td>\n",
              "      <td>1</td>\n",
              "    </tr>\n",
              "    <tr>\n",
              "      <th>2021-01</th>\n",
              "      <td>2021-01-01 00:02:00</td>\n",
              "      <td>2021-01-01</td>\n",
              "      <td>1</td>\n",
              "      <td>53</td>\n",
              "      <td>1</td>\n",
              "      <td>1</td>\n",
              "      <td>2021</td>\n",
              "      <td>00:02:00</td>\n",
              "      <td>4</td>\n",
              "      <td>1</td>\n",
              "    </tr>\n",
              "    <tr>\n",
              "      <th>2021-01</th>\n",
              "      <td>2021-01-01 00:03:00</td>\n",
              "      <td>2021-01-01</td>\n",
              "      <td>1</td>\n",
              "      <td>53</td>\n",
              "      <td>1</td>\n",
              "      <td>1</td>\n",
              "      <td>2021</td>\n",
              "      <td>00:03:00</td>\n",
              "      <td>4</td>\n",
              "      <td>1</td>\n",
              "    </tr>\n",
              "    <tr>\n",
              "      <th>2021-01</th>\n",
              "      <td>2021-01-01 00:04:00</td>\n",
              "      <td>2021-01-01</td>\n",
              "      <td>1</td>\n",
              "      <td>53</td>\n",
              "      <td>1</td>\n",
              "      <td>1</td>\n",
              "      <td>2021</td>\n",
              "      <td>00:04:00</td>\n",
              "      <td>4</td>\n",
              "      <td>1</td>\n",
              "    </tr>\n",
              "    <tr>\n",
              "      <th>2021-01</th>\n",
              "      <td>2021-01-01 00:05:00</td>\n",
              "      <td>2021-01-01</td>\n",
              "      <td>1</td>\n",
              "      <td>53</td>\n",
              "      <td>1</td>\n",
              "      <td>1</td>\n",
              "      <td>2021</td>\n",
              "      <td>00:05:00</td>\n",
              "      <td>4</td>\n",
              "      <td>1</td>\n",
              "    </tr>\n",
              "    <tr>\n",
              "      <th>2021-01</th>\n",
              "      <td>2021-01-01 00:06:00</td>\n",
              "      <td>2021-01-01</td>\n",
              "      <td>1</td>\n",
              "      <td>53</td>\n",
              "      <td>1</td>\n",
              "      <td>1</td>\n",
              "      <td>2021</td>\n",
              "      <td>00:06:00</td>\n",
              "      <td>4</td>\n",
              "      <td>1</td>\n",
              "    </tr>\n",
              "    <tr>\n",
              "      <th>2021-01</th>\n",
              "      <td>2021-01-01 00:07:00</td>\n",
              "      <td>2021-01-01</td>\n",
              "      <td>1</td>\n",
              "      <td>53</td>\n",
              "      <td>1</td>\n",
              "      <td>1</td>\n",
              "      <td>2021</td>\n",
              "      <td>00:07:00</td>\n",
              "      <td>4</td>\n",
              "      <td>1</td>\n",
              "    </tr>\n",
              "    <tr>\n",
              "      <th>2021-01</th>\n",
              "      <td>2021-01-01 00:08:00</td>\n",
              "      <td>2021-01-01</td>\n",
              "      <td>1</td>\n",
              "      <td>53</td>\n",
              "      <td>1</td>\n",
              "      <td>1</td>\n",
              "      <td>2021</td>\n",
              "      <td>00:08:00</td>\n",
              "      <td>4</td>\n",
              "      <td>1</td>\n",
              "    </tr>\n",
              "    <tr>\n",
              "      <th>2021-01</th>\n",
              "      <td>2021-01-01 00:09:00</td>\n",
              "      <td>2021-01-01</td>\n",
              "      <td>1</td>\n",
              "      <td>53</td>\n",
              "      <td>1</td>\n",
              "      <td>1</td>\n",
              "      <td>2021</td>\n",
              "      <td>00:09:00</td>\n",
              "      <td>4</td>\n",
              "      <td>1</td>\n",
              "    </tr>\n",
              "    <tr>\n",
              "      <th>2021-01</th>\n",
              "      <td>2021-01-01 00:10:00</td>\n",
              "      <td>2021-01-01</td>\n",
              "      <td>1</td>\n",
              "      <td>53</td>\n",
              "      <td>1</td>\n",
              "      <td>1</td>\n",
              "      <td>2021</td>\n",
              "      <td>00:10:00</td>\n",
              "      <td>4</td>\n",
              "      <td>1</td>\n",
              "    </tr>\n",
              "    <tr>\n",
              "      <th>2021-01</th>\n",
              "      <td>2021-01-01 00:11:00</td>\n",
              "      <td>2021-01-01</td>\n",
              "      <td>1</td>\n",
              "      <td>53</td>\n",
              "      <td>1</td>\n",
              "      <td>1</td>\n",
              "      <td>2021</td>\n",
              "      <td>00:11:00</td>\n",
              "      <td>4</td>\n",
              "      <td>1</td>\n",
              "    </tr>\n",
              "    <tr>\n",
              "      <th>2021-01</th>\n",
              "      <td>2021-01-01 00:00:00</td>\n",
              "      <td>2021-01-01</td>\n",
              "      <td>1</td>\n",
              "      <td>53</td>\n",
              "      <td>1</td>\n",
              "      <td>1</td>\n",
              "      <td>2021</td>\n",
              "      <td>00:00:00</td>\n",
              "      <td>4</td>\n",
              "      <td>1</td>\n",
              "    </tr>\n",
              "    <tr>\n",
              "      <th>2021-01</th>\n",
              "      <td>2021-01-02 00:00:00</td>\n",
              "      <td>2021-01-02</td>\n",
              "      <td>2</td>\n",
              "      <td>53</td>\n",
              "      <td>1</td>\n",
              "      <td>1</td>\n",
              "      <td>2021</td>\n",
              "      <td>00:00:00</td>\n",
              "      <td>5</td>\n",
              "      <td>1</td>\n",
              "    </tr>\n",
              "    <tr>\n",
              "      <th>2021-01</th>\n",
              "      <td>2021-01-03 00:00:00</td>\n",
              "      <td>2021-01-03</td>\n",
              "      <td>3</td>\n",
              "      <td>53</td>\n",
              "      <td>1</td>\n",
              "      <td>1</td>\n",
              "      <td>2021</td>\n",
              "      <td>00:00:00</td>\n",
              "      <td>6</td>\n",
              "      <td>1</td>\n",
              "    </tr>\n",
              "    <tr>\n",
              "      <th>2021-01</th>\n",
              "      <td>2021-01-04 00:00:00</td>\n",
              "      <td>2021-01-04</td>\n",
              "      <td>4</td>\n",
              "      <td>1</td>\n",
              "      <td>1</td>\n",
              "      <td>1</td>\n",
              "      <td>2021</td>\n",
              "      <td>00:00:00</td>\n",
              "      <td>0</td>\n",
              "      <td>1</td>\n",
              "    </tr>\n",
              "    <tr>\n",
              "      <th>2021-01</th>\n",
              "      <td>2021-01-05 00:00:00</td>\n",
              "      <td>2021-01-05</td>\n",
              "      <td>5</td>\n",
              "      <td>1</td>\n",
              "      <td>1</td>\n",
              "      <td>1</td>\n",
              "      <td>2021</td>\n",
              "      <td>00:00:00</td>\n",
              "      <td>1</td>\n",
              "      <td>1</td>\n",
              "    </tr>\n",
              "    <tr>\n",
              "      <th>2021-01</th>\n",
              "      <td>2021-01-06 00:00:00</td>\n",
              "      <td>2021-01-06</td>\n",
              "      <td>6</td>\n",
              "      <td>1</td>\n",
              "      <td>1</td>\n",
              "      <td>1</td>\n",
              "      <td>2021</td>\n",
              "      <td>00:00:00</td>\n",
              "      <td>2</td>\n",
              "      <td>1</td>\n",
              "    </tr>\n",
              "    <tr>\n",
              "      <th>2021-01</th>\n",
              "      <td>2021-01-07 00:00:00</td>\n",
              "      <td>2021-01-07</td>\n",
              "      <td>7</td>\n",
              "      <td>1</td>\n",
              "      <td>1</td>\n",
              "      <td>1</td>\n",
              "      <td>2021</td>\n",
              "      <td>00:00:00</td>\n",
              "      <td>3</td>\n",
              "      <td>1</td>\n",
              "    </tr>\n",
              "    <tr>\n",
              "      <th>2021-01</th>\n",
              "      <td>2021-01-08 00:00:00</td>\n",
              "      <td>2021-01-08</td>\n",
              "      <td>8</td>\n",
              "      <td>1</td>\n",
              "      <td>1</td>\n",
              "      <td>1</td>\n",
              "      <td>2021</td>\n",
              "      <td>00:00:00</td>\n",
              "      <td>4</td>\n",
              "      <td>1</td>\n",
              "    </tr>\n",
              "    <tr>\n",
              "      <th>2021-01</th>\n",
              "      <td>2021-01-09 00:00:00</td>\n",
              "      <td>2021-01-09</td>\n",
              "      <td>9</td>\n",
              "      <td>1</td>\n",
              "      <td>1</td>\n",
              "      <td>1</td>\n",
              "      <td>2021</td>\n",
              "      <td>00:00:00</td>\n",
              "      <td>5</td>\n",
              "      <td>1</td>\n",
              "    </tr>\n",
              "    <tr>\n",
              "      <th>2021-01</th>\n",
              "      <td>2021-01-10 00:00:00</td>\n",
              "      <td>2021-01-10</td>\n",
              "      <td>10</td>\n",
              "      <td>1</td>\n",
              "      <td>1</td>\n",
              "      <td>1</td>\n",
              "      <td>2021</td>\n",
              "      <td>00:00:00</td>\n",
              "      <td>6</td>\n",
              "      <td>1</td>\n",
              "    </tr>\n",
              "    <tr>\n",
              "      <th>2021-01</th>\n",
              "      <td>2021-01-11 00:00:00</td>\n",
              "      <td>2021-01-11</td>\n",
              "      <td>11</td>\n",
              "      <td>2</td>\n",
              "      <td>1</td>\n",
              "      <td>1</td>\n",
              "      <td>2021</td>\n",
              "      <td>00:00:00</td>\n",
              "      <td>0</td>\n",
              "      <td>1</td>\n",
              "    </tr>\n",
              "    <tr>\n",
              "      <th>2021-01</th>\n",
              "      <td>2021-01-12 00:00:00</td>\n",
              "      <td>2021-01-12</td>\n",
              "      <td>12</td>\n",
              "      <td>2</td>\n",
              "      <td>1</td>\n",
              "      <td>1</td>\n",
              "      <td>2021</td>\n",
              "      <td>00:00:00</td>\n",
              "      <td>1</td>\n",
              "      <td>1</td>\n",
              "    </tr>\n",
              "    <tr>\n",
              "      <th>2021-03</th>\n",
              "      <td>2021-03-31 00:00:00</td>\n",
              "      <td>2021-03-31</td>\n",
              "      <td>31</td>\n",
              "      <td>13</td>\n",
              "      <td>3</td>\n",
              "      <td>1</td>\n",
              "      <td>2021</td>\n",
              "      <td>00:00:00</td>\n",
              "      <td>2</td>\n",
              "      <td>1</td>\n",
              "    </tr>\n",
              "    <tr>\n",
              "      <th>2021-06</th>\n",
              "      <td>2021-06-30 00:00:00</td>\n",
              "      <td>2021-06-30</td>\n",
              "      <td>30</td>\n",
              "      <td>26</td>\n",
              "      <td>6</td>\n",
              "      <td>2</td>\n",
              "      <td>2021</td>\n",
              "      <td>00:00:00</td>\n",
              "      <td>2</td>\n",
              "      <td>1</td>\n",
              "    </tr>\n",
              "    <tr>\n",
              "      <th>2021-09</th>\n",
              "      <td>2021-09-30 00:00:00</td>\n",
              "      <td>2021-09-30</td>\n",
              "      <td>30</td>\n",
              "      <td>39</td>\n",
              "      <td>9</td>\n",
              "      <td>3</td>\n",
              "      <td>2021</td>\n",
              "      <td>00:00:00</td>\n",
              "      <td>3</td>\n",
              "      <td>2</td>\n",
              "    </tr>\n",
              "    <tr>\n",
              "      <th>2021-12</th>\n",
              "      <td>2021-12-31 00:00:00</td>\n",
              "      <td>2021-12-31</td>\n",
              "      <td>31</td>\n",
              "      <td>52</td>\n",
              "      <td>12</td>\n",
              "      <td>4</td>\n",
              "      <td>2021</td>\n",
              "      <td>00:00:00</td>\n",
              "      <td>4</td>\n",
              "      <td>2</td>\n",
              "    </tr>\n",
              "    <tr>\n",
              "      <th>2022-03</th>\n",
              "      <td>2022-03-31 00:00:00</td>\n",
              "      <td>2022-03-31</td>\n",
              "      <td>31</td>\n",
              "      <td>13</td>\n",
              "      <td>3</td>\n",
              "      <td>1</td>\n",
              "      <td>2022</td>\n",
              "      <td>00:00:00</td>\n",
              "      <td>3</td>\n",
              "      <td>1</td>\n",
              "    </tr>\n",
              "    <tr>\n",
              "      <th>2022-06</th>\n",
              "      <td>2022-06-30 00:00:00</td>\n",
              "      <td>2022-06-30</td>\n",
              "      <td>30</td>\n",
              "      <td>26</td>\n",
              "      <td>6</td>\n",
              "      <td>2</td>\n",
              "      <td>2022</td>\n",
              "      <td>00:00:00</td>\n",
              "      <td>3</td>\n",
              "      <td>1</td>\n",
              "    </tr>\n",
              "    <tr>\n",
              "      <th>2022-09</th>\n",
              "      <td>2022-09-30 00:00:00</td>\n",
              "      <td>2022-09-30</td>\n",
              "      <td>30</td>\n",
              "      <td>39</td>\n",
              "      <td>9</td>\n",
              "      <td>3</td>\n",
              "      <td>2022</td>\n",
              "      <td>00:00:00</td>\n",
              "      <td>4</td>\n",
              "      <td>2</td>\n",
              "    </tr>\n",
              "    <tr>\n",
              "      <th>2022-12</th>\n",
              "      <td>2022-12-31 00:00:00</td>\n",
              "      <td>2022-12-31</td>\n",
              "      <td>31</td>\n",
              "      <td>52</td>\n",
              "      <td>12</td>\n",
              "      <td>4</td>\n",
              "      <td>2022</td>\n",
              "      <td>00:00:00</td>\n",
              "      <td>5</td>\n",
              "      <td>2</td>\n",
              "    </tr>\n",
              "    <tr>\n",
              "      <th>2023-03</th>\n",
              "      <td>2023-03-31 00:00:00</td>\n",
              "      <td>2023-03-31</td>\n",
              "      <td>31</td>\n",
              "      <td>13</td>\n",
              "      <td>3</td>\n",
              "      <td>1</td>\n",
              "      <td>2023</td>\n",
              "      <td>00:00:00</td>\n",
              "      <td>4</td>\n",
              "      <td>1</td>\n",
              "    </tr>\n",
              "    <tr>\n",
              "      <th>2023-06</th>\n",
              "      <td>2023-06-30 00:00:00</td>\n",
              "      <td>2023-06-30</td>\n",
              "      <td>30</td>\n",
              "      <td>26</td>\n",
              "      <td>6</td>\n",
              "      <td>2</td>\n",
              "      <td>2023</td>\n",
              "      <td>00:00:00</td>\n",
              "      <td>4</td>\n",
              "      <td>1</td>\n",
              "    </tr>\n",
              "    <tr>\n",
              "      <th>2023-09</th>\n",
              "      <td>2023-09-30 00:00:00</td>\n",
              "      <td>2023-09-30</td>\n",
              "      <td>30</td>\n",
              "      <td>39</td>\n",
              "      <td>9</td>\n",
              "      <td>3</td>\n",
              "      <td>2023</td>\n",
              "      <td>00:00:00</td>\n",
              "      <td>5</td>\n",
              "      <td>2</td>\n",
              "    </tr>\n",
              "    <tr>\n",
              "      <th>2023-12</th>\n",
              "      <td>2023-12-31 00:00:00</td>\n",
              "      <td>2023-12-31</td>\n",
              "      <td>31</td>\n",
              "      <td>52</td>\n",
              "      <td>12</td>\n",
              "      <td>4</td>\n",
              "      <td>2023</td>\n",
              "      <td>00:00:00</td>\n",
              "      <td>6</td>\n",
              "      <td>2</td>\n",
              "    </tr>\n",
              "  </tbody>\n",
              "</table>\n",
              "</div>"
            ],
            "text/plain": [
              "                      zDate   date_part  day  ...      time  day_week  semester\n",
              "2021-12 2021-12-31 00:00:00  2021-12-31   31  ...  00:00:00         4         2\n",
              "2022-12 2022-12-31 00:00:00  2022-12-31   31  ...  00:00:00         5         2\n",
              "2023-12 2023-12-31 00:00:00  2023-12-31   31  ...  00:00:00         6         2\n",
              "2024-12 2024-12-31 00:00:00  2024-12-31   31  ...  00:00:00         1         2\n",
              "2025-12 2025-12-31 00:00:00  2025-12-31   31  ...  00:00:00         2         2\n",
              "2026-12 2026-12-31 00:00:00  2026-12-31   31  ...  00:00:00         3         2\n",
              "2027-12 2027-12-31 00:00:00  2027-12-31   31  ...  00:00:00         4         2\n",
              "2028-12 2028-12-31 00:00:00  2028-12-31   31  ...  00:00:00         6         2\n",
              "2029-12 2029-12-31 00:00:00  2029-12-31   31  ...  00:00:00         0         2\n",
              "2030-12 2030-12-31 00:00:00  2030-12-31   31  ...  00:00:00         1         2\n",
              "2031-12 2031-12-31 00:00:00  2031-12-31   31  ...  00:00:00         2         2\n",
              "2032-12 2032-12-31 00:00:00  2032-12-31   31  ...  00:00:00         4         2\n",
              "2021-01 2021-01-31 00:00:00  2021-01-31   31  ...  00:00:00         6         1\n",
              "2021-02 2021-02-28 00:00:00  2021-02-28   28  ...  00:00:00         6         1\n",
              "2021-03 2021-03-31 00:00:00  2021-03-31   31  ...  00:00:00         2         1\n",
              "2021-04 2021-04-30 00:00:00  2021-04-30   30  ...  00:00:00         4         1\n",
              "2021-05 2021-05-31 00:00:00  2021-05-31   31  ...  00:00:00         0         1\n",
              "2021-06 2021-06-30 00:00:00  2021-06-30   30  ...  00:00:00         2         1\n",
              "2021-07 2021-07-31 00:00:00  2021-07-31   31  ...  00:00:00         5         2\n",
              "2021-08 2021-08-31 00:00:00  2021-08-31   31  ...  00:00:00         1         2\n",
              "2021-09 2021-09-30 00:00:00  2021-09-30   30  ...  00:00:00         3         2\n",
              "2021-10 2021-10-31 00:00:00  2021-10-31   31  ...  00:00:00         6         2\n",
              "2021-11 2021-11-30 00:00:00  2021-11-30   30  ...  00:00:00         1         2\n",
              "2021-12 2021-12-31 00:00:00  2021-12-31   31  ...  00:00:00         4         2\n",
              "2021-01 2021-01-01 00:00:00  2021-01-01    1  ...  00:00:00         4         1\n",
              "2021-01 2021-01-01 00:01:00  2021-01-01    1  ...  00:01:00         4         1\n",
              "2021-01 2021-01-01 00:02:00  2021-01-01    1  ...  00:02:00         4         1\n",
              "2021-01 2021-01-01 00:03:00  2021-01-01    1  ...  00:03:00         4         1\n",
              "2021-01 2021-01-01 00:04:00  2021-01-01    1  ...  00:04:00         4         1\n",
              "2021-01 2021-01-01 00:05:00  2021-01-01    1  ...  00:05:00         4         1\n",
              "2021-01 2021-01-01 00:06:00  2021-01-01    1  ...  00:06:00         4         1\n",
              "2021-01 2021-01-01 00:07:00  2021-01-01    1  ...  00:07:00         4         1\n",
              "2021-01 2021-01-01 00:08:00  2021-01-01    1  ...  00:08:00         4         1\n",
              "2021-01 2021-01-01 00:09:00  2021-01-01    1  ...  00:09:00         4         1\n",
              "2021-01 2021-01-01 00:10:00  2021-01-01    1  ...  00:10:00         4         1\n",
              "2021-01 2021-01-01 00:11:00  2021-01-01    1  ...  00:11:00         4         1\n",
              "2021-01 2021-01-01 00:00:00  2021-01-01    1  ...  00:00:00         4         1\n",
              "2021-01 2021-01-02 00:00:00  2021-01-02    2  ...  00:00:00         5         1\n",
              "2021-01 2021-01-03 00:00:00  2021-01-03    3  ...  00:00:00         6         1\n",
              "2021-01 2021-01-04 00:00:00  2021-01-04    4  ...  00:00:00         0         1\n",
              "2021-01 2021-01-05 00:00:00  2021-01-05    5  ...  00:00:00         1         1\n",
              "2021-01 2021-01-06 00:00:00  2021-01-06    6  ...  00:00:00         2         1\n",
              "2021-01 2021-01-07 00:00:00  2021-01-07    7  ...  00:00:00         3         1\n",
              "2021-01 2021-01-08 00:00:00  2021-01-08    8  ...  00:00:00         4         1\n",
              "2021-01 2021-01-09 00:00:00  2021-01-09    9  ...  00:00:00         5         1\n",
              "2021-01 2021-01-10 00:00:00  2021-01-10   10  ...  00:00:00         6         1\n",
              "2021-01 2021-01-11 00:00:00  2021-01-11   11  ...  00:00:00         0         1\n",
              "2021-01 2021-01-12 00:00:00  2021-01-12   12  ...  00:00:00         1         1\n",
              "2021-03 2021-03-31 00:00:00  2021-03-31   31  ...  00:00:00         2         1\n",
              "2021-06 2021-06-30 00:00:00  2021-06-30   30  ...  00:00:00         2         1\n",
              "2021-09 2021-09-30 00:00:00  2021-09-30   30  ...  00:00:00         3         2\n",
              "2021-12 2021-12-31 00:00:00  2021-12-31   31  ...  00:00:00         4         2\n",
              "2022-03 2022-03-31 00:00:00  2022-03-31   31  ...  00:00:00         3         1\n",
              "2022-06 2022-06-30 00:00:00  2022-06-30   30  ...  00:00:00         3         1\n",
              "2022-09 2022-09-30 00:00:00  2022-09-30   30  ...  00:00:00         4         2\n",
              "2022-12 2022-12-31 00:00:00  2022-12-31   31  ...  00:00:00         5         2\n",
              "2023-03 2023-03-31 00:00:00  2023-03-31   31  ...  00:00:00         4         1\n",
              "2023-06 2023-06-30 00:00:00  2023-06-30   30  ...  00:00:00         4         1\n",
              "2023-09 2023-09-30 00:00:00  2023-09-30   30  ...  00:00:00         5         2\n",
              "2023-12 2023-12-31 00:00:00  2023-12-31   31  ...  00:00:00         6         2\n",
              "\n",
              "[60 rows x 10 columns]"
            ]
          },
          "metadata": {
            "tags": []
          },
          "execution_count": 13
        }
      ]
    },
    {
      "cell_type": "markdown",
      "metadata": {
        "id": "toFB_XQDzwwm"
      },
      "source": [
        "##Convert to Datetime column"
      ]
    },
    {
      "cell_type": "code",
      "metadata": {
        "colab": {
          "base_uri": "https://localhost:8080/",
          "height": 136
        },
        "id": "lbaYw0_Cx-nj",
        "outputId": "57934749-d401-4117-e973-0369b8a283d3"
      },
      "source": [
        "df2 = pd.DataFrame({\"zDate2\":[\"Jan-2021\",\"Feb-2021\",\"Mar-2021\",\"Apr-2021\",\"May-2021\",\"Jun-2021\"]})\r\n",
        "\r\n",
        "# Convert colume to datetime column\r\n",
        "df[\"zDate_New\"] = pd.to_datetime(df2[\"zDate2\"])\r\n",
        "df.head(3)"
      ],
      "execution_count": null,
      "outputs": [
        {
          "output_type": "execute_result",
          "data": {
            "text/html": [
              "<div>\n",
              "<style scoped>\n",
              "    .dataframe tbody tr th:only-of-type {\n",
              "        vertical-align: middle;\n",
              "    }\n",
              "\n",
              "    .dataframe tbody tr th {\n",
              "        vertical-align: top;\n",
              "    }\n",
              "\n",
              "    .dataframe thead th {\n",
              "        text-align: right;\n",
              "    }\n",
              "</style>\n",
              "<table border=\"1\" class=\"dataframe\">\n",
              "  <thead>\n",
              "    <tr style=\"text-align: right;\">\n",
              "      <th></th>\n",
              "      <th>zDate</th>\n",
              "      <th>date_part</th>\n",
              "      <th>day</th>\n",
              "      <th>week</th>\n",
              "      <th>month</th>\n",
              "      <th>quarter</th>\n",
              "      <th>year</th>\n",
              "      <th>time</th>\n",
              "      <th>day_week</th>\n",
              "      <th>semester</th>\n",
              "      <th>zDate_New</th>\n",
              "    </tr>\n",
              "  </thead>\n",
              "  <tbody>\n",
              "    <tr>\n",
              "      <th>0</th>\n",
              "      <td>2021-12-31</td>\n",
              "      <td>2021-12-31</td>\n",
              "      <td>31</td>\n",
              "      <td>52</td>\n",
              "      <td>12</td>\n",
              "      <td>4</td>\n",
              "      <td>2021</td>\n",
              "      <td>00:00:00</td>\n",
              "      <td>4</td>\n",
              "      <td>2</td>\n",
              "      <td>2021-01-01</td>\n",
              "    </tr>\n",
              "    <tr>\n",
              "      <th>1</th>\n",
              "      <td>2022-12-31</td>\n",
              "      <td>2022-12-31</td>\n",
              "      <td>31</td>\n",
              "      <td>52</td>\n",
              "      <td>12</td>\n",
              "      <td>4</td>\n",
              "      <td>2022</td>\n",
              "      <td>00:00:00</td>\n",
              "      <td>5</td>\n",
              "      <td>2</td>\n",
              "      <td>2021-02-01</td>\n",
              "    </tr>\n",
              "    <tr>\n",
              "      <th>2</th>\n",
              "      <td>2023-12-31</td>\n",
              "      <td>2023-12-31</td>\n",
              "      <td>31</td>\n",
              "      <td>52</td>\n",
              "      <td>12</td>\n",
              "      <td>4</td>\n",
              "      <td>2023</td>\n",
              "      <td>00:00:00</td>\n",
              "      <td>6</td>\n",
              "      <td>2</td>\n",
              "      <td>2021-03-01</td>\n",
              "    </tr>\n",
              "  </tbody>\n",
              "</table>\n",
              "</div>"
            ],
            "text/plain": [
              "       zDate   date_part  day  week  ...      time  day_week  semester  zDate_New\n",
              "0 2021-12-31  2021-12-31   31    52  ...  00:00:00         4         2 2021-01-01\n",
              "1 2022-12-31  2022-12-31   31    52  ...  00:00:00         5         2 2021-02-01\n",
              "2 2023-12-31  2023-12-31   31    52  ...  00:00:00         6         2 2021-03-01\n",
              "\n",
              "[3 rows x 11 columns]"
            ]
          },
          "metadata": {
            "tags": []
          },
          "execution_count": 93
        }
      ]
    },
    {
      "cell_type": "code",
      "metadata": {
        "colab": {
          "base_uri": "https://localhost:8080/"
        },
        "id": "xN-U1PCe0WzC",
        "outputId": "0171a944-0c2b-488b-d039-ee0539ccfa2d"
      },
      "source": [
        "df.dtypes"
      ],
      "execution_count": null,
      "outputs": [
        {
          "output_type": "execute_result",
          "data": {
            "text/plain": [
              "zDate        datetime64[ns]\n",
              "date_part            object\n",
              "day                   int64\n",
              "week                  int64\n",
              "month                 int64\n",
              "quarter               int64\n",
              "year                  int64\n",
              "time                 object\n",
              "day_week              int64\n",
              "semester              int64\n",
              "zDate_New    datetime64[ns]\n",
              "dtype: object"
            ]
          },
          "metadata": {
            "tags": []
          },
          "execution_count": 94
        }
      ]
    },
    {
      "cell_type": "markdown",
      "metadata": {
        "id": "n8vcu7JP9OAK"
      },
      "source": [
        "##Weekend or not?"
      ]
    },
    {
      "cell_type": "code",
      "metadata": {
        "colab": {
          "base_uri": "https://localhost:8080/",
          "height": 195
        },
        "id": "8V9sHa8m1VNT",
        "outputId": "7d948347-1f68-44e1-827b-dd67c6adf851"
      },
      "source": [
        "# is it weekend?\r\n",
        "# df['is_weekend'] = np.where(df['day_week_name'].isin(['Sunday', 'Saturday']), 1,0)\r\n",
        "\r\n",
        "df['is_weekend'] = np.where(df['day_week'].isin([6, 0]), 1,0)\r\n",
        "df.head()"
      ],
      "execution_count": null,
      "outputs": [
        {
          "output_type": "execute_result",
          "data": {
            "text/html": [
              "<div>\n",
              "<style scoped>\n",
              "    .dataframe tbody tr th:only-of-type {\n",
              "        vertical-align: middle;\n",
              "    }\n",
              "\n",
              "    .dataframe tbody tr th {\n",
              "        vertical-align: top;\n",
              "    }\n",
              "\n",
              "    .dataframe thead th {\n",
              "        text-align: right;\n",
              "    }\n",
              "</style>\n",
              "<table border=\"1\" class=\"dataframe\">\n",
              "  <thead>\n",
              "    <tr style=\"text-align: right;\">\n",
              "      <th></th>\n",
              "      <th>zDate</th>\n",
              "      <th>date_part</th>\n",
              "      <th>day</th>\n",
              "      <th>week</th>\n",
              "      <th>month</th>\n",
              "      <th>quarter</th>\n",
              "      <th>year</th>\n",
              "      <th>time</th>\n",
              "      <th>day_week</th>\n",
              "      <th>semester</th>\n",
              "      <th>zDate_New</th>\n",
              "      <th>is_weekend</th>\n",
              "    </tr>\n",
              "  </thead>\n",
              "  <tbody>\n",
              "    <tr>\n",
              "      <th>0</th>\n",
              "      <td>2021-12-31</td>\n",
              "      <td>2021-12-31</td>\n",
              "      <td>31</td>\n",
              "      <td>52</td>\n",
              "      <td>12</td>\n",
              "      <td>4</td>\n",
              "      <td>2021</td>\n",
              "      <td>00:00:00</td>\n",
              "      <td>4</td>\n",
              "      <td>2</td>\n",
              "      <td>2021-01-01</td>\n",
              "      <td>0</td>\n",
              "    </tr>\n",
              "    <tr>\n",
              "      <th>1</th>\n",
              "      <td>2022-12-31</td>\n",
              "      <td>2022-12-31</td>\n",
              "      <td>31</td>\n",
              "      <td>52</td>\n",
              "      <td>12</td>\n",
              "      <td>4</td>\n",
              "      <td>2022</td>\n",
              "      <td>00:00:00</td>\n",
              "      <td>5</td>\n",
              "      <td>2</td>\n",
              "      <td>2021-02-01</td>\n",
              "      <td>0</td>\n",
              "    </tr>\n",
              "    <tr>\n",
              "      <th>2</th>\n",
              "      <td>2023-12-31</td>\n",
              "      <td>2023-12-31</td>\n",
              "      <td>31</td>\n",
              "      <td>52</td>\n",
              "      <td>12</td>\n",
              "      <td>4</td>\n",
              "      <td>2023</td>\n",
              "      <td>00:00:00</td>\n",
              "      <td>6</td>\n",
              "      <td>2</td>\n",
              "      <td>2021-03-01</td>\n",
              "      <td>1</td>\n",
              "    </tr>\n",
              "    <tr>\n",
              "      <th>3</th>\n",
              "      <td>2024-12-31</td>\n",
              "      <td>2024-12-31</td>\n",
              "      <td>31</td>\n",
              "      <td>1</td>\n",
              "      <td>12</td>\n",
              "      <td>4</td>\n",
              "      <td>2024</td>\n",
              "      <td>00:00:00</td>\n",
              "      <td>1</td>\n",
              "      <td>2</td>\n",
              "      <td>2021-04-01</td>\n",
              "      <td>0</td>\n",
              "    </tr>\n",
              "    <tr>\n",
              "      <th>4</th>\n",
              "      <td>2025-12-31</td>\n",
              "      <td>2025-12-31</td>\n",
              "      <td>31</td>\n",
              "      <td>1</td>\n",
              "      <td>12</td>\n",
              "      <td>4</td>\n",
              "      <td>2025</td>\n",
              "      <td>00:00:00</td>\n",
              "      <td>2</td>\n",
              "      <td>2</td>\n",
              "      <td>2021-05-01</td>\n",
              "      <td>0</td>\n",
              "    </tr>\n",
              "  </tbody>\n",
              "</table>\n",
              "</div>"
            ],
            "text/plain": [
              "       zDate   date_part  day  week  ...  day_week  semester  zDate_New is_weekend\n",
              "0 2021-12-31  2021-12-31   31    52  ...         4         2 2021-01-01          0\n",
              "1 2022-12-31  2022-12-31   31    52  ...         5         2 2021-02-01          0\n",
              "2 2023-12-31  2023-12-31   31    52  ...         6         2 2021-03-01          1\n",
              "3 2024-12-31  2024-12-31   31     1  ...         1         2 2021-04-01          0\n",
              "4 2025-12-31  2025-12-31   31     1  ...         2         2 2021-05-01          0\n",
              "\n",
              "[5 rows x 12 columns]"
            ]
          },
          "metadata": {
            "tags": []
          },
          "execution_count": 95
        }
      ]
    },
    {
      "cell_type": "markdown",
      "metadata": {
        "id": "R4L2-sdJ94_r"
      },
      "source": [
        "##Extract Hrs|Mins|Sec"
      ]
    },
    {
      "cell_type": "code",
      "metadata": {
        "colab": {
          "base_uri": "https://localhost:8080/",
          "height": 195
        },
        "id": "Q4VLcvZE9J7C",
        "outputId": "f5a14180-82d0-43f6-daf1-626a1a5f4fef"
      },
      "source": [
        "rng = pd.date_range('2019-03-05', periods=20, freq='1h15min10s')\r\n",
        "df = pd.DataFrame({'date': rng}) \r\n",
        "df.head()"
      ],
      "execution_count": null,
      "outputs": [
        {
          "output_type": "execute_result",
          "data": {
            "text/html": [
              "<div>\n",
              "<style scoped>\n",
              "    .dataframe tbody tr th:only-of-type {\n",
              "        vertical-align: middle;\n",
              "    }\n",
              "\n",
              "    .dataframe tbody tr th {\n",
              "        vertical-align: top;\n",
              "    }\n",
              "\n",
              "    .dataframe thead th {\n",
              "        text-align: right;\n",
              "    }\n",
              "</style>\n",
              "<table border=\"1\" class=\"dataframe\">\n",
              "  <thead>\n",
              "    <tr style=\"text-align: right;\">\n",
              "      <th></th>\n",
              "      <th>date</th>\n",
              "    </tr>\n",
              "  </thead>\n",
              "  <tbody>\n",
              "    <tr>\n",
              "      <th>0</th>\n",
              "      <td>2019-03-05 00:00:00</td>\n",
              "    </tr>\n",
              "    <tr>\n",
              "      <th>1</th>\n",
              "      <td>2019-03-05 01:15:10</td>\n",
              "    </tr>\n",
              "    <tr>\n",
              "      <th>2</th>\n",
              "      <td>2019-03-05 02:30:20</td>\n",
              "    </tr>\n",
              "    <tr>\n",
              "      <th>3</th>\n",
              "      <td>2019-03-05 03:45:30</td>\n",
              "    </tr>\n",
              "    <tr>\n",
              "      <th>4</th>\n",
              "      <td>2019-03-05 05:00:40</td>\n",
              "    </tr>\n",
              "  </tbody>\n",
              "</table>\n",
              "</div>"
            ],
            "text/plain": [
              "                 date\n",
              "0 2019-03-05 00:00:00\n",
              "1 2019-03-05 01:15:10\n",
              "2 2019-03-05 02:30:20\n",
              "3 2019-03-05 03:45:30\n",
              "4 2019-03-05 05:00:40"
            ]
          },
          "metadata": {
            "tags": []
          },
          "execution_count": 96
        }
      ]
    },
    {
      "cell_type": "code",
      "metadata": {
        "colab": {
          "base_uri": "https://localhost:8080/",
          "height": 136
        },
        "id": "Z0rv1d8__sgE",
        "outputId": "0bdc30f2-830e-47e6-c867-09eadf193b68"
      },
      "source": [
        "# extract hr, min and sec\r\n",
        "\r\n",
        "df['hour'] = df['date'].dt.hour\r\n",
        "df['min'] = df['date'].dt.minute\r\n",
        "df['sec'] = df['date'].dt.second\r\n",
        "df.head(3)"
      ],
      "execution_count": null,
      "outputs": [
        {
          "output_type": "execute_result",
          "data": {
            "text/html": [
              "<div>\n",
              "<style scoped>\n",
              "    .dataframe tbody tr th:only-of-type {\n",
              "        vertical-align: middle;\n",
              "    }\n",
              "\n",
              "    .dataframe tbody tr th {\n",
              "        vertical-align: top;\n",
              "    }\n",
              "\n",
              "    .dataframe thead th {\n",
              "        text-align: right;\n",
              "    }\n",
              "</style>\n",
              "<table border=\"1\" class=\"dataframe\">\n",
              "  <thead>\n",
              "    <tr style=\"text-align: right;\">\n",
              "      <th></th>\n",
              "      <th>date</th>\n",
              "      <th>hour</th>\n",
              "      <th>min</th>\n",
              "      <th>sec</th>\n",
              "    </tr>\n",
              "  </thead>\n",
              "  <tbody>\n",
              "    <tr>\n",
              "      <th>0</th>\n",
              "      <td>2019-03-05 00:00:00</td>\n",
              "      <td>0</td>\n",
              "      <td>0</td>\n",
              "      <td>0</td>\n",
              "    </tr>\n",
              "    <tr>\n",
              "      <th>1</th>\n",
              "      <td>2019-03-05 01:15:10</td>\n",
              "      <td>1</td>\n",
              "      <td>15</td>\n",
              "      <td>10</td>\n",
              "    </tr>\n",
              "    <tr>\n",
              "      <th>2</th>\n",
              "      <td>2019-03-05 02:30:20</td>\n",
              "      <td>2</td>\n",
              "      <td>30</td>\n",
              "      <td>20</td>\n",
              "    </tr>\n",
              "  </tbody>\n",
              "</table>\n",
              "</div>"
            ],
            "text/plain": [
              "                 date  hour  min  sec\n",
              "0 2019-03-05 00:00:00     0    0    0\n",
              "1 2019-03-05 01:15:10     1   15   10\n",
              "2 2019-03-05 02:30:20     2   30   20"
            ]
          },
          "metadata": {
            "tags": []
          },
          "execution_count": 98
        }
      ]
    },
    {
      "cell_type": "code",
      "metadata": {
        "colab": {
          "base_uri": "https://localhost:8080/",
          "height": 195
        },
        "id": "5G5EoIm9_x8C",
        "outputId": "f8801e10-4284-4704-9bd5-c52aaf841107"
      },
      "source": [
        "# same above logic implemented using a list comperhension \r\n",
        "\r\n",
        "df[['h','m','s']]= pd.DataFrame([(x.hour,x.minute,x.second) for x in df['date']])\r\n",
        "df.head()"
      ],
      "execution_count": null,
      "outputs": [
        {
          "output_type": "execute_result",
          "data": {
            "text/html": [
              "<div>\n",
              "<style scoped>\n",
              "    .dataframe tbody tr th:only-of-type {\n",
              "        vertical-align: middle;\n",
              "    }\n",
              "\n",
              "    .dataframe tbody tr th {\n",
              "        vertical-align: top;\n",
              "    }\n",
              "\n",
              "    .dataframe thead th {\n",
              "        text-align: right;\n",
              "    }\n",
              "</style>\n",
              "<table border=\"1\" class=\"dataframe\">\n",
              "  <thead>\n",
              "    <tr style=\"text-align: right;\">\n",
              "      <th></th>\n",
              "      <th>date</th>\n",
              "      <th>hour</th>\n",
              "      <th>min</th>\n",
              "      <th>sec</th>\n",
              "      <th>h</th>\n",
              "      <th>m</th>\n",
              "      <th>s</th>\n",
              "    </tr>\n",
              "  </thead>\n",
              "  <tbody>\n",
              "    <tr>\n",
              "      <th>0</th>\n",
              "      <td>2019-03-05 00:00:00</td>\n",
              "      <td>0</td>\n",
              "      <td>0</td>\n",
              "      <td>0</td>\n",
              "      <td>0</td>\n",
              "      <td>0</td>\n",
              "      <td>0</td>\n",
              "    </tr>\n",
              "    <tr>\n",
              "      <th>1</th>\n",
              "      <td>2019-03-05 01:15:10</td>\n",
              "      <td>1</td>\n",
              "      <td>15</td>\n",
              "      <td>10</td>\n",
              "      <td>1</td>\n",
              "      <td>15</td>\n",
              "      <td>10</td>\n",
              "    </tr>\n",
              "    <tr>\n",
              "      <th>2</th>\n",
              "      <td>2019-03-05 02:30:20</td>\n",
              "      <td>2</td>\n",
              "      <td>30</td>\n",
              "      <td>20</td>\n",
              "      <td>2</td>\n",
              "      <td>30</td>\n",
              "      <td>20</td>\n",
              "    </tr>\n",
              "    <tr>\n",
              "      <th>3</th>\n",
              "      <td>2019-03-05 03:45:30</td>\n",
              "      <td>3</td>\n",
              "      <td>45</td>\n",
              "      <td>30</td>\n",
              "      <td>3</td>\n",
              "      <td>45</td>\n",
              "      <td>30</td>\n",
              "    </tr>\n",
              "    <tr>\n",
              "      <th>4</th>\n",
              "      <td>2019-03-05 05:00:40</td>\n",
              "      <td>5</td>\n",
              "      <td>0</td>\n",
              "      <td>40</td>\n",
              "      <td>5</td>\n",
              "      <td>0</td>\n",
              "      <td>40</td>\n",
              "    </tr>\n",
              "  </tbody>\n",
              "</table>\n",
              "</div>"
            ],
            "text/plain": [
              "                 date  hour  min  sec  h   m   s\n",
              "0 2019-03-05 00:00:00     0    0    0  0   0   0\n",
              "1 2019-03-05 01:15:10     1   15   10  1  15  10\n",
              "2 2019-03-05 02:30:20     2   30   20  2  30  20\n",
              "3 2019-03-05 03:45:30     3   45   30  3  45  30\n",
              "4 2019-03-05 05:00:40     5    0   40  5   0  40"
            ]
          },
          "metadata": {
            "tags": []
          },
          "execution_count": 100
        }
      ]
    },
    {
      "cell_type": "code",
      "metadata": {
        "colab": {
          "base_uri": "https://localhost:8080/"
        },
        "id": "es4Ub5KhA7tT",
        "outputId": "6c5fd1cd-1f51-4ea6-faee-5db885dac8ce"
      },
      "source": [
        "# Unique Hrs\r\n",
        "df['hour'].unique()"
      ],
      "execution_count": null,
      "outputs": [
        {
          "output_type": "execute_result",
          "data": {
            "text/plain": [
              "array([ 0,  1,  2,  3,  5,  6,  7,  8, 10, 11, 12, 13, 15, 16, 17, 18, 20,\n",
              "       21, 22, 23])"
            ]
          },
          "metadata": {
            "tags": []
          },
          "execution_count": 103
        }
      ]
    },
    {
      "cell_type": "markdown",
      "metadata": {
        "id": "C2sieg73BcM8"
      },
      "source": [
        "##Morning or Evening?"
      ]
    },
    {
      "cell_type": "code",
      "metadata": {
        "colab": {
          "base_uri": "https://localhost:8080/",
          "height": 136
        },
        "id": "O0LNLTN-BPxu",
        "outputId": "cafd787b-4146-4889-b3b6-79ee443319f3"
      },
      "source": [
        "# is it morning?\r\n",
        "\r\n",
        "df['is_morning'] = np.where( (df['hour'] < 7) & (df['hour'] >=0), \"Early Office hrs\", \"No\" )\r\n",
        "\r\n",
        "df.head(3)"
      ],
      "execution_count": null,
      "outputs": [
        {
          "output_type": "execute_result",
          "data": {
            "text/html": [
              "<div>\n",
              "<style scoped>\n",
              "    .dataframe tbody tr th:only-of-type {\n",
              "        vertical-align: middle;\n",
              "    }\n",
              "\n",
              "    .dataframe tbody tr th {\n",
              "        vertical-align: top;\n",
              "    }\n",
              "\n",
              "    .dataframe thead th {\n",
              "        text-align: right;\n",
              "    }\n",
              "</style>\n",
              "<table border=\"1\" class=\"dataframe\">\n",
              "  <thead>\n",
              "    <tr style=\"text-align: right;\">\n",
              "      <th></th>\n",
              "      <th>date</th>\n",
              "      <th>hour</th>\n",
              "      <th>min</th>\n",
              "      <th>sec</th>\n",
              "      <th>h</th>\n",
              "      <th>m</th>\n",
              "      <th>s</th>\n",
              "      <th>is_morning</th>\n",
              "    </tr>\n",
              "  </thead>\n",
              "  <tbody>\n",
              "    <tr>\n",
              "      <th>0</th>\n",
              "      <td>2019-03-05 00:00:00</td>\n",
              "      <td>0</td>\n",
              "      <td>0</td>\n",
              "      <td>0</td>\n",
              "      <td>0</td>\n",
              "      <td>0</td>\n",
              "      <td>0</td>\n",
              "      <td>Early Office hrs</td>\n",
              "    </tr>\n",
              "    <tr>\n",
              "      <th>1</th>\n",
              "      <td>2019-03-05 01:15:10</td>\n",
              "      <td>1</td>\n",
              "      <td>15</td>\n",
              "      <td>10</td>\n",
              "      <td>1</td>\n",
              "      <td>15</td>\n",
              "      <td>10</td>\n",
              "      <td>Early Office hrs</td>\n",
              "    </tr>\n",
              "    <tr>\n",
              "      <th>2</th>\n",
              "      <td>2019-03-05 02:30:20</td>\n",
              "      <td>2</td>\n",
              "      <td>30</td>\n",
              "      <td>20</td>\n",
              "      <td>2</td>\n",
              "      <td>30</td>\n",
              "      <td>20</td>\n",
              "      <td>Early Office hrs</td>\n",
              "    </tr>\n",
              "  </tbody>\n",
              "</table>\n",
              "</div>"
            ],
            "text/plain": [
              "                 date  hour  min  sec  h   m   s        is_morning\n",
              "0 2019-03-05 00:00:00     0    0    0  0   0   0  Early Office hrs\n",
              "1 2019-03-05 01:15:10     1   15   10  1  15  10  Early Office hrs\n",
              "2 2019-03-05 02:30:20     2   30   20  2  30  20  Early Office hrs"
            ]
          },
          "metadata": {
            "tags": []
          },
          "execution_count": 107
        }
      ]
    },
    {
      "cell_type": "code",
      "metadata": {
        "colab": {
          "base_uri": "https://localhost:8080/",
          "height": 132
        },
        "id": "ArY28yKKB_k4",
        "outputId": "73ae2c06-b9b7-489e-d277-faae04626a49"
      },
      "source": [
        "def (df,col):\r\n",
        "  if (df[col] < 7) & (df[col] >=0):\r\n",
        "    df['OOH'] = \"Early Office hrs\"\r\n",
        "  elif (df[col] < 18) & (df[col] >=0):\r\n",
        "    df['OOH'] = \"Late Office hrs\"\r\n",
        "  else:\r\n",
        "    df['OOH'] = \" \"\r\n",
        " return (df)"
      ],
      "execution_count": null,
      "outputs": [
        {
          "output_type": "error",
          "ename": "SyntaxError",
          "evalue": "ignored",
          "traceback": [
            "\u001b[0;36m  File \u001b[0;32m\"<ipython-input-112-19be1c8f26d9>\"\u001b[0;36m, line \u001b[0;32m1\u001b[0m\n\u001b[0;31m    def (df,col):\u001b[0m\n\u001b[0m        ^\u001b[0m\n\u001b[0;31mSyntaxError\u001b[0m\u001b[0;31m:\u001b[0m invalid syntax\n"
          ]
        }
      ]
    },
    {
      "cell_type": "markdown",
      "metadata": {
        "id": "8dlBeZLWHQ6v"
      },
      "source": [
        "## Elapsed Days|Months|Years"
      ]
    },
    {
      "cell_type": "code",
      "metadata": {
        "colab": {
          "base_uri": "https://localhost:8080/",
          "height": 195
        },
        "id": "u4j8QBquDjm1",
        "outputId": "4c33009c-574f-43e0-cc7c-274119f739f5"
      },
      "source": [
        "rng_hr = pd.date_range('2021-01-14', periods=20, freq='H')\r\n",
        "rng_month = pd.date_range('2021-01-30', periods=20, freq='M')\r\n",
        "\r\n",
        "df = pd.DataFrame({'date1': rng_hr, 'date2': rng_month}) \r\n",
        "df.head()"
      ],
      "execution_count": null,
      "outputs": [
        {
          "output_type": "execute_result",
          "data": {
            "text/html": [
              "<div>\n",
              "<style scoped>\n",
              "    .dataframe tbody tr th:only-of-type {\n",
              "        vertical-align: middle;\n",
              "    }\n",
              "\n",
              "    .dataframe tbody tr th {\n",
              "        vertical-align: top;\n",
              "    }\n",
              "\n",
              "    .dataframe thead th {\n",
              "        text-align: right;\n",
              "    }\n",
              "</style>\n",
              "<table border=\"1\" class=\"dataframe\">\n",
              "  <thead>\n",
              "    <tr style=\"text-align: right;\">\n",
              "      <th></th>\n",
              "      <th>date1</th>\n",
              "      <th>date2</th>\n",
              "    </tr>\n",
              "  </thead>\n",
              "  <tbody>\n",
              "    <tr>\n",
              "      <th>0</th>\n",
              "      <td>2021-01-14 00:00:00</td>\n",
              "      <td>2021-01-31</td>\n",
              "    </tr>\n",
              "    <tr>\n",
              "      <th>1</th>\n",
              "      <td>2021-01-14 01:00:00</td>\n",
              "      <td>2021-02-28</td>\n",
              "    </tr>\n",
              "    <tr>\n",
              "      <th>2</th>\n",
              "      <td>2021-01-14 02:00:00</td>\n",
              "      <td>2021-03-31</td>\n",
              "    </tr>\n",
              "    <tr>\n",
              "      <th>3</th>\n",
              "      <td>2021-01-14 03:00:00</td>\n",
              "      <td>2021-04-30</td>\n",
              "    </tr>\n",
              "    <tr>\n",
              "      <th>4</th>\n",
              "      <td>2021-01-14 04:00:00</td>\n",
              "      <td>2021-05-31</td>\n",
              "    </tr>\n",
              "  </tbody>\n",
              "</table>\n",
              "</div>"
            ],
            "text/plain": [
              "                date1      date2\n",
              "0 2021-01-14 00:00:00 2021-01-31\n",
              "1 2021-01-14 01:00:00 2021-02-28\n",
              "2 2021-01-14 02:00:00 2021-03-31\n",
              "3 2021-01-14 03:00:00 2021-04-30\n",
              "4 2021-01-14 04:00:00 2021-05-31"
            ]
          },
          "metadata": {
            "tags": []
          },
          "execution_count": 117
        }
      ]
    },
    {
      "cell_type": "code",
      "metadata": {
        "colab": {
          "base_uri": "https://localhost:8080/",
          "height": 195
        },
        "id": "H6Fs-ugLHcLo",
        "outputId": "80e4419b-ad39-4e88-f56b-bbdfc57cee74"
      },
      "source": [
        "# let's capture the difference in days between the 2 variables\r\n",
        "\r\n",
        "df['diff_dates'] = (df['date2'] - df['date1'])\r\n",
        "df['elapsed_days'] = (df['date2'] - df['date1']).dt.days\r\n",
        "\r\n",
        "df.head()"
      ],
      "execution_count": null,
      "outputs": [
        {
          "output_type": "execute_result",
          "data": {
            "text/html": [
              "<div>\n",
              "<style scoped>\n",
              "    .dataframe tbody tr th:only-of-type {\n",
              "        vertical-align: middle;\n",
              "    }\n",
              "\n",
              "    .dataframe tbody tr th {\n",
              "        vertical-align: top;\n",
              "    }\n",
              "\n",
              "    .dataframe thead th {\n",
              "        text-align: right;\n",
              "    }\n",
              "</style>\n",
              "<table border=\"1\" class=\"dataframe\">\n",
              "  <thead>\n",
              "    <tr style=\"text-align: right;\">\n",
              "      <th></th>\n",
              "      <th>date1</th>\n",
              "      <th>date2</th>\n",
              "      <th>elapsed_days</th>\n",
              "      <th>diff_dates</th>\n",
              "    </tr>\n",
              "  </thead>\n",
              "  <tbody>\n",
              "    <tr>\n",
              "      <th>0</th>\n",
              "      <td>2021-01-14 00:00:00</td>\n",
              "      <td>2021-01-31</td>\n",
              "      <td>17</td>\n",
              "      <td>17 days 00:00:00</td>\n",
              "    </tr>\n",
              "    <tr>\n",
              "      <th>1</th>\n",
              "      <td>2021-01-14 01:00:00</td>\n",
              "      <td>2021-02-28</td>\n",
              "      <td>44</td>\n",
              "      <td>44 days 23:00:00</td>\n",
              "    </tr>\n",
              "    <tr>\n",
              "      <th>2</th>\n",
              "      <td>2021-01-14 02:00:00</td>\n",
              "      <td>2021-03-31</td>\n",
              "      <td>75</td>\n",
              "      <td>75 days 22:00:00</td>\n",
              "    </tr>\n",
              "    <tr>\n",
              "      <th>3</th>\n",
              "      <td>2021-01-14 03:00:00</td>\n",
              "      <td>2021-04-30</td>\n",
              "      <td>105</td>\n",
              "      <td>105 days 21:00:00</td>\n",
              "    </tr>\n",
              "    <tr>\n",
              "      <th>4</th>\n",
              "      <td>2021-01-14 04:00:00</td>\n",
              "      <td>2021-05-31</td>\n",
              "      <td>136</td>\n",
              "      <td>136 days 20:00:00</td>\n",
              "    </tr>\n",
              "  </tbody>\n",
              "</table>\n",
              "</div>"
            ],
            "text/plain": [
              "                date1      date2  elapsed_days        diff_dates\n",
              "0 2021-01-14 00:00:00 2021-01-31            17  17 days 00:00:00\n",
              "1 2021-01-14 01:00:00 2021-02-28            44  44 days 23:00:00\n",
              "2 2021-01-14 02:00:00 2021-03-31            75  75 days 22:00:00\n",
              "3 2021-01-14 03:00:00 2021-04-30           105 105 days 21:00:00\n",
              "4 2021-01-14 04:00:00 2021-05-31           136 136 days 20:00:00"
            ]
          },
          "metadata": {
            "tags": []
          },
          "execution_count": 123
        }
      ]
    },
    {
      "cell_type": "code",
      "metadata": {
        "colab": {
          "base_uri": "https://localhost:8080/",
          "height": 195
        },
        "id": "7YS9aEj4H1kb",
        "outputId": "fd55c458-b444-4fa1-bd08-c0ea7fd4e276"
      },
      "source": [
        "# let's capture the difference in months between the 2 variables\r\n",
        "df['months_passed'] = ((df['date2'] - df['date1']) / np.timedelta64(1, 'M'))\r\n",
        "df['months_passed'] = np.round(df['months_passed'],0)\r\n",
        "\r\n",
        "df.head()"
      ],
      "execution_count": null,
      "outputs": [
        {
          "output_type": "execute_result",
          "data": {
            "text/html": [
              "<div>\n",
              "<style scoped>\n",
              "    .dataframe tbody tr th:only-of-type {\n",
              "        vertical-align: middle;\n",
              "    }\n",
              "\n",
              "    .dataframe tbody tr th {\n",
              "        vertical-align: top;\n",
              "    }\n",
              "\n",
              "    .dataframe thead th {\n",
              "        text-align: right;\n",
              "    }\n",
              "</style>\n",
              "<table border=\"1\" class=\"dataframe\">\n",
              "  <thead>\n",
              "    <tr style=\"text-align: right;\">\n",
              "      <th></th>\n",
              "      <th>date1</th>\n",
              "      <th>date2</th>\n",
              "      <th>elapsed_days</th>\n",
              "      <th>diff_dates</th>\n",
              "      <th>months_passed</th>\n",
              "    </tr>\n",
              "  </thead>\n",
              "  <tbody>\n",
              "    <tr>\n",
              "      <th>0</th>\n",
              "      <td>2021-01-14 00:00:00</td>\n",
              "      <td>2021-01-31</td>\n",
              "      <td>17</td>\n",
              "      <td>17 days 00:00:00</td>\n",
              "      <td>1.0</td>\n",
              "    </tr>\n",
              "    <tr>\n",
              "      <th>1</th>\n",
              "      <td>2021-01-14 01:00:00</td>\n",
              "      <td>2021-02-28</td>\n",
              "      <td>44</td>\n",
              "      <td>44 days 23:00:00</td>\n",
              "      <td>1.0</td>\n",
              "    </tr>\n",
              "    <tr>\n",
              "      <th>2</th>\n",
              "      <td>2021-01-14 02:00:00</td>\n",
              "      <td>2021-03-31</td>\n",
              "      <td>75</td>\n",
              "      <td>75 days 22:00:00</td>\n",
              "      <td>2.0</td>\n",
              "    </tr>\n",
              "    <tr>\n",
              "      <th>3</th>\n",
              "      <td>2021-01-14 03:00:00</td>\n",
              "      <td>2021-04-30</td>\n",
              "      <td>105</td>\n",
              "      <td>105 days 21:00:00</td>\n",
              "      <td>3.0</td>\n",
              "    </tr>\n",
              "    <tr>\n",
              "      <th>4</th>\n",
              "      <td>2021-01-14 04:00:00</td>\n",
              "      <td>2021-05-31</td>\n",
              "      <td>136</td>\n",
              "      <td>136 days 20:00:00</td>\n",
              "      <td>4.0</td>\n",
              "    </tr>\n",
              "  </tbody>\n",
              "</table>\n",
              "</div>"
            ],
            "text/plain": [
              "                date1      date2  elapsed_days        diff_dates  months_passed\n",
              "0 2021-01-14 00:00:00 2021-01-31            17  17 days 00:00:00            1.0\n",
              "1 2021-01-14 01:00:00 2021-02-28            44  44 days 23:00:00            1.0\n",
              "2 2021-01-14 02:00:00 2021-03-31            75  75 days 22:00:00            2.0\n",
              "3 2021-01-14 03:00:00 2021-04-30           105 105 days 21:00:00            3.0\n",
              "4 2021-01-14 04:00:00 2021-05-31           136 136 days 20:00:00            4.0"
            ]
          },
          "metadata": {
            "tags": []
          },
          "execution_count": 124
        }
      ]
    },
    {
      "cell_type": "code",
      "metadata": {
        "colab": {
          "base_uri": "https://localhost:8080/",
          "height": 195
        },
        "id": "cWal5_fWIW1p",
        "outputId": "f8575d67-6bdd-48f9-9df4-1e8b93091b68"
      },
      "source": [
        "# calculate difference in seconds and minutes\r\n",
        "\r\n",
        "df['diff_seconds'] = (df['date2'] - df['date1'])/np.timedelta64(1,'s')\r\n",
        "df['diff_minutes'] = (df['date2'] - df['date1'])/np.timedelta64(1,'m')\r\n",
        "\r\n",
        "df.head()"
      ],
      "execution_count": null,
      "outputs": [
        {
          "output_type": "execute_result",
          "data": {
            "text/html": [
              "<div>\n",
              "<style scoped>\n",
              "    .dataframe tbody tr th:only-of-type {\n",
              "        vertical-align: middle;\n",
              "    }\n",
              "\n",
              "    .dataframe tbody tr th {\n",
              "        vertical-align: top;\n",
              "    }\n",
              "\n",
              "    .dataframe thead th {\n",
              "        text-align: right;\n",
              "    }\n",
              "</style>\n",
              "<table border=\"1\" class=\"dataframe\">\n",
              "  <thead>\n",
              "    <tr style=\"text-align: right;\">\n",
              "      <th></th>\n",
              "      <th>date1</th>\n",
              "      <th>date2</th>\n",
              "      <th>elapsed_days</th>\n",
              "      <th>diff_dates</th>\n",
              "      <th>months_passed</th>\n",
              "      <th>diff_seconds</th>\n",
              "      <th>diff_minutes</th>\n",
              "    </tr>\n",
              "  </thead>\n",
              "  <tbody>\n",
              "    <tr>\n",
              "      <th>0</th>\n",
              "      <td>2021-01-14 00:00:00</td>\n",
              "      <td>2021-01-31</td>\n",
              "      <td>17</td>\n",
              "      <td>17 days 00:00:00</td>\n",
              "      <td>1.0</td>\n",
              "      <td>1468800.0</td>\n",
              "      <td>24480.0</td>\n",
              "    </tr>\n",
              "    <tr>\n",
              "      <th>1</th>\n",
              "      <td>2021-01-14 01:00:00</td>\n",
              "      <td>2021-02-28</td>\n",
              "      <td>44</td>\n",
              "      <td>44 days 23:00:00</td>\n",
              "      <td>1.0</td>\n",
              "      <td>3884400.0</td>\n",
              "      <td>64740.0</td>\n",
              "    </tr>\n",
              "    <tr>\n",
              "      <th>2</th>\n",
              "      <td>2021-01-14 02:00:00</td>\n",
              "      <td>2021-03-31</td>\n",
              "      <td>75</td>\n",
              "      <td>75 days 22:00:00</td>\n",
              "      <td>2.0</td>\n",
              "      <td>6559200.0</td>\n",
              "      <td>109320.0</td>\n",
              "    </tr>\n",
              "    <tr>\n",
              "      <th>3</th>\n",
              "      <td>2021-01-14 03:00:00</td>\n",
              "      <td>2021-04-30</td>\n",
              "      <td>105</td>\n",
              "      <td>105 days 21:00:00</td>\n",
              "      <td>3.0</td>\n",
              "      <td>9147600.0</td>\n",
              "      <td>152460.0</td>\n",
              "    </tr>\n",
              "    <tr>\n",
              "      <th>4</th>\n",
              "      <td>2021-01-14 04:00:00</td>\n",
              "      <td>2021-05-31</td>\n",
              "      <td>136</td>\n",
              "      <td>136 days 20:00:00</td>\n",
              "      <td>4.0</td>\n",
              "      <td>11822400.0</td>\n",
              "      <td>197040.0</td>\n",
              "    </tr>\n",
              "  </tbody>\n",
              "</table>\n",
              "</div>"
            ],
            "text/plain": [
              "                date1      date2  ...  diff_seconds diff_minutes\n",
              "0 2021-01-14 00:00:00 2021-01-31  ...     1468800.0      24480.0\n",
              "1 2021-01-14 01:00:00 2021-02-28  ...     3884400.0      64740.0\n",
              "2 2021-01-14 02:00:00 2021-03-31  ...     6559200.0     109320.0\n",
              "3 2021-01-14 03:00:00 2021-04-30  ...     9147600.0     152460.0\n",
              "4 2021-01-14 04:00:00 2021-05-31  ...    11822400.0     197040.0\n",
              "\n",
              "[5 rows x 7 columns]"
            ]
          },
          "metadata": {
            "tags": []
          },
          "execution_count": 125
        }
      ]
    },
    {
      "cell_type": "code",
      "metadata": {
        "colab": {
          "base_uri": "https://localhost:8080/",
          "height": 195
        },
        "id": "MxUijAolMgbP",
        "outputId": "05bfe7f1-170b-4861-91d7-325e570d0c39"
      },
      "source": [
        "# calculate difference to today\r\n",
        "\r\n",
        "df['to_today'] = (datetime.datetime.today() - df['date1'])\r\n",
        "df.head()"
      ],
      "execution_count": null,
      "outputs": [
        {
          "output_type": "execute_result",
          "data": {
            "text/html": [
              "<div>\n",
              "<style scoped>\n",
              "    .dataframe tbody tr th:only-of-type {\n",
              "        vertical-align: middle;\n",
              "    }\n",
              "\n",
              "    .dataframe tbody tr th {\n",
              "        vertical-align: top;\n",
              "    }\n",
              "\n",
              "    .dataframe thead th {\n",
              "        text-align: right;\n",
              "    }\n",
              "</style>\n",
              "<table border=\"1\" class=\"dataframe\">\n",
              "  <thead>\n",
              "    <tr style=\"text-align: right;\">\n",
              "      <th></th>\n",
              "      <th>date1</th>\n",
              "      <th>date2</th>\n",
              "      <th>elapsed_days</th>\n",
              "      <th>diff_dates</th>\n",
              "      <th>months_passed</th>\n",
              "      <th>diff_seconds</th>\n",
              "      <th>diff_minutes</th>\n",
              "      <th>to_today</th>\n",
              "    </tr>\n",
              "  </thead>\n",
              "  <tbody>\n",
              "    <tr>\n",
              "      <th>0</th>\n",
              "      <td>2021-01-14 00:00:00</td>\n",
              "      <td>2021-01-31</td>\n",
              "      <td>17</td>\n",
              "      <td>17 days 00:00:00</td>\n",
              "      <td>1.0</td>\n",
              "      <td>1468800.0</td>\n",
              "      <td>24480.0</td>\n",
              "      <td>0 days 18:40:47.585984</td>\n",
              "    </tr>\n",
              "    <tr>\n",
              "      <th>1</th>\n",
              "      <td>2021-01-14 01:00:00</td>\n",
              "      <td>2021-02-28</td>\n",
              "      <td>44</td>\n",
              "      <td>44 days 23:00:00</td>\n",
              "      <td>1.0</td>\n",
              "      <td>3884400.0</td>\n",
              "      <td>64740.0</td>\n",
              "      <td>0 days 17:40:47.585984</td>\n",
              "    </tr>\n",
              "    <tr>\n",
              "      <th>2</th>\n",
              "      <td>2021-01-14 02:00:00</td>\n",
              "      <td>2021-03-31</td>\n",
              "      <td>75</td>\n",
              "      <td>75 days 22:00:00</td>\n",
              "      <td>2.0</td>\n",
              "      <td>6559200.0</td>\n",
              "      <td>109320.0</td>\n",
              "      <td>0 days 16:40:47.585984</td>\n",
              "    </tr>\n",
              "    <tr>\n",
              "      <th>3</th>\n",
              "      <td>2021-01-14 03:00:00</td>\n",
              "      <td>2021-04-30</td>\n",
              "      <td>105</td>\n",
              "      <td>105 days 21:00:00</td>\n",
              "      <td>3.0</td>\n",
              "      <td>9147600.0</td>\n",
              "      <td>152460.0</td>\n",
              "      <td>0 days 15:40:47.585984</td>\n",
              "    </tr>\n",
              "    <tr>\n",
              "      <th>4</th>\n",
              "      <td>2021-01-14 04:00:00</td>\n",
              "      <td>2021-05-31</td>\n",
              "      <td>136</td>\n",
              "      <td>136 days 20:00:00</td>\n",
              "      <td>4.0</td>\n",
              "      <td>11822400.0</td>\n",
              "      <td>197040.0</td>\n",
              "      <td>0 days 14:40:47.585984</td>\n",
              "    </tr>\n",
              "  </tbody>\n",
              "</table>\n",
              "</div>"
            ],
            "text/plain": [
              "                date1      date2  ...  diff_minutes               to_today\n",
              "0 2021-01-14 00:00:00 2021-01-31  ...       24480.0 0 days 18:40:47.585984\n",
              "1 2021-01-14 01:00:00 2021-02-28  ...       64740.0 0 days 17:40:47.585984\n",
              "2 2021-01-14 02:00:00 2021-03-31  ...      109320.0 0 days 16:40:47.585984\n",
              "3 2021-01-14 03:00:00 2021-04-30  ...      152460.0 0 days 15:40:47.585984\n",
              "4 2021-01-14 04:00:00 2021-05-31  ...      197040.0 0 days 14:40:47.585984\n",
              "\n",
              "[5 rows x 8 columns]"
            ]
          },
          "metadata": {
            "tags": []
          },
          "execution_count": 129
        }
      ]
    },
    {
      "cell_type": "markdown",
      "metadata": {
        "id": "rCH58o2kOJ4q"
      },
      "source": [
        "##Convert Timezones & their differences"
      ]
    },
    {
      "cell_type": "code",
      "metadata": {
        "colab": {
          "base_uri": "https://localhost:8080/",
          "height": 225
        },
        "id": "7tlMc6PRMnXF",
        "outputId": "437763c4-9c04-4d89-93e6-cd4d2f9729ee"
      },
      "source": [
        "# Lets create df with some timestamps in different time zones\r\n",
        "# variable 1\r\n",
        "\r\n",
        "df = pd.DataFrame()\r\n",
        "\r\n",
        "df['time1'] = pd.concat([\r\n",
        "    pd.Series(\r\n",
        "        pd.date_range(\r\n",
        "            start='2015-06-10 09:00', freq='H', periods=3,\r\n",
        "            tz='Europe/Berlin')),\r\n",
        "    pd.Series(\r\n",
        "        pd.date_range(\r\n",
        "            start='2015-09-10 09:00', freq='H', periods=3, tz='US/Central'))\r\n",
        "    ], axis=0)\r\n",
        "\r\n",
        "df"
      ],
      "execution_count": null,
      "outputs": [
        {
          "output_type": "execute_result",
          "data": {
            "text/html": [
              "<div>\n",
              "<style scoped>\n",
              "    .dataframe tbody tr th:only-of-type {\n",
              "        vertical-align: middle;\n",
              "    }\n",
              "\n",
              "    .dataframe tbody tr th {\n",
              "        vertical-align: top;\n",
              "    }\n",
              "\n",
              "    .dataframe thead th {\n",
              "        text-align: right;\n",
              "    }\n",
              "</style>\n",
              "<table border=\"1\" class=\"dataframe\">\n",
              "  <thead>\n",
              "    <tr style=\"text-align: right;\">\n",
              "      <th></th>\n",
              "      <th>time1</th>\n",
              "    </tr>\n",
              "  </thead>\n",
              "  <tbody>\n",
              "    <tr>\n",
              "      <th>0</th>\n",
              "      <td>2015-06-10 09:00:00+02:00</td>\n",
              "    </tr>\n",
              "    <tr>\n",
              "      <th>1</th>\n",
              "      <td>2015-06-10 10:00:00+02:00</td>\n",
              "    </tr>\n",
              "    <tr>\n",
              "      <th>2</th>\n",
              "      <td>2015-06-10 11:00:00+02:00</td>\n",
              "    </tr>\n",
              "    <tr>\n",
              "      <th>0</th>\n",
              "      <td>2015-09-10 09:00:00-05:00</td>\n",
              "    </tr>\n",
              "    <tr>\n",
              "      <th>1</th>\n",
              "      <td>2015-09-10 10:00:00-05:00</td>\n",
              "    </tr>\n",
              "    <tr>\n",
              "      <th>2</th>\n",
              "      <td>2015-09-10 11:00:00-05:00</td>\n",
              "    </tr>\n",
              "  </tbody>\n",
              "</table>\n",
              "</div>"
            ],
            "text/plain": [
              "                       time1\n",
              "0  2015-06-10 09:00:00+02:00\n",
              "1  2015-06-10 10:00:00+02:00\n",
              "2  2015-06-10 11:00:00+02:00\n",
              "0  2015-09-10 09:00:00-05:00\n",
              "1  2015-09-10 10:00:00-05:00\n",
              "2  2015-09-10 11:00:00-05:00"
            ]
          },
          "metadata": {
            "tags": []
          },
          "execution_count": 136
        }
      ]
    },
    {
      "cell_type": "code",
      "metadata": {
        "colab": {
          "base_uri": "https://localhost:8080/",
          "height": 225
        },
        "id": "QTGCkBvQOVb4",
        "outputId": "30d0bddf-2a99-43d4-fa12-3626d7048387"
      },
      "source": [
        "df['time2'] = pd.concat([\r\n",
        "    pd.Series(\r\n",
        "        pd.date_range(\r\n",
        "            start='2015-07-01 09:00', freq='H', periods=3,\r\n",
        "            tz='Europe/Berlin')),\r\n",
        "    pd.Series(\r\n",
        "        pd.date_range(\r\n",
        "            start='2015-08-01 09:00', freq='H', periods=3, tz='US/Central'))\r\n",
        "    ], axis=0)\r\n",
        "\r\n",
        "df\r\n"
      ],
      "execution_count": null,
      "outputs": [
        {
          "output_type": "execute_result",
          "data": {
            "text/html": [
              "<div>\n",
              "<style scoped>\n",
              "    .dataframe tbody tr th:only-of-type {\n",
              "        vertical-align: middle;\n",
              "    }\n",
              "\n",
              "    .dataframe tbody tr th {\n",
              "        vertical-align: top;\n",
              "    }\n",
              "\n",
              "    .dataframe thead th {\n",
              "        text-align: right;\n",
              "    }\n",
              "</style>\n",
              "<table border=\"1\" class=\"dataframe\">\n",
              "  <thead>\n",
              "    <tr style=\"text-align: right;\">\n",
              "      <th></th>\n",
              "      <th>time1</th>\n",
              "      <th>time1_utc</th>\n",
              "      <th>time2</th>\n",
              "    </tr>\n",
              "  </thead>\n",
              "  <tbody>\n",
              "    <tr>\n",
              "      <th>0</th>\n",
              "      <td>2015-06-10 09:00:00+02:00</td>\n",
              "      <td>2015-06-10 07:00:00+00:00</td>\n",
              "      <td>2015-07-01 09:00:00+02:00</td>\n",
              "    </tr>\n",
              "    <tr>\n",
              "      <th>1</th>\n",
              "      <td>2015-06-10 10:00:00+02:00</td>\n",
              "      <td>2015-06-10 08:00:00+00:00</td>\n",
              "      <td>2015-07-01 10:00:00+02:00</td>\n",
              "    </tr>\n",
              "    <tr>\n",
              "      <th>2</th>\n",
              "      <td>2015-06-10 11:00:00+02:00</td>\n",
              "      <td>2015-06-10 09:00:00+00:00</td>\n",
              "      <td>2015-07-01 11:00:00+02:00</td>\n",
              "    </tr>\n",
              "    <tr>\n",
              "      <th>0</th>\n",
              "      <td>2015-09-10 09:00:00-05:00</td>\n",
              "      <td>2015-09-10 14:00:00+00:00</td>\n",
              "      <td>2015-08-01 09:00:00-05:00</td>\n",
              "    </tr>\n",
              "    <tr>\n",
              "      <th>1</th>\n",
              "      <td>2015-09-10 10:00:00-05:00</td>\n",
              "      <td>2015-09-10 15:00:00+00:00</td>\n",
              "      <td>2015-08-01 10:00:00-05:00</td>\n",
              "    </tr>\n",
              "    <tr>\n",
              "      <th>2</th>\n",
              "      <td>2015-09-10 11:00:00-05:00</td>\n",
              "      <td>2015-09-10 16:00:00+00:00</td>\n",
              "      <td>2015-08-01 11:00:00-05:00</td>\n",
              "    </tr>\n",
              "  </tbody>\n",
              "</table>\n",
              "</div>"
            ],
            "text/plain": [
              "                       time1  ...                      time2\n",
              "0  2015-06-10 09:00:00+02:00  ...  2015-07-01 09:00:00+02:00\n",
              "1  2015-06-10 10:00:00+02:00  ...  2015-07-01 10:00:00+02:00\n",
              "2  2015-06-10 11:00:00+02:00  ...  2015-07-01 11:00:00+02:00\n",
              "0  2015-09-10 09:00:00-05:00  ...  2015-08-01 09:00:00-05:00\n",
              "1  2015-09-10 10:00:00-05:00  ...  2015-08-01 10:00:00-05:00\n",
              "2  2015-09-10 11:00:00-05:00  ...  2015-08-01 11:00:00-05:00\n",
              "\n",
              "[6 rows x 3 columns]"
            ]
          },
          "metadata": {
            "tags": []
          },
          "execution_count": 138
        }
      ]
    },
    {
      "cell_type": "code",
      "metadata": {
        "colab": {
          "base_uri": "https://localhost:8080/",
          "height": 225
        },
        "id": "XC40w5NdObvw",
        "outputId": "104349fe-bddd-4312-9b03-a50cd3a29c71"
      },
      "source": [
        "\r\n",
        "# Convert to UTC timezone\r\n",
        "# setting utc = True\r\n",
        "\r\n",
        "df['time1_utc'] = pd.to_datetime(df['time1'], utc=True)\r\n",
        "df['time2_utc'] = pd.to_datetime(df['time2'], utc=True)\r\n",
        "\r\n",
        "df"
      ],
      "execution_count": null,
      "outputs": [
        {
          "output_type": "execute_result",
          "data": {
            "text/html": [
              "<div>\n",
              "<style scoped>\n",
              "    .dataframe tbody tr th:only-of-type {\n",
              "        vertical-align: middle;\n",
              "    }\n",
              "\n",
              "    .dataframe tbody tr th {\n",
              "        vertical-align: top;\n",
              "    }\n",
              "\n",
              "    .dataframe thead th {\n",
              "        text-align: right;\n",
              "    }\n",
              "</style>\n",
              "<table border=\"1\" class=\"dataframe\">\n",
              "  <thead>\n",
              "    <tr style=\"text-align: right;\">\n",
              "      <th></th>\n",
              "      <th>time1</th>\n",
              "      <th>time1_utc</th>\n",
              "      <th>time2</th>\n",
              "      <th>time2_utc</th>\n",
              "    </tr>\n",
              "  </thead>\n",
              "  <tbody>\n",
              "    <tr>\n",
              "      <th>0</th>\n",
              "      <td>2015-06-10 09:00:00+02:00</td>\n",
              "      <td>2015-06-10 07:00:00+00:00</td>\n",
              "      <td>2015-07-01 09:00:00+02:00</td>\n",
              "      <td>2015-07-01 07:00:00+00:00</td>\n",
              "    </tr>\n",
              "    <tr>\n",
              "      <th>1</th>\n",
              "      <td>2015-06-10 10:00:00+02:00</td>\n",
              "      <td>2015-06-10 08:00:00+00:00</td>\n",
              "      <td>2015-07-01 10:00:00+02:00</td>\n",
              "      <td>2015-07-01 08:00:00+00:00</td>\n",
              "    </tr>\n",
              "    <tr>\n",
              "      <th>2</th>\n",
              "      <td>2015-06-10 11:00:00+02:00</td>\n",
              "      <td>2015-06-10 09:00:00+00:00</td>\n",
              "      <td>2015-07-01 11:00:00+02:00</td>\n",
              "      <td>2015-07-01 09:00:00+00:00</td>\n",
              "    </tr>\n",
              "    <tr>\n",
              "      <th>0</th>\n",
              "      <td>2015-09-10 09:00:00-05:00</td>\n",
              "      <td>2015-09-10 14:00:00+00:00</td>\n",
              "      <td>2015-08-01 09:00:00-05:00</td>\n",
              "      <td>2015-08-01 14:00:00+00:00</td>\n",
              "    </tr>\n",
              "    <tr>\n",
              "      <th>1</th>\n",
              "      <td>2015-09-10 10:00:00-05:00</td>\n",
              "      <td>2015-09-10 15:00:00+00:00</td>\n",
              "      <td>2015-08-01 10:00:00-05:00</td>\n",
              "      <td>2015-08-01 15:00:00+00:00</td>\n",
              "    </tr>\n",
              "    <tr>\n",
              "      <th>2</th>\n",
              "      <td>2015-09-10 11:00:00-05:00</td>\n",
              "      <td>2015-09-10 16:00:00+00:00</td>\n",
              "      <td>2015-08-01 11:00:00-05:00</td>\n",
              "      <td>2015-08-01 16:00:00+00:00</td>\n",
              "    </tr>\n",
              "  </tbody>\n",
              "</table>\n",
              "</div>"
            ],
            "text/plain": [
              "                       time1  ...                 time2_utc\n",
              "0  2015-06-10 09:00:00+02:00  ... 2015-07-01 07:00:00+00:00\n",
              "1  2015-06-10 10:00:00+02:00  ... 2015-07-01 08:00:00+00:00\n",
              "2  2015-06-10 11:00:00+02:00  ... 2015-07-01 09:00:00+00:00\n",
              "0  2015-09-10 09:00:00-05:00  ... 2015-08-01 14:00:00+00:00\n",
              "1  2015-09-10 10:00:00-05:00  ... 2015-08-01 15:00:00+00:00\n",
              "2  2015-09-10 11:00:00-05:00  ... 2015-08-01 16:00:00+00:00\n",
              "\n",
              "[6 rows x 4 columns]"
            ]
          },
          "metadata": {
            "tags": []
          },
          "execution_count": 139
        }
      ]
    },
    {
      "cell_type": "code",
      "metadata": {
        "colab": {
          "base_uri": "https://localhost:8080/"
        },
        "id": "2kd6rxoJOglA",
        "outputId": "515f8c2f-c1e9-42f2-e5e4-08611b107afc"
      },
      "source": [
        "# Days elapse\r\n",
        "\r\n",
        "df['elapsed_days'] = (df['time2_utc'] - df['time1_utc']).dt.days\r\n",
        "\r\n",
        "df['elapsed_days'].head()"
      ],
      "execution_count": null,
      "outputs": [
        {
          "output_type": "execute_result",
          "data": {
            "text/plain": [
              "0    21\n",
              "1    21\n",
              "2    21\n",
              "0   -40\n",
              "1   -40\n",
              "Name: elapsed_days, dtype: int64"
            ]
          },
          "metadata": {
            "tags": []
          },
          "execution_count": 140
        }
      ]
    },
    {
      "cell_type": "code",
      "metadata": {
        "colab": {
          "base_uri": "https://localhost:8080/",
          "height": 225
        },
        "id": "PTyBEnkxOkxt",
        "outputId": "7396bfdb-bc1f-4744-c751-5bee7aa3b65d"
      },
      "source": [
        "# Convert utc to the desired timezone, eg Europe/London\r\n",
        "\r\n",
        "df['time1_london'] = df['time1_utc'].dt.tz_convert('Europe/London')\r\n",
        "df['time2_berlin'] = df['time1_utc'].dt.tz_convert('Europe/Berlin')\r\n",
        "\r\n",
        "df[['time1_london', 'time2_berlin']]"
      ],
      "execution_count": null,
      "outputs": [
        {
          "output_type": "execute_result",
          "data": {
            "text/html": [
              "<div>\n",
              "<style scoped>\n",
              "    .dataframe tbody tr th:only-of-type {\n",
              "        vertical-align: middle;\n",
              "    }\n",
              "\n",
              "    .dataframe tbody tr th {\n",
              "        vertical-align: top;\n",
              "    }\n",
              "\n",
              "    .dataframe thead th {\n",
              "        text-align: right;\n",
              "    }\n",
              "</style>\n",
              "<table border=\"1\" class=\"dataframe\">\n",
              "  <thead>\n",
              "    <tr style=\"text-align: right;\">\n",
              "      <th></th>\n",
              "      <th>time1_london</th>\n",
              "      <th>time2_berlin</th>\n",
              "    </tr>\n",
              "  </thead>\n",
              "  <tbody>\n",
              "    <tr>\n",
              "      <th>0</th>\n",
              "      <td>2015-06-10 08:00:00+01:00</td>\n",
              "      <td>2015-06-10 09:00:00+02:00</td>\n",
              "    </tr>\n",
              "    <tr>\n",
              "      <th>1</th>\n",
              "      <td>2015-06-10 09:00:00+01:00</td>\n",
              "      <td>2015-06-10 10:00:00+02:00</td>\n",
              "    </tr>\n",
              "    <tr>\n",
              "      <th>2</th>\n",
              "      <td>2015-06-10 10:00:00+01:00</td>\n",
              "      <td>2015-06-10 11:00:00+02:00</td>\n",
              "    </tr>\n",
              "    <tr>\n",
              "      <th>0</th>\n",
              "      <td>2015-09-10 15:00:00+01:00</td>\n",
              "      <td>2015-09-10 16:00:00+02:00</td>\n",
              "    </tr>\n",
              "    <tr>\n",
              "      <th>1</th>\n",
              "      <td>2015-09-10 16:00:00+01:00</td>\n",
              "      <td>2015-09-10 17:00:00+02:00</td>\n",
              "    </tr>\n",
              "    <tr>\n",
              "      <th>2</th>\n",
              "      <td>2015-09-10 17:00:00+01:00</td>\n",
              "      <td>2015-09-10 18:00:00+02:00</td>\n",
              "    </tr>\n",
              "  </tbody>\n",
              "</table>\n",
              "</div>"
            ],
            "text/plain": [
              "               time1_london              time2_berlin\n",
              "0 2015-06-10 08:00:00+01:00 2015-06-10 09:00:00+02:00\n",
              "1 2015-06-10 09:00:00+01:00 2015-06-10 10:00:00+02:00\n",
              "2 2015-06-10 10:00:00+01:00 2015-06-10 11:00:00+02:00\n",
              "0 2015-09-10 15:00:00+01:00 2015-09-10 16:00:00+02:00\n",
              "1 2015-09-10 16:00:00+01:00 2015-09-10 17:00:00+02:00\n",
              "2 2015-09-10 17:00:00+01:00 2015-09-10 18:00:00+02:00"
            ]
          },
          "metadata": {
            "tags": []
          },
          "execution_count": 141
        }
      ]
    },
    {
      "cell_type": "markdown",
      "metadata": {
        "id": "YjSBEMyh9vgo"
      },
      "source": [
        "##Time"
      ]
    },
    {
      "cell_type": "code",
      "metadata": {
        "id": "FWkrgLGoOq1Q",
        "colab": {
          "base_uri": "https://localhost:8080/"
        },
        "outputId": "d9e1f88d-7f2c-4ac3-dddf-a6316fda6795"
      },
      "source": [
        "epochseconds=time.time()\r\n",
        "epochseconds"
      ],
      "execution_count": null,
      "outputs": [
        {
          "output_type": "execute_result",
          "data": {
            "text/plain": [
              "1611266550.9070437"
            ]
          },
          "metadata": {
            "tags": []
          },
          "execution_count": 4
        }
      ]
    },
    {
      "cell_type": "code",
      "metadata": {
        "colab": {
          "base_uri": "https://localhost:8080/",
          "height": 35
        },
        "id": "MsbPDPVr90uJ",
        "outputId": "5c5beb87-4ac2-440d-934b-9eee4de4a260"
      },
      "source": [
        "# Current time\r\n",
        "t = time.ctime(epochseconds)\r\n",
        "t"
      ],
      "execution_count": null,
      "outputs": [
        {
          "output_type": "execute_result",
          "data": {
            "application/vnd.google.colaboratory.intrinsic+json": {
              "type": "string"
            },
            "text/plain": [
              "'Thu Jan 21 22:02:30 2021'"
            ]
          },
          "metadata": {
            "tags": []
          },
          "execution_count": 44
        }
      ]
    },
    {
      "cell_type": "code",
      "metadata": {
        "colab": {
          "base_uri": "https://localhost:8080/"
        },
        "id": "X-jz0PFE-hNq",
        "outputId": "b913933e-2593-4170-91ff-830ad445f1a7"
      },
      "source": [
        "# Current date & timestamp\r\n",
        "import datetime\r\n",
        "dt=datetime.datetime.today()\r\n",
        "dt"
      ],
      "execution_count": null,
      "outputs": [
        {
          "output_type": "execute_result",
          "data": {
            "text/plain": [
              "datetime.datetime(2021, 1, 21, 22, 59, 14, 716177)"
            ]
          },
          "metadata": {
            "tags": []
          },
          "execution_count": 46
        }
      ]
    },
    {
      "cell_type": "markdown",
      "metadata": {
        "id": "tjflUBWdLNzZ"
      },
      "source": [
        "### Date"
      ]
    },
    {
      "cell_type": "code",
      "metadata": {
        "colab": {
          "base_uri": "https://localhost:8080/"
        },
        "id": "cNOYyopS--Xd",
        "outputId": "d2ff08f8-0369-4f93-8d97-5d07e0bf97c1"
      },
      "source": [
        "print(f'Current Year :{dt.year}')\r\n",
        "print(f'Current Month :{dt.month}')\r\n",
        "print(f'Current Day :{dt.day}')\r\n",
        "print(f'Current Date :{dt.year}-{dt.month}-{dt.day} ')"
      ],
      "execution_count": null,
      "outputs": [
        {
          "output_type": "stream",
          "text": [
            "Current Year :2021\n",
            "Current Month :1\n",
            "Current Day :21\n",
            "Current Date :2021-1-21 \n"
          ],
          "name": "stdout"
        }
      ]
    },
    {
      "cell_type": "markdown",
      "metadata": {
        "id": "7evTjzLXLRol"
      },
      "source": [
        "###Time"
      ]
    },
    {
      "cell_type": "code",
      "metadata": {
        "colab": {
          "base_uri": "https://localhost:8080/"
        },
        "id": "MwMDgevG_Kg7",
        "outputId": "8f3b2312-2198-4688-bd54-8d6e8ccc5b3c"
      },
      "source": [
        "print(f'Current hr :{dt.hour}')\r\n",
        "print(f'Current Min :{dt.minute}')\r\n",
        "print(f'Current seconds :{dt.second}')\r\n",
        "print(f'Current time :{dt.hour}:{dt.minute}:{dt.second}')"
      ],
      "execution_count": null,
      "outputs": [
        {
          "output_type": "stream",
          "text": [
            "Current hr :22\n",
            "Current Min :6\n",
            "Current seconds :58\n",
            "Current time :22:6:58\n"
          ],
          "name": "stdout"
        }
      ]
    },
    {
      "cell_type": "markdown",
      "metadata": {
        "id": "Uy98ZoSELUtL"
      },
      "source": [
        "###Combine Date & Time"
      ]
    },
    {
      "cell_type": "code",
      "metadata": {
        "colab": {
          "base_uri": "https://localhost:8080/"
        },
        "id": "74Usmf0k_nJK",
        "outputId": "e5bf8140-fecf-46c7-9ffd-7a24d04e5c47"
      },
      "source": [
        "d = datetime(2021,1,21)\r\n",
        "t = time(22,6)\r\n",
        "dt = datetime.combine(d,t)\r\n",
        "print(dt)"
      ],
      "execution_count": null,
      "outputs": [
        {
          "output_type": "stream",
          "text": [
            "2021-01-21 22:06:00\n"
          ],
          "name": "stdout"
        }
      ]
    },
    {
      "cell_type": "markdown",
      "metadata": {
        "id": "DFar8ZxPLZby"
      },
      "source": [
        "### Sort dates"
      ]
    },
    {
      "cell_type": "code",
      "metadata": {
        "colab": {
          "base_uri": "https://localhost:8080/"
        },
        "id": "YmwJc0iwB4sz",
        "outputId": "84884353-52f2-4e7e-bfb0-babb58029ac2"
      },
      "source": [
        "lst = []\r\n",
        "\r\n",
        "d1 = datetime(2019,1,21)\r\n",
        "d2 = datetime(2020,1,21)\r\n",
        "d3 = datetime(2021,1,21)\r\n",
        "\r\n",
        "lst.append(d2)\r\n",
        "lst.append(d1)\r\n",
        "lst.append(d3)\r\n",
        "\r\n",
        "lst.sort()\r\n",
        "lst"
      ],
      "execution_count": null,
      "outputs": [
        {
          "output_type": "execute_result",
          "data": {
            "text/plain": [
              "[datetime.datetime(2019, 1, 21, 0, 0),\n",
              " datetime.datetime(2020, 1, 21, 0, 0),\n",
              " datetime.datetime(2021, 1, 21, 0, 0)]"
            ]
          },
          "metadata": {
            "tags": []
          },
          "execution_count": 22
        }
      ]
    },
    {
      "cell_type": "markdown",
      "metadata": {
        "id": "Z97z4HPnLfnq"
      },
      "source": [
        "###Sleep"
      ]
    },
    {
      "cell_type": "code",
      "metadata": {
        "id": "VP8n-32-DcU1"
      },
      "source": [
        "import time\r\n",
        "time.sleep(3)"
      ],
      "execution_count": null,
      "outputs": []
    },
    {
      "cell_type": "markdown",
      "metadata": {
        "id": "ju3aJEiHLk29"
      },
      "source": [
        "###Execution Time"
      ]
    },
    {
      "cell_type": "code",
      "metadata": {
        "colab": {
          "base_uri": "https://localhost:8080/"
        },
        "id": "h0AmbAM1ESxi",
        "outputId": "8a449df8-d906-464a-eac7-a1b3bf15ff37"
      },
      "source": [
        "# Program Execution Time\r\n",
        "startTime = time.perf_counter()\r\n",
        "\r\n",
        "time.sleep(5)\r\n",
        "\r\n",
        "endTime = time.perf_counter()\r\n",
        "\r\n",
        "executiontime = (endTime - startTime )\r\n",
        "executiontime"
      ],
      "execution_count": null,
      "outputs": [
        {
          "output_type": "execute_result",
          "data": {
            "text/plain": [
              "5.0052147510000395"
            ]
          },
          "metadata": {
            "tags": []
          },
          "execution_count": 38
        }
      ]
    },
    {
      "cell_type": "markdown",
      "metadata": {
        "id": "vwXYt4WZLojU"
      },
      "source": [
        "###Now timestamp"
      ]
    },
    {
      "cell_type": "code",
      "metadata": {
        "colab": {
          "base_uri": "https://localhost:8080/"
        },
        "id": "MSTytlRfFICG",
        "outputId": "a1103fbf-dc4f-4dc1-c21e-c3cd189da8f4"
      },
      "source": [
        "datetime.now()"
      ],
      "execution_count": null,
      "outputs": [
        {
          "output_type": "execute_result",
          "data": {
            "text/plain": [
              "datetime.datetime(2021, 1, 21, 22, 47, 13, 964899)"
            ]
          },
          "metadata": {
            "tags": []
          },
          "execution_count": 43
        }
      ]
    },
    {
      "cell_type": "markdown",
      "metadata": {
        "id": "GiXsFwecLtku"
      },
      "source": [
        "### Usage"
      ]
    },
    {
      "cell_type": "code",
      "metadata": {
        "colab": {
          "base_uri": "https://localhost:8080/"
        },
        "id": "hdSnkfFUHDon",
        "outputId": "c2987a3f-48ea-4952-df89-ddac1506991f"
      },
      "source": [
        "def validatecard(exp_date):\r\n",
        "  if exp_date>datetime.now().date():\r\n",
        "    print(\"Valid Card\")\r\n",
        "  else:\r\n",
        "    print(\"Invalid Card\")\r\n",
        "\r\n",
        "validatecard(date(2022,1,1))"
      ],
      "execution_count": null,
      "outputs": [
        {
          "output_type": "stream",
          "text": [
            "Valid Card\n"
          ],
          "name": "stdout"
        }
      ]
    },
    {
      "cell_type": "code",
      "metadata": {
        "id": "8e1uTpPCHmw5"
      },
      "source": [
        ""
      ],
      "execution_count": null,
      "outputs": []
    }
  ]
}
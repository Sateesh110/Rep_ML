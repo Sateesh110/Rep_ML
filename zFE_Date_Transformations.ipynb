{
  "nbformat": 4,
  "nbformat_minor": 0,
  "metadata": {
    "colab": {
      "name": "zFE_Date_Transformations.ipynb",
      "provenance": [],
      "toc_visible": true,
      "authorship_tag": "ABX9TyMOlHfiP/Mq4MiBmACswz2R",
      "include_colab_link": true
    },
    "kernelspec": {
      "name": "python3",
      "display_name": "Python 3"
    }
  },
  "cells": [
    {
      "cell_type": "markdown",
      "metadata": {
        "id": "view-in-github",
        "colab_type": "text"
      },
      "source": [
        "<a href=\"https://colab.research.google.com/github/Sateesh110/Rep_ML/blob/master/zFE_Date_Transformations.ipynb\" target=\"_parent\"><img src=\"https://colab.research.google.com/assets/colab-badge.svg\" alt=\"Open In Colab\"/></a>"
      ]
    },
    {
      "cell_type": "markdown",
      "metadata": {
        "id": "tNdRZT0ml4zz"
      },
      "source": [
        "#Import Packages"
      ]
    },
    {
      "cell_type": "code",
      "metadata": {
        "id": "76NhELA4l9BK"
      },
      "source": [
        "import pandas as pd\r\n",
        "import numpy as np"
      ],
      "execution_count": 66,
      "outputs": []
    },
    {
      "cell_type": "markdown",
      "metadata": {
        "id": "KLj8QceFl_94"
      },
      "source": [
        "#Get Data"
      ]
    },
    {
      "cell_type": "code",
      "metadata": {
        "colab": {
          "base_uri": "https://localhost:8080/"
        },
        "id": "kggjLLy2l--L",
        "outputId": "1a7bac9b-7901-42d1-f197-622787e92af7"
      },
      "source": [
        "# create a series with the ranges\r\n",
        "#T-Time frequency, D-Day, M-Month, Y-Year\r\n",
        "y = pd.date_range('01.01.2021', periods=12, freq='Y')\r\n",
        "print(y)\r\n",
        "\r\n",
        "m = pd.date_range('01.01.2021', periods=12, freq='M')\r\n",
        "t = pd.date_range('01.01.2021', periods=12, freq='T')\r\n",
        "d = pd.date_range('01.01.2021', periods=12, freq='D')\r\n",
        "q = pd.date_range('01.01.2021', periods=12, freq='Q')\r\n"
      ],
      "execution_count": 70,
      "outputs": [
        {
          "output_type": "stream",
          "text": [
            "DatetimeIndex(['2021-12-31', '2022-12-31', '2023-12-31', '2024-12-31',\n",
            "               '2025-12-31', '2026-12-31', '2027-12-31', '2028-12-31',\n",
            "               '2029-12-31', '2030-12-31', '2031-12-31', '2032-12-31'],\n",
            "              dtype='datetime64[ns]', freq='A-DEC')\n"
          ],
          "name": "stdout"
        }
      ]
    },
    {
      "cell_type": "code",
      "metadata": {
        "colab": {
          "base_uri": "https://localhost:8080/"
        },
        "id": "vtJB9BX_mN1t",
        "outputId": "222d5e33-5b44-45a2-eb00-c7bfdb3b15c4"
      },
      "source": [
        "df1 = pd.DataFrame({\"zDate\":y})\r\n",
        "df2 = pd.DataFrame({\"zDate\":m})\r\n",
        "df3 = pd.DataFrame({\"zDate\":t})\r\n",
        "df4 = pd.DataFrame({\"zDate\":d})\r\n",
        "df5 = pd.DataFrame({\"zDate\":q})\r\n",
        "lst = [df1,df2,df3,df4,df5]\r\n",
        "df = pd.concat(lst)\r\n",
        "print(f'# of records :{len(df)}')\r\n",
        "print(df.head(3))\r\n"
      ],
      "execution_count": 88,
      "outputs": [
        {
          "output_type": "stream",
          "text": [
            "# of records :60\n",
            "       zDate\n",
            "0 2021-12-31\n",
            "1 2022-12-31\n",
            "2 2023-12-31\n"
          ],
          "name": "stdout"
        }
      ]
    },
    {
      "cell_type": "code",
      "metadata": {
        "colab": {
          "base_uri": "https://localhost:8080/"
        },
        "id": "_Tbq-LzXotdT",
        "outputId": "a2fd1113-adb0-4b37-eb0e-0f9aec7ad677"
      },
      "source": [
        "# attributes & data types\r\n",
        "df.dtypes"
      ],
      "execution_count": 89,
      "outputs": [
        {
          "output_type": "execute_result",
          "data": {
            "text/plain": [
              "zDate    datetime64[ns]\n",
              "dtype: object"
            ]
          },
          "metadata": {
            "tags": []
          },
          "execution_count": 89
        }
      ]
    },
    {
      "cell_type": "markdown",
      "metadata": {
        "id": "olv9aV2qwlST"
      },
      "source": [
        "#Date Transformations"
      ]
    },
    {
      "cell_type": "markdown",
      "metadata": {
        "id": "HfxBsTsNwqQk"
      },
      "source": [
        "##Get Date"
      ]
    },
    {
      "cell_type": "code",
      "metadata": {
        "colab": {
          "base_uri": "https://localhost:8080/",
          "height": 106
        },
        "id": "nrSeIg6Culp4",
        "outputId": "d92ce2b7-711b-4f8c-e1b9-2ca4d0f746f9"
      },
      "source": [
        "df['date_part'] = df['zDate'].dt.date\r\n",
        "df.head(2)"
      ],
      "execution_count": 90,
      "outputs": [
        {
          "output_type": "execute_result",
          "data": {
            "text/html": [
              "<div>\n",
              "<style scoped>\n",
              "    .dataframe tbody tr th:only-of-type {\n",
              "        vertical-align: middle;\n",
              "    }\n",
              "\n",
              "    .dataframe tbody tr th {\n",
              "        vertical-align: top;\n",
              "    }\n",
              "\n",
              "    .dataframe thead th {\n",
              "        text-align: right;\n",
              "    }\n",
              "</style>\n",
              "<table border=\"1\" class=\"dataframe\">\n",
              "  <thead>\n",
              "    <tr style=\"text-align: right;\">\n",
              "      <th></th>\n",
              "      <th>zDate</th>\n",
              "      <th>date_part</th>\n",
              "    </tr>\n",
              "  </thead>\n",
              "  <tbody>\n",
              "    <tr>\n",
              "      <th>0</th>\n",
              "      <td>2021-12-31</td>\n",
              "      <td>2021-12-31</td>\n",
              "    </tr>\n",
              "    <tr>\n",
              "      <th>1</th>\n",
              "      <td>2022-12-31</td>\n",
              "      <td>2022-12-31</td>\n",
              "    </tr>\n",
              "  </tbody>\n",
              "</table>\n",
              "</div>"
            ],
            "text/plain": [
              "       zDate   date_part\n",
              "0 2021-12-31  2021-12-31\n",
              "1 2022-12-31  2022-12-31"
            ]
          },
          "metadata": {
            "tags": []
          },
          "execution_count": 90
        }
      ]
    },
    {
      "cell_type": "markdown",
      "metadata": {
        "id": "gS05GX6YxbH_"
      },
      "source": [
        "##Get Day|Month|Year|Quarter|Week|Semister"
      ]
    },
    {
      "cell_type": "code",
      "metadata": {
        "colab": {
          "base_uri": "https://localhost:8080/",
          "height": 191
        },
        "id": "442PWbs9w-xH",
        "outputId": "4f441f67-8217-4914-a00d-642e981fc154"
      },
      "source": [
        "df[\"day\"]=df['zDate'].dt.day\r\n",
        "df[\"week\"]=df['zDate'].dt.weekofyear\r\n",
        "df[\"month\"]=df['zDate'].dt.month\r\n",
        "df[\"quarter\"]=df['zDate'].dt.quarter\r\n",
        "df[\"year\"]=df['zDate'].dt.year\r\n",
        "df[\"time\"]=df['zDate'].dt.time\r\n",
        "df['day_week'] = df['zDate'].dt.dayofweek\r\n",
        "#df['day_week_name'] = df['zDate'].dt.day_week_name\r\n",
        "df.head(3)"
      ],
      "execution_count": 91,
      "outputs": [
        {
          "output_type": "stream",
          "text": [
            "/usr/local/lib/python3.6/dist-packages/ipykernel_launcher.py:2: FutureWarning: Series.dt.weekofyear and Series.dt.week have been deprecated.  Please use Series.dt.isocalendar().week instead.\n",
            "  \n"
          ],
          "name": "stderr"
        },
        {
          "output_type": "execute_result",
          "data": {
            "text/html": [
              "<div>\n",
              "<style scoped>\n",
              "    .dataframe tbody tr th:only-of-type {\n",
              "        vertical-align: middle;\n",
              "    }\n",
              "\n",
              "    .dataframe tbody tr th {\n",
              "        vertical-align: top;\n",
              "    }\n",
              "\n",
              "    .dataframe thead th {\n",
              "        text-align: right;\n",
              "    }\n",
              "</style>\n",
              "<table border=\"1\" class=\"dataframe\">\n",
              "  <thead>\n",
              "    <tr style=\"text-align: right;\">\n",
              "      <th></th>\n",
              "      <th>zDate</th>\n",
              "      <th>date_part</th>\n",
              "      <th>day</th>\n",
              "      <th>week</th>\n",
              "      <th>month</th>\n",
              "      <th>quarter</th>\n",
              "      <th>year</th>\n",
              "      <th>time</th>\n",
              "      <th>day_week</th>\n",
              "    </tr>\n",
              "  </thead>\n",
              "  <tbody>\n",
              "    <tr>\n",
              "      <th>0</th>\n",
              "      <td>2021-12-31</td>\n",
              "      <td>2021-12-31</td>\n",
              "      <td>31</td>\n",
              "      <td>52</td>\n",
              "      <td>12</td>\n",
              "      <td>4</td>\n",
              "      <td>2021</td>\n",
              "      <td>00:00:00</td>\n",
              "      <td>4</td>\n",
              "    </tr>\n",
              "    <tr>\n",
              "      <th>1</th>\n",
              "      <td>2022-12-31</td>\n",
              "      <td>2022-12-31</td>\n",
              "      <td>31</td>\n",
              "      <td>52</td>\n",
              "      <td>12</td>\n",
              "      <td>4</td>\n",
              "      <td>2022</td>\n",
              "      <td>00:00:00</td>\n",
              "      <td>5</td>\n",
              "    </tr>\n",
              "    <tr>\n",
              "      <th>2</th>\n",
              "      <td>2023-12-31</td>\n",
              "      <td>2023-12-31</td>\n",
              "      <td>31</td>\n",
              "      <td>52</td>\n",
              "      <td>12</td>\n",
              "      <td>4</td>\n",
              "      <td>2023</td>\n",
              "      <td>00:00:00</td>\n",
              "      <td>6</td>\n",
              "    </tr>\n",
              "  </tbody>\n",
              "</table>\n",
              "</div>"
            ],
            "text/plain": [
              "       zDate   date_part  day  week  month  quarter  year      time  day_week\n",
              "0 2021-12-31  2021-12-31   31    52     12        4  2021  00:00:00         4\n",
              "1 2022-12-31  2022-12-31   31    52     12        4  2022  00:00:00         5\n",
              "2 2023-12-31  2023-12-31   31    52     12        4  2023  00:00:00         6"
            ]
          },
          "metadata": {
            "tags": []
          },
          "execution_count": 91
        }
      ]
    },
    {
      "cell_type": "code",
      "metadata": {
        "colab": {
          "base_uri": "https://localhost:8080/",
          "height": 136
        },
        "id": "1Uc1FihI1n3Y",
        "outputId": "80b471d5-109f-4d45-97ef-883a44b40c61"
      },
      "source": [
        "# extract semester\r\n",
        "df['semester'] = np.where(df['quarter'].isin([1,2]), 1,2)\r\n",
        "\r\n",
        "df.head(3)"
      ],
      "execution_count": 92,
      "outputs": [
        {
          "output_type": "execute_result",
          "data": {
            "text/html": [
              "<div>\n",
              "<style scoped>\n",
              "    .dataframe tbody tr th:only-of-type {\n",
              "        vertical-align: middle;\n",
              "    }\n",
              "\n",
              "    .dataframe tbody tr th {\n",
              "        vertical-align: top;\n",
              "    }\n",
              "\n",
              "    .dataframe thead th {\n",
              "        text-align: right;\n",
              "    }\n",
              "</style>\n",
              "<table border=\"1\" class=\"dataframe\">\n",
              "  <thead>\n",
              "    <tr style=\"text-align: right;\">\n",
              "      <th></th>\n",
              "      <th>zDate</th>\n",
              "      <th>date_part</th>\n",
              "      <th>day</th>\n",
              "      <th>week</th>\n",
              "      <th>month</th>\n",
              "      <th>quarter</th>\n",
              "      <th>year</th>\n",
              "      <th>time</th>\n",
              "      <th>day_week</th>\n",
              "      <th>semester</th>\n",
              "    </tr>\n",
              "  </thead>\n",
              "  <tbody>\n",
              "    <tr>\n",
              "      <th>0</th>\n",
              "      <td>2021-12-31</td>\n",
              "      <td>2021-12-31</td>\n",
              "      <td>31</td>\n",
              "      <td>52</td>\n",
              "      <td>12</td>\n",
              "      <td>4</td>\n",
              "      <td>2021</td>\n",
              "      <td>00:00:00</td>\n",
              "      <td>4</td>\n",
              "      <td>2</td>\n",
              "    </tr>\n",
              "    <tr>\n",
              "      <th>1</th>\n",
              "      <td>2022-12-31</td>\n",
              "      <td>2022-12-31</td>\n",
              "      <td>31</td>\n",
              "      <td>52</td>\n",
              "      <td>12</td>\n",
              "      <td>4</td>\n",
              "      <td>2022</td>\n",
              "      <td>00:00:00</td>\n",
              "      <td>5</td>\n",
              "      <td>2</td>\n",
              "    </tr>\n",
              "    <tr>\n",
              "      <th>2</th>\n",
              "      <td>2023-12-31</td>\n",
              "      <td>2023-12-31</td>\n",
              "      <td>31</td>\n",
              "      <td>52</td>\n",
              "      <td>12</td>\n",
              "      <td>4</td>\n",
              "      <td>2023</td>\n",
              "      <td>00:00:00</td>\n",
              "      <td>6</td>\n",
              "      <td>2</td>\n",
              "    </tr>\n",
              "  </tbody>\n",
              "</table>\n",
              "</div>"
            ],
            "text/plain": [
              "       zDate   date_part  day  week  ...  year      time  day_week semester\n",
              "0 2021-12-31  2021-12-31   31    52  ...  2021  00:00:00         4        2\n",
              "1 2022-12-31  2022-12-31   31    52  ...  2022  00:00:00         5        2\n",
              "2 2023-12-31  2023-12-31   31    52  ...  2023  00:00:00         6        2\n",
              "\n",
              "[3 rows x 10 columns]"
            ]
          },
          "metadata": {
            "tags": []
          },
          "execution_count": 92
        }
      ]
    },
    {
      "cell_type": "markdown",
      "metadata": {
        "id": "toFB_XQDzwwm"
      },
      "source": [
        "##Convert to Datetime column"
      ]
    },
    {
      "cell_type": "code",
      "metadata": {
        "colab": {
          "base_uri": "https://localhost:8080/",
          "height": 136
        },
        "id": "lbaYw0_Cx-nj",
        "outputId": "57934749-d401-4117-e973-0369b8a283d3"
      },
      "source": [
        "df2 = pd.DataFrame({\"zDate2\":[\"Jan-2021\",\"Feb-2021\",\"Mar-2021\",\"Apr-2021\",\"May-2021\",\"Jun-2021\"]})\r\n",
        "\r\n",
        "# Convert colume to datetime column\r\n",
        "df[\"zDate_New\"] = pd.to_datetime(df2[\"zDate2\"])\r\n",
        "df.head(3)"
      ],
      "execution_count": 93,
      "outputs": [
        {
          "output_type": "execute_result",
          "data": {
            "text/html": [
              "<div>\n",
              "<style scoped>\n",
              "    .dataframe tbody tr th:only-of-type {\n",
              "        vertical-align: middle;\n",
              "    }\n",
              "\n",
              "    .dataframe tbody tr th {\n",
              "        vertical-align: top;\n",
              "    }\n",
              "\n",
              "    .dataframe thead th {\n",
              "        text-align: right;\n",
              "    }\n",
              "</style>\n",
              "<table border=\"1\" class=\"dataframe\">\n",
              "  <thead>\n",
              "    <tr style=\"text-align: right;\">\n",
              "      <th></th>\n",
              "      <th>zDate</th>\n",
              "      <th>date_part</th>\n",
              "      <th>day</th>\n",
              "      <th>week</th>\n",
              "      <th>month</th>\n",
              "      <th>quarter</th>\n",
              "      <th>year</th>\n",
              "      <th>time</th>\n",
              "      <th>day_week</th>\n",
              "      <th>semester</th>\n",
              "      <th>zDate_New</th>\n",
              "    </tr>\n",
              "  </thead>\n",
              "  <tbody>\n",
              "    <tr>\n",
              "      <th>0</th>\n",
              "      <td>2021-12-31</td>\n",
              "      <td>2021-12-31</td>\n",
              "      <td>31</td>\n",
              "      <td>52</td>\n",
              "      <td>12</td>\n",
              "      <td>4</td>\n",
              "      <td>2021</td>\n",
              "      <td>00:00:00</td>\n",
              "      <td>4</td>\n",
              "      <td>2</td>\n",
              "      <td>2021-01-01</td>\n",
              "    </tr>\n",
              "    <tr>\n",
              "      <th>1</th>\n",
              "      <td>2022-12-31</td>\n",
              "      <td>2022-12-31</td>\n",
              "      <td>31</td>\n",
              "      <td>52</td>\n",
              "      <td>12</td>\n",
              "      <td>4</td>\n",
              "      <td>2022</td>\n",
              "      <td>00:00:00</td>\n",
              "      <td>5</td>\n",
              "      <td>2</td>\n",
              "      <td>2021-02-01</td>\n",
              "    </tr>\n",
              "    <tr>\n",
              "      <th>2</th>\n",
              "      <td>2023-12-31</td>\n",
              "      <td>2023-12-31</td>\n",
              "      <td>31</td>\n",
              "      <td>52</td>\n",
              "      <td>12</td>\n",
              "      <td>4</td>\n",
              "      <td>2023</td>\n",
              "      <td>00:00:00</td>\n",
              "      <td>6</td>\n",
              "      <td>2</td>\n",
              "      <td>2021-03-01</td>\n",
              "    </tr>\n",
              "  </tbody>\n",
              "</table>\n",
              "</div>"
            ],
            "text/plain": [
              "       zDate   date_part  day  week  ...      time  day_week  semester  zDate_New\n",
              "0 2021-12-31  2021-12-31   31    52  ...  00:00:00         4         2 2021-01-01\n",
              "1 2022-12-31  2022-12-31   31    52  ...  00:00:00         5         2 2021-02-01\n",
              "2 2023-12-31  2023-12-31   31    52  ...  00:00:00         6         2 2021-03-01\n",
              "\n",
              "[3 rows x 11 columns]"
            ]
          },
          "metadata": {
            "tags": []
          },
          "execution_count": 93
        }
      ]
    },
    {
      "cell_type": "code",
      "metadata": {
        "colab": {
          "base_uri": "https://localhost:8080/"
        },
        "id": "xN-U1PCe0WzC",
        "outputId": "0171a944-0c2b-488b-d039-ee0539ccfa2d"
      },
      "source": [
        "df.dtypes"
      ],
      "execution_count": 94,
      "outputs": [
        {
          "output_type": "execute_result",
          "data": {
            "text/plain": [
              "zDate        datetime64[ns]\n",
              "date_part            object\n",
              "day                   int64\n",
              "week                  int64\n",
              "month                 int64\n",
              "quarter               int64\n",
              "year                  int64\n",
              "time                 object\n",
              "day_week              int64\n",
              "semester              int64\n",
              "zDate_New    datetime64[ns]\n",
              "dtype: object"
            ]
          },
          "metadata": {
            "tags": []
          },
          "execution_count": 94
        }
      ]
    },
    {
      "cell_type": "markdown",
      "metadata": {
        "id": "n8vcu7JP9OAK"
      },
      "source": [
        "##Weekend or not?"
      ]
    },
    {
      "cell_type": "code",
      "metadata": {
        "colab": {
          "base_uri": "https://localhost:8080/",
          "height": 195
        },
        "id": "8V9sHa8m1VNT",
        "outputId": "7d948347-1f68-44e1-827b-dd67c6adf851"
      },
      "source": [
        "# is it weekend?\r\n",
        "# df['is_weekend'] = np.where(df['day_week_name'].isin(['Sunday', 'Saturday']), 1,0)\r\n",
        "\r\n",
        "df['is_weekend'] = np.where(df['day_week'].isin([6, 0]), 1,0)\r\n",
        "df.head()"
      ],
      "execution_count": 95,
      "outputs": [
        {
          "output_type": "execute_result",
          "data": {
            "text/html": [
              "<div>\n",
              "<style scoped>\n",
              "    .dataframe tbody tr th:only-of-type {\n",
              "        vertical-align: middle;\n",
              "    }\n",
              "\n",
              "    .dataframe tbody tr th {\n",
              "        vertical-align: top;\n",
              "    }\n",
              "\n",
              "    .dataframe thead th {\n",
              "        text-align: right;\n",
              "    }\n",
              "</style>\n",
              "<table border=\"1\" class=\"dataframe\">\n",
              "  <thead>\n",
              "    <tr style=\"text-align: right;\">\n",
              "      <th></th>\n",
              "      <th>zDate</th>\n",
              "      <th>date_part</th>\n",
              "      <th>day</th>\n",
              "      <th>week</th>\n",
              "      <th>month</th>\n",
              "      <th>quarter</th>\n",
              "      <th>year</th>\n",
              "      <th>time</th>\n",
              "      <th>day_week</th>\n",
              "      <th>semester</th>\n",
              "      <th>zDate_New</th>\n",
              "      <th>is_weekend</th>\n",
              "    </tr>\n",
              "  </thead>\n",
              "  <tbody>\n",
              "    <tr>\n",
              "      <th>0</th>\n",
              "      <td>2021-12-31</td>\n",
              "      <td>2021-12-31</td>\n",
              "      <td>31</td>\n",
              "      <td>52</td>\n",
              "      <td>12</td>\n",
              "      <td>4</td>\n",
              "      <td>2021</td>\n",
              "      <td>00:00:00</td>\n",
              "      <td>4</td>\n",
              "      <td>2</td>\n",
              "      <td>2021-01-01</td>\n",
              "      <td>0</td>\n",
              "    </tr>\n",
              "    <tr>\n",
              "      <th>1</th>\n",
              "      <td>2022-12-31</td>\n",
              "      <td>2022-12-31</td>\n",
              "      <td>31</td>\n",
              "      <td>52</td>\n",
              "      <td>12</td>\n",
              "      <td>4</td>\n",
              "      <td>2022</td>\n",
              "      <td>00:00:00</td>\n",
              "      <td>5</td>\n",
              "      <td>2</td>\n",
              "      <td>2021-02-01</td>\n",
              "      <td>0</td>\n",
              "    </tr>\n",
              "    <tr>\n",
              "      <th>2</th>\n",
              "      <td>2023-12-31</td>\n",
              "      <td>2023-12-31</td>\n",
              "      <td>31</td>\n",
              "      <td>52</td>\n",
              "      <td>12</td>\n",
              "      <td>4</td>\n",
              "      <td>2023</td>\n",
              "      <td>00:00:00</td>\n",
              "      <td>6</td>\n",
              "      <td>2</td>\n",
              "      <td>2021-03-01</td>\n",
              "      <td>1</td>\n",
              "    </tr>\n",
              "    <tr>\n",
              "      <th>3</th>\n",
              "      <td>2024-12-31</td>\n",
              "      <td>2024-12-31</td>\n",
              "      <td>31</td>\n",
              "      <td>1</td>\n",
              "      <td>12</td>\n",
              "      <td>4</td>\n",
              "      <td>2024</td>\n",
              "      <td>00:00:00</td>\n",
              "      <td>1</td>\n",
              "      <td>2</td>\n",
              "      <td>2021-04-01</td>\n",
              "      <td>0</td>\n",
              "    </tr>\n",
              "    <tr>\n",
              "      <th>4</th>\n",
              "      <td>2025-12-31</td>\n",
              "      <td>2025-12-31</td>\n",
              "      <td>31</td>\n",
              "      <td>1</td>\n",
              "      <td>12</td>\n",
              "      <td>4</td>\n",
              "      <td>2025</td>\n",
              "      <td>00:00:00</td>\n",
              "      <td>2</td>\n",
              "      <td>2</td>\n",
              "      <td>2021-05-01</td>\n",
              "      <td>0</td>\n",
              "    </tr>\n",
              "  </tbody>\n",
              "</table>\n",
              "</div>"
            ],
            "text/plain": [
              "       zDate   date_part  day  week  ...  day_week  semester  zDate_New is_weekend\n",
              "0 2021-12-31  2021-12-31   31    52  ...         4         2 2021-01-01          0\n",
              "1 2022-12-31  2022-12-31   31    52  ...         5         2 2021-02-01          0\n",
              "2 2023-12-31  2023-12-31   31    52  ...         6         2 2021-03-01          1\n",
              "3 2024-12-31  2024-12-31   31     1  ...         1         2 2021-04-01          0\n",
              "4 2025-12-31  2025-12-31   31     1  ...         2         2 2021-05-01          0\n",
              "\n",
              "[5 rows x 12 columns]"
            ]
          },
          "metadata": {
            "tags": []
          },
          "execution_count": 95
        }
      ]
    },
    {
      "cell_type": "code",
      "metadata": {
        "id": "Q4VLcvZE9J7C"
      },
      "source": [
        ""
      ],
      "execution_count": null,
      "outputs": []
    }
  ]
}